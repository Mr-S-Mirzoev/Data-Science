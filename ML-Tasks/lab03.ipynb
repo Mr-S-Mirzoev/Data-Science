{
 "cells": [
  {
   "cell_type": "markdown",
   "metadata": {
    "colab_type": "text",
    "id": "view-in-github"
   },
   "source": [
    "<a href=\"https://colab.research.google.com/github/Mr-S-Mirzoev/ML-Data/blob/main/lab03.ipynb\" target=\"_parent\"><img src=\"https://colab.research.google.com/assets/colab-badge.svg\" alt=\"Open In Colab\"/></a>"
   ]
  },
  {
   "cell_type": "markdown",
   "metadata": {
    "id": "XsBVRUMB5Msu"
   },
   "source": [
    "# Лабораторно-конкурсная работа 3. Композиции алгоритмов. Ранжирование.\n",
    "\n",
    "Данная работа состоит из двух этапов: лабораторного и конкурсного. Для обоих используется один и тот же набор данных, который вы можете найти в описании первого конкурсного задания на kaggle.\n",
    "\n",
    "Результат лабораторной работы − отчет. Мы предпочитаем принимать отчеты в формате ноутбуков IPython (ipynb-файл). Постарайтесь сделать ваш отчет интересным рассказом, последовательно отвечающим на вопросы из заданий. Помимо ответов на вопросы, в отчете так же должен быть код, однако чем меньше кода, тем лучше всем: нам − меньше проверять, вам — проще найти ошибку или дополнить эксперимент. При проверке оценивается четкость ответов на вопросы, аккуратность отчета и кода.\n",
    "\n",
    "Наиболее предпочтительный подход к решению «лабоконкурса» - проделать предлагаемые лабораторные задания, а затем приступить к участию в конкурсном этапе. Это позволит вам перед участием в конкурсе познакомиться с представленными данными, освоить полезные приемы для улучшения качества, получить бейзлайн решение и глубже вникнуть в суть темы. \n",
    "\n",
    "Однако, мы не запрещаем вам выполнить только один из двух этапов: вы можете проделать лабораторные исследования и не участвовать в конкурсе или же пропустить лабораторную часть и сразу заняться соревновательной.\n",
    "\n",
    "Мы не предоставляем код бейзлайн решения конкурса. Идеи для бейзлайна вы можете почерпнуть из заданий лабораторной части.\n",
    "\n",
    "### Оценивание и штрафы\n",
    "Каждая из задач имеет определенную «стоимость» (указана в скобках около задачи). Максимально допустимая оценка за работу — 15 баллов. Сдавать задание после указанного срока сдачи нельзя. «Похожие» решения считаются плагиатом и все задействованные студенты (в том числе те, у кого списали) не могут получить за него больше 0 баллов и понижают карму (подробнее о плагиате см. на странице курса). Если вы нашли решение какого-то из заданий в открытом источнике, необходимо прислать ссылку на этот источник (скорее всего вы будете не единственным, кто это нашел, поэтому чтобы исключить подозрение в плагиате, нам необходима ссылка на источник).\n",
    "\n",
    "Преодоление medium baseline на kaggle дает вам 5 баллов за конкурс. Если вы выполните задания из лабораторной, то пробить medium baseline для вас не составит труда.\n",
    "\n",
    "### Правила сдачи\n",
    "Выполненную работу следует отправить в систему Anytask. Более подробно о системе можно почитать на странице курса. Название отправляемого файла должно иметь следующий формат: Surname_Name_Group_NN.ipynb, где NN — номер лабораторной работы. Например, Kozlova_Anna_CS_02.ipynb."
   ]
  },
  {
   "cell_type": "markdown",
   "metadata": {
    "id": "ONv5co9H5Q6i"
   },
   "source": [
    "### Preloading"
   ]
  },
  {
   "cell_type": "code",
   "execution_count": 2,
   "metadata": {
    "colab": {
     "base_uri": "https://localhost:8080/"
    },
    "id": "WVO_8xtR5l7X",
    "outputId": "8b5f59e3-aafa-4975-94cd-ee1ff35729bd"
   },
   "outputs": [],
   "source": [
    "%%bash\n",
    "\n",
    "[ -d \"test_data/task3\" ] || (mkdir -p test_data/task3 && unzip zip/competition-2-shad-fall-2018.zip -d test_data/task3)"
   ]
  },
  {
   "cell_type": "code",
   "execution_count": 3,
   "metadata": {
    "colab": {
     "base_uri": "https://localhost:8080/"
    },
    "id": "Ek7NEEX07z80",
    "outputId": "6452ba95-cc8b-49ea-ebce-940728d19eed"
   },
   "outputs": [
    {
     "name": "stdout",
     "output_type": "stream",
     "text": [
      "C:\\Users\\mirzoev_s\\Yandex-Data-Analysis-School\\ML-Tasks\\test_data\\task3\n"
     ]
    }
   ],
   "source": [
    "%cd test_data/task3"
   ]
  },
  {
   "cell_type": "code",
   "execution_count": 4,
   "metadata": {},
   "outputs": [
    {
     "name": "stdout",
     "output_type": "stream",
     "text": [
      "total 480544\n",
      "drwxrwxrwx 1 sergey_mirzoev sergey_mirzoev      4096 May 12 23:51 .\n",
      "drwxrwxrwx 1 sergey_mirzoev sergey_mirzoev      4096 May 12 23:38 ..\n",
      "-rwxrwxrwx 1 sergey_mirzoev sergey_mirzoev   2145018 Dec  1  2019 test.csv\n",
      "-rwxrwxrwx 1 sergey_mirzoev sergey_mirzoev 170566642 Oct 29  2017 test_clicks_information.json\n",
      "-rwxrwxrwx 1 sergey_mirzoev sergey_mirzoev  13269408 Dec  1  2019 test_clicks_information.json.zip\n",
      "-rwxrwxrwx 1 sergey_mirzoev sergey_mirzoev  29889433 Oct 29  2017 test_org_information.json\n",
      "-rwxrwxrwx 1 sergey_mirzoev sergey_mirzoev   2356291 Dec  1  2019 test_org_information.json.zip\n",
      "-rwxrwxrwx 1 sergey_mirzoev sergey_mirzoev   9795149 Oct 29  2017 test_rubric_information.json\n",
      "-rwxrwxrwx 1 sergey_mirzoev sergey_mirzoev    791854 Dec  1  2019 test_rubric_information.json.zip\n",
      "-rwxrwxrwx 1 sergey_mirzoev sergey_mirzoev   4360995 Dec  1  2019 train.csv\n",
      "-rwxrwxrwx 1 sergey_mirzoev sergey_mirzoev 170914592 Oct 17  2017 train_clicks_information.json\n",
      "-rwxrwxrwx 1 sergey_mirzoev sergey_mirzoev  14276300 Dec  1  2019 train_clicks_information.zip\n",
      "-rwxrwxrwx 1 sergey_mirzoev sergey_mirzoev  57726717 Oct 17  2017 train_org_information.json\n",
      "-rwxrwxrwx 1 sergey_mirzoev sergey_mirzoev   4586335 Dec  1  2019 train_org_information.zip\n",
      "-rwxrwxrwx 1 sergey_mirzoev sergey_mirzoev  10513420 Oct 17  2017 train_rubric_information.json\n",
      "-rwxrwxrwx 1 sergey_mirzoev sergey_mirzoev    852617 Dec  1  2019 train_rubric_information.zip\n"
     ]
    }
   ],
   "source": [
    "%%bash\n",
    "\n",
    "ls -al"
   ]
  },
  {
   "cell_type": "code",
   "execution_count": 5,
   "metadata": {
    "colab": {
     "base_uri": "https://localhost:8080/"
    },
    "id": "R3cYCILV8j8P",
    "outputId": "d8417dd8-696b-4488-efc2-767a774cc330"
   },
   "outputs": [
    {
     "name": "stdout",
     "output_type": "stream",
     "text": [
      "test.csv\n",
      "test_clicks_information.json\n",
      "test_clicks_information.json.zip\n",
      "test_org_information.json\n",
      "test_org_information.json.zip\n",
      "test_rubric_information.json\n",
      "test_rubric_information.json.zip\n",
      "train.csv\n",
      "train_clicks_information.json\n",
      "train_clicks_information.zip\n",
      "train_org_information.json\n",
      "train_org_information.zip\n",
      "train_rubric_information.json\n",
      "train_rubric_information.zip\n",
      "Unziping and removing source test_clicks_information.json.zip\n",
      "Archive:  test_clicks_information.json.zip\n",
      "   creating: __MACOSX/\n",
      "  inflating: __MACOSX/._test_clicks_information.json  \n",
      "Unziping and removing source test_org_information.json.zip\n",
      "Archive:  test_org_information.json.zip\n",
      "  inflating: __MACOSX/._test_org_information.json  \n",
      "Unziping and removing source test_rubric_information.json.zip\n",
      "Archive:  test_rubric_information.json.zip\n",
      "  inflating: __MACOSX/._test_rubric_information.json  \n",
      "Unziping and removing source train_clicks_information.zip\n",
      "Archive:  train_clicks_information.zip\n",
      "Unziping and removing source train_org_information.zip\n",
      "Archive:  train_org_information.zip\n",
      "Unziping and removing source train_rubric_information.zip\n",
      "Archive:  train_rubric_information.zip\n"
     ]
    },
    {
     "name": "stderr",
     "output_type": "stream",
     "text": [
      "replace test_clicks_information.json? [y]es, [n]o, [A]ll, [N]one, [r]ename:  NULL\n",
      "(EOF or read error, treating as \"[N]one\" ...)\n",
      "replace test_org_information.json? [y]es, [n]o, [A]ll, [N]one, [r]ename:  NULL\n",
      "(EOF or read error, treating as \"[N]one\" ...)\n",
      "replace test_rubric_information.json? [y]es, [n]o, [A]ll, [N]one, [r]ename:  NULL\n",
      "(EOF or read error, treating as \"[N]one\" ...)\n",
      "replace train_clicks_information.json? [y]es, [n]o, [A]ll, [N]one, [r]ename:  NULL\n",
      "(EOF or read error, treating as \"[N]one\" ...)\n",
      "replace train_org_information.json? [y]es, [n]o, [A]ll, [N]one, [r]ename:  NULL\n",
      "(EOF or read error, treating as \"[N]one\" ...)\n",
      "replace train_rubric_information.json? [y]es, [n]o, [A]ll, [N]one, [r]ename:  NULL\n",
      "(EOF or read error, treating as \"[N]one\" ...)\n"
     ]
    }
   ],
   "source": [
    "%%bash\n",
    "ls ../../test_data/task3\n",
    "for name in $(ls *.zip); do\n",
    "    echo \"Unziping and removing source $name\" ;\n",
    "    unzip $name ;\n",
    "    rm $name\n",
    "done"
   ]
  },
  {
   "cell_type": "code",
   "execution_count": 6,
   "metadata": {
    "id": "klglXgO99ful"
   },
   "outputs": [
    {
     "name": "stdout",
     "output_type": "stream",
     "text": [
      "test.csv\n",
      "test_clicks_information.json\n",
      "test_org_information.json\n",
      "test_rubric_information.json\n",
      "train.csv\n",
      "train_clicks_information.json\n",
      "train_org_information.json\n",
      "train_rubric_information.json\n"
     ]
    }
   ],
   "source": [
    "%%bash\n",
    "\n",
    "rm -rf MACOSX/ __MACOSX/\n",
    "ls"
   ]
  },
  {
   "cell_type": "markdown",
   "metadata": {
    "id": "a7z6Lini5MtR"
   },
   "source": [
    "**(2 балла) Задание 1.** Загрузите данные о запросах и их релевантности (*train.csv*, *test.csv*), а также информацию об организациях (*train_org_information.json*, *test_org_information.json*) и рубриках (*train_rubric_information.json*, *test_rubric_information.json*)\n",
    "\n",
    "Для дальнейших экспериментов необходимо посчитать небольшой набор базовых факторов. С использованием информации о запросах и организациях, посчитайте факторы, которые на ваш взгляд будут полезными для предсказания релевантности.\n",
    "\n",
    "Примерами текстовых факторов могут служить:\n",
    " - кол-во слов в запросе и названии организации;\n",
    " - пословные/N-граммные пересечения слов запроса и названия организации (также можно использовать синонимы названия организации и адрес организации): кол-во слов в пересечении, [мера Жаккара](https://en.wikipedia.org/wiki/Jaccard_index) и пр.;\n",
    " - кол-во различных синонимичных названий организации (поле *names* в описании организации);\n",
    " - One-hot-encoded язык запроса.\n",
    " \n",
    "По информации о географическом положении:\n",
    " - факт совпадения региона, где задавался запрос и региона организации;\n",
    " - координаты показанной области;\n",
    " - размеры показанной области;\n",
    " - меры, характеризующие близость координат организации к показанному окну: расстояние до центра области и другие.\n",
    " \n",
    "Факторы, описывающие организацию:\n",
    " - one-hot-encoding фактор cтраны или региона организации (важно: не используйте one-hot-encoding факторы, в которых больше 10 значений; если в факторе слишком много значений, ограничьтесь, например, только самыми популярными категориями)\n",
    " - кол-во рабочих дней в неделе и общая продолжительность работы (поле *work_intervals* в описании организации)\n",
    " - кол-во рубрик (поле *rubrics* в описании организации)\n",
    " \n",
    "![](https://miro.medium.com/max/1500/0*FwubnnoNlt6Coo9j.png)\n",
    "\n",
    "В этом задании не нужно использовать многомерные представления текстовой информации (tfidf и прочие embeddings) и информацию о кликах (*train_clicks_information.json*, *test_clicks_information.json*). Придумывать сверхсложные факторы тоже необязательно.\n",
    "\n",
    "Вы можете реализовать описанные выше факторы и/или придумать свои. Для экспериментов в лабораторной - достаточно реализовать предложенное, для победы в конкурсе - вряд ли. Но зачастую такие простые признаки могут приносить наибольшую пользу.\n",
    "\n",
    "В итоге у вас должно получиться от 15 до 50 факторов, характеризующих запрос и организацию и покрывающих основные источники данных (кроме кликов). Это наш основной датасет, который будет использоваться в экспериментах.\n",
    "\n",
    "**Важно**: До раздела *«Ранжирование»* будем считать, **что решается задача *регрессии* (предсказываем абсолютное значение релевантности)**."
   ]
  },
  {
   "cell_type": "code",
   "execution_count": 7,
   "metadata": {
    "colab": {
     "base_uri": "https://localhost:8080/",
     "height": 204
    },
    "id": "hYoYwj3y5MtT",
    "outputId": "a4643180-e03f-4b90-8e53-8dc3d7a3e1d2"
   },
   "outputs": [
    {
     "data": {
      "text/html": [
       "<div>\n",
       "<style scoped>\n",
       "    .dataframe tbody tr th:only-of-type {\n",
       "        vertical-align: middle;\n",
       "    }\n",
       "\n",
       "    .dataframe tbody tr th {\n",
       "        vertical-align: top;\n",
       "    }\n",
       "\n",
       "    .dataframe thead th {\n",
       "        text-align: right;\n",
       "    }\n",
       "</style>\n",
       "<table border=\"1\" class=\"dataframe\">\n",
       "  <thead>\n",
       "    <tr style=\"text-align: right;\">\n",
       "      <th></th>\n",
       "      <th>query_id</th>\n",
       "      <th>query</th>\n",
       "      <th>region</th>\n",
       "      <th>org_name</th>\n",
       "      <th>org_id</th>\n",
       "      <th>window_center</th>\n",
       "      <th>window_size</th>\n",
       "    </tr>\n",
       "  </thead>\n",
       "  <tbody>\n",
       "    <tr>\n",
       "      <th>0</th>\n",
       "      <td>20396</td>\n",
       "      <td>\"Агентство «Созвездие недвижимости предлагает ...</td>\n",
       "      <td>225</td>\n",
       "      <td>Железногорское Агентство недвижимости</td>\n",
       "      <td>1249145086</td>\n",
       "      <td>99.505405,61.698653</td>\n",
       "      <td>171.643239,40.700127</td>\n",
       "    </tr>\n",
       "    <tr>\n",
       "      <th>1</th>\n",
       "      <td>7344</td>\n",
       "      <td>ATM</td>\n",
       "      <td>108058</td>\n",
       "      <td>QNB Finansbank ATM</td>\n",
       "      <td>1187253652</td>\n",
       "      <td>30.783271,40.397587</td>\n",
       "      <td>0.003431,0.003942</td>\n",
       "    </tr>\n",
       "    <tr>\n",
       "      <th>2</th>\n",
       "      <td>17757</td>\n",
       "      <td>oto yıkama</td>\n",
       "      <td>11508</td>\n",
       "      <td>Elit Oto Yıkama &amp; Kuafor</td>\n",
       "      <td>1195278147</td>\n",
       "      <td>29.180056,41.016730</td>\n",
       "      <td>0.054920,0.059811</td>\n",
       "    </tr>\n",
       "    <tr>\n",
       "      <th>3</th>\n",
       "      <td>8870</td>\n",
       "      <td>ресторан</td>\n",
       "      <td>213</td>\n",
       "      <td>Кафе Разные люди</td>\n",
       "      <td>1064538352</td>\n",
       "      <td>37.425925,55.887505</td>\n",
       "      <td>0.080681,0.039410</td>\n",
       "    </tr>\n",
       "    <tr>\n",
       "      <th>4</th>\n",
       "      <td>13055</td>\n",
       "      <td>банки</td>\n",
       "      <td>213</td>\n",
       "      <td>Совкомбанк, отделение</td>\n",
       "      <td>1130294660</td>\n",
       "      <td>37.633948,55.779017</td>\n",
       "      <td>0.022815,0.014827</td>\n",
       "    </tr>\n",
       "  </tbody>\n",
       "</table>\n",
       "</div>"
      ],
      "text/plain": [
       "   query_id                                              query  region  \\\n",
       "0     20396  \"Агентство «Созвездие недвижимости предлагает ...     225   \n",
       "1      7344                                                ATM  108058   \n",
       "2     17757                                         oto yıkama   11508   \n",
       "3      8870                                           ресторан     213   \n",
       "4     13055                                              банки     213   \n",
       "\n",
       "                                org_name      org_id        window_center  \\\n",
       "0  Железногорское Агентство недвижимости  1249145086  99.505405,61.698653   \n",
       "1                     QNB Finansbank ATM  1187253652  30.783271,40.397587   \n",
       "2               Elit Oto Yıkama & Kuafor  1195278147  29.180056,41.016730   \n",
       "3                       Кафе Разные люди  1064538352  37.425925,55.887505   \n",
       "4                  Совкомбанк, отделение  1130294660  37.633948,55.779017   \n",
       "\n",
       "            window_size  \n",
       "0  171.643239,40.700127  \n",
       "1     0.003431,0.003942  \n",
       "2     0.054920,0.059811  \n",
       "3     0.080681,0.039410  \n",
       "4     0.022815,0.014827  "
      ]
     },
     "execution_count": 7,
     "metadata": {},
     "output_type": "execute_result"
    }
   ],
   "source": [
    "import pandas as pd\n",
    "\n",
    "test_df = pd.read_csv (r'test.csv')\n",
    "test_df.head()"
   ]
  },
  {
   "cell_type": "code",
   "execution_count": 8,
   "metadata": {
    "colab": {
     "base_uri": "https://localhost:8080/",
     "height": 204
    },
    "id": "hja7FOXV_GTV",
    "outputId": "23d38904-a689-486a-af97-79fb2cec34ae"
   },
   "outputs": [
    {
     "data": {
      "text/html": [
       "<div>\n",
       "<style scoped>\n",
       "    .dataframe tbody tr th:only-of-type {\n",
       "        vertical-align: middle;\n",
       "    }\n",
       "\n",
       "    .dataframe tbody tr th {\n",
       "        vertical-align: top;\n",
       "    }\n",
       "\n",
       "    .dataframe thead th {\n",
       "        text-align: right;\n",
       "    }\n",
       "</style>\n",
       "<table border=\"1\" class=\"dataframe\">\n",
       "  <thead>\n",
       "    <tr style=\"text-align: right;\">\n",
       "      <th></th>\n",
       "      <th>query_id</th>\n",
       "      <th>query</th>\n",
       "      <th>region</th>\n",
       "      <th>org_name</th>\n",
       "      <th>org_id</th>\n",
       "      <th>window_center</th>\n",
       "      <th>window_size</th>\n",
       "      <th>relevance</th>\n",
       "    </tr>\n",
       "  </thead>\n",
       "  <tbody>\n",
       "    <tr>\n",
       "      <th>0</th>\n",
       "      <td>11</td>\n",
       "      <td>суд, Украина, Днепропетровская область, Днепро...</td>\n",
       "      <td>21775</td>\n",
       "      <td>Суд Жовтневого району міста Дніпропетровськ</td>\n",
       "      <td>1021049127</td>\n",
       "      <td>34.613119,48.506531</td>\n",
       "      <td>0.025928,0.017380</td>\n",
       "      <td>0.0</td>\n",
       "    </tr>\n",
       "    <tr>\n",
       "      <th>1</th>\n",
       "      <td>11</td>\n",
       "      <td>суд, Украина, Днепропетровская область, Днепро...</td>\n",
       "      <td>21775</td>\n",
       "      <td>Дніпропетровський окружний адміністративний суд</td>\n",
       "      <td>1602348889</td>\n",
       "      <td>34.613119,48.506531</td>\n",
       "      <td>0.025928,0.017380</td>\n",
       "      <td>0.0</td>\n",
       "    </tr>\n",
       "    <tr>\n",
       "      <th>2</th>\n",
       "      <td>11</td>\n",
       "      <td>суд, Украина, Днепропетровская область, Днепро...</td>\n",
       "      <td>21775</td>\n",
       "      <td>Бабушкінський районний суд</td>\n",
       "      <td>1105837793</td>\n",
       "      <td>34.613119,48.506531</td>\n",
       "      <td>0.025928,0.017380</td>\n",
       "      <td>0.0</td>\n",
       "    </tr>\n",
       "    <tr>\n",
       "      <th>3</th>\n",
       "      <td>11</td>\n",
       "      <td>суд, Украина, Днепропетровская область, Днепро...</td>\n",
       "      <td>21775</td>\n",
       "      <td>Красногвардійський районний суд</td>\n",
       "      <td>1066267658</td>\n",
       "      <td>34.613119,48.506531</td>\n",
       "      <td>0.025928,0.017380</td>\n",
       "      <td>0.0</td>\n",
       "    </tr>\n",
       "    <tr>\n",
       "      <th>4</th>\n",
       "      <td>11</td>\n",
       "      <td>суд, Украина, Днепропетровская область, Днепро...</td>\n",
       "      <td>21775</td>\n",
       "      <td>Жовтневий суд</td>\n",
       "      <td>1661586235</td>\n",
       "      <td>34.613119,48.506531</td>\n",
       "      <td>0.025928,0.017380</td>\n",
       "      <td>0.0</td>\n",
       "    </tr>\n",
       "  </tbody>\n",
       "</table>\n",
       "</div>"
      ],
      "text/plain": [
       "   query_id                                              query  region  \\\n",
       "0        11  суд, Украина, Днепропетровская область, Днепро...   21775   \n",
       "1        11  суд, Украина, Днепропетровская область, Днепро...   21775   \n",
       "2        11  суд, Украина, Днепропетровская область, Днепро...   21775   \n",
       "3        11  суд, Украина, Днепропетровская область, Днепро...   21775   \n",
       "4        11  суд, Украина, Днепропетровская область, Днепро...   21775   \n",
       "\n",
       "                                          org_name      org_id  \\\n",
       "0      Суд Жовтневого району міста Дніпропетровськ  1021049127   \n",
       "1  Дніпропетровський окружний адміністративний суд  1602348889   \n",
       "2                       Бабушкінський районний суд  1105837793   \n",
       "3                  Красногвардійський районний суд  1066267658   \n",
       "4                                    Жовтневий суд  1661586235   \n",
       "\n",
       "         window_center        window_size  relevance  \n",
       "0  34.613119,48.506531  0.025928,0.017380        0.0  \n",
       "1  34.613119,48.506531  0.025928,0.017380        0.0  \n",
       "2  34.613119,48.506531  0.025928,0.017380        0.0  \n",
       "3  34.613119,48.506531  0.025928,0.017380        0.0  \n",
       "4  34.613119,48.506531  0.025928,0.017380        0.0  "
      ]
     },
     "execution_count": 8,
     "metadata": {},
     "output_type": "execute_result"
    }
   ],
   "source": [
    "train_df = pd.read_csv (r'train.csv')\n",
    "train_df.head()"
   ]
  },
  {
   "cell_type": "code",
   "execution_count": 9,
   "metadata": {
    "colab": {
     "base_uri": "https://localhost:8080/",
     "height": 204
    },
    "id": "4pmzHgWL_U6g",
    "outputId": "e5470ce9-8975-448a-9d0a-e3a105ef21a4"
   },
   "outputs": [
    {
     "data": {
      "text/html": [
       "<div>\n",
       "<style scoped>\n",
       "    .dataframe tbody tr th:only-of-type {\n",
       "        vertical-align: middle;\n",
       "    }\n",
       "\n",
       "    .dataframe tbody tr th {\n",
       "        vertical-align: top;\n",
       "    }\n",
       "\n",
       "    .dataframe thead th {\n",
       "        text-align: right;\n",
       "    }\n",
       "</style>\n",
       "<table border=\"1\" class=\"dataframe\">\n",
       "  <thead>\n",
       "    <tr style=\"text-align: right;\">\n",
       "      <th></th>\n",
       "      <th>1001979904</th>\n",
       "      <th>1776877570</th>\n",
       "      <th>1119059971</th>\n",
       "      <th>1190264840</th>\n",
       "      <th>1736114187</th>\n",
       "      <th>1092943885</th>\n",
       "      <th>1191968787</th>\n",
       "      <th>1228996631</th>\n",
       "      <th>1238695962</th>\n",
       "      <th>1219264540</th>\n",
       "      <th>...</th>\n",
       "      <th>1034715132</th>\n",
       "      <th>1130889194</th>\n",
       "      <th>1797778087</th>\n",
       "      <th>1094418412</th>\n",
       "      <th>1078039890</th>\n",
       "      <th>1731133424</th>\n",
       "      <th>1329304915</th>\n",
       "      <th>1095603540</th>\n",
       "      <th>1004601340</th>\n",
       "      <th>98077635246</th>\n",
       "    </tr>\n",
       "  </thead>\n",
       "  <tbody>\n",
       "    <tr>\n",
       "      <th>names</th>\n",
       "      <td>[{'value': {'locale': 'tr', 'value': 'Camlik I...</td>\n",
       "      <td>[{'value': {'locale': 'en', 'value': 'Strakhov...</td>\n",
       "      <td>[{'value': {'locale': 'en', 'value': 'Mariysky...</td>\n",
       "      <td>[{'value': {'locale': 'en', 'value': 'Detskaya...</td>\n",
       "      <td>[{'value': {'locale': 'en', 'value': 'Amursky ...</td>\n",
       "      <td>[{'value': {'locale': 'en', 'value': 'Neftmagi...</td>\n",
       "      <td>[{'value': {'locale': 'en', 'value': 'Novosibi...</td>\n",
       "      <td>[{'value': {'locale': 'tr', 'value': 'Safir Ot...</td>\n",
       "      <td>[{'value': {'locale': 'tr', 'value': 'Capa Ilk...</td>\n",
       "      <td>[{'value': {'locale': 'en', 'value': 'Turfirma...</td>\n",
       "      <td>...</td>\n",
       "      <td>[{'value': {'locale': 'en', 'value': 'TeploEle...</td>\n",
       "      <td>[{'value': {'locale': 'en', 'value': 'FGAOU Vy...</td>\n",
       "      <td>[{'value': {'locale': 'en', 'value': 'Mar-An'}...</td>\n",
       "      <td>[{'value': {'locale': 'en', 'value': 'MBDOU De...</td>\n",
       "      <td>[{'value': {'locale': 'en', 'value': 'Infoflot...</td>\n",
       "      <td>[{'value': {'locale': 'en', 'value': 'Studiya ...</td>\n",
       "      <td>[{'value': {'locale': 'en', 'value': 'MAO FKS ...</td>\n",
       "      <td>[{'value': {'locale': 'en', 'value': 'Nedorogo...</td>\n",
       "      <td>[{'value': {'locale': 'en', 'value': 'RosEvroB...</td>\n",
       "      <td>[{'value': {'locale': 'ru', 'value': 'ММП Мисн...</td>\n",
       "    </tr>\n",
       "    <tr>\n",
       "      <th>rubrics</th>\n",
       "      <td>[30903, 31663]</td>\n",
       "      <td>[30364, 30365, 30366, 30412]</td>\n",
       "      <td>[30166, 30177, 30181]</td>\n",
       "      <td>[30057]</td>\n",
       "      <td>[30309]</td>\n",
       "      <td>[20271]</td>\n",
       "      <td>[30309]</td>\n",
       "      <td>[30785]</td>\n",
       "      <td>[30703, 31663]</td>\n",
       "      <td>[30793, 30794, 30795]</td>\n",
       "      <td>...</td>\n",
       "      <td>[30991]</td>\n",
       "      <td>[30777, 31580]</td>\n",
       "      <td>[30774]</td>\n",
       "      <td>[30903]</td>\n",
       "      <td>[30765, 30794]</td>\n",
       "      <td>[30211]</td>\n",
       "      <td>[31098]</td>\n",
       "      <td>[31278, 144152359]</td>\n",
       "      <td>[30336]</td>\n",
       "      <td>[31564]</td>\n",
       "    </tr>\n",
       "    <tr>\n",
       "      <th>work_intervals</th>\n",
       "      <td>[]</td>\n",
       "      <td>[{'time_minutes_begin': 0, 'day': 'everyday', ...</td>\n",
       "      <td>[{'time_minutes_begin': 660, 'day': 'tuesday',...</td>\n",
       "      <td>[{'time_minutes_begin': 540, 'day': 'saturday'...</td>\n",
       "      <td>[{'time_minutes_begin': 480, 'day': 'weekdays'...</td>\n",
       "      <td>[{'time_minutes_begin': 0, 'day': 'everyday', ...</td>\n",
       "      <td>[{'time_minutes_begin': 540, 'day': 'weekdays'...</td>\n",
       "      <td>[]</td>\n",
       "      <td>[]</td>\n",
       "      <td>[{'time_minutes_begin': 600, 'day': 'saturday'...</td>\n",
       "      <td>...</td>\n",
       "      <td>[{'time_minutes_begin': 540, 'day': 'weekdays'...</td>\n",
       "      <td>[{'time_minutes_begin': 480, 'day': 'weekdays'...</td>\n",
       "      <td>[{'time_minutes_begin': 720, 'day': 'everyday'...</td>\n",
       "      <td>[{'time_minutes_begin': 420, 'day': 'weekdays'...</td>\n",
       "      <td>[{'time_minutes_begin': 540, 'day': 'weekdays'...</td>\n",
       "      <td>[{'time_minutes_begin': 600, 'day': 'everyday'...</td>\n",
       "      <td>[{'time_minutes_begin': 960, 'day': 'monday', ...</td>\n",
       "      <td>[{'time_minutes_begin': 0, 'day': 'everyday', ...</td>\n",
       "      <td>[{'time_minutes_begin': 480, 'day': 'everyday'...</td>\n",
       "      <td>[{'time_minutes_begin': 540, 'day': 'weekdays'...</td>\n",
       "    </tr>\n",
       "    <tr>\n",
       "      <th>address</th>\n",
       "      <td>{'region_code': 'TR', 'formatted': {'locale': ...</td>\n",
       "      <td>{'region_code': 'RU', 'formatted': {'locale': ...</td>\n",
       "      <td>{'region_code': 'RU', 'formatted': {'locale': ...</td>\n",
       "      <td>{'region_code': 'RU', 'formatted': {'locale': ...</td>\n",
       "      <td>{'region_code': 'RU', 'formatted': {'locale': ...</td>\n",
       "      <td>{'region_code': 'RU', 'formatted': {'locale': ...</td>\n",
       "      <td>{'region_code': 'RU', 'formatted': {'locale': ...</td>\n",
       "      <td>{'region_code': 'TR', 'formatted': {'locale': ...</td>\n",
       "      <td>{'region_code': 'TR', 'formatted': {'locale': ...</td>\n",
       "      <td>{'region_code': 'RU', 'formatted': {'locale': ...</td>\n",
       "      <td>...</td>\n",
       "      <td>{'region_code': 'RU', 'formatted': {'locale': ...</td>\n",
       "      <td>{'region_code': 'RU', 'formatted': {'locale': ...</td>\n",
       "      <td>{'region_code': 'RU', 'formatted': {'locale': ...</td>\n",
       "      <td>{'region_code': 'RU', 'formatted': {'locale': ...</td>\n",
       "      <td>{'region_code': 'RU', 'formatted': {'locale': ...</td>\n",
       "      <td>{'region_code': 'RU', 'formatted': {'locale': ...</td>\n",
       "      <td>{'region_code': 'RU', 'formatted': {'locale': ...</td>\n",
       "      <td>{'region_code': 'RU', 'formatted': {'locale': ...</td>\n",
       "      <td>{'region_code': 'RU', 'formatted': {'locale': ...</td>\n",
       "      <td>{'region_code': 'RU', 'formatted': {'locale': ...</td>\n",
       "    </tr>\n",
       "  </tbody>\n",
       "</table>\n",
       "<p>4 rows × 14219 columns</p>\n",
       "</div>"
      ],
      "text/plain": [
       "                                                      1001979904   \\\n",
       "names           [{'value': {'locale': 'tr', 'value': 'Camlik I...   \n",
       "rubrics                                            [30903, 31663]   \n",
       "work_intervals                                                 []   \n",
       "address         {'region_code': 'TR', 'formatted': {'locale': ...   \n",
       "\n",
       "                                                      1776877570   \\\n",
       "names           [{'value': {'locale': 'en', 'value': 'Strakhov...   \n",
       "rubrics                              [30364, 30365, 30366, 30412]   \n",
       "work_intervals  [{'time_minutes_begin': 0, 'day': 'everyday', ...   \n",
       "address         {'region_code': 'RU', 'formatted': {'locale': ...   \n",
       "\n",
       "                                                      1119059971   \\\n",
       "names           [{'value': {'locale': 'en', 'value': 'Mariysky...   \n",
       "rubrics                                     [30166, 30177, 30181]   \n",
       "work_intervals  [{'time_minutes_begin': 660, 'day': 'tuesday',...   \n",
       "address         {'region_code': 'RU', 'formatted': {'locale': ...   \n",
       "\n",
       "                                                      1190264840   \\\n",
       "names           [{'value': {'locale': 'en', 'value': 'Detskaya...   \n",
       "rubrics                                                   [30057]   \n",
       "work_intervals  [{'time_minutes_begin': 540, 'day': 'saturday'...   \n",
       "address         {'region_code': 'RU', 'formatted': {'locale': ...   \n",
       "\n",
       "                                                      1736114187   \\\n",
       "names           [{'value': {'locale': 'en', 'value': 'Amursky ...   \n",
       "rubrics                                                   [30309]   \n",
       "work_intervals  [{'time_minutes_begin': 480, 'day': 'weekdays'...   \n",
       "address         {'region_code': 'RU', 'formatted': {'locale': ...   \n",
       "\n",
       "                                                      1092943885   \\\n",
       "names           [{'value': {'locale': 'en', 'value': 'Neftmagi...   \n",
       "rubrics                                                   [20271]   \n",
       "work_intervals  [{'time_minutes_begin': 0, 'day': 'everyday', ...   \n",
       "address         {'region_code': 'RU', 'formatted': {'locale': ...   \n",
       "\n",
       "                                                      1191968787   \\\n",
       "names           [{'value': {'locale': 'en', 'value': 'Novosibi...   \n",
       "rubrics                                                   [30309]   \n",
       "work_intervals  [{'time_minutes_begin': 540, 'day': 'weekdays'...   \n",
       "address         {'region_code': 'RU', 'formatted': {'locale': ...   \n",
       "\n",
       "                                                      1228996631   \\\n",
       "names           [{'value': {'locale': 'tr', 'value': 'Safir Ot...   \n",
       "rubrics                                                   [30785]   \n",
       "work_intervals                                                 []   \n",
       "address         {'region_code': 'TR', 'formatted': {'locale': ...   \n",
       "\n",
       "                                                      1238695962   \\\n",
       "names           [{'value': {'locale': 'tr', 'value': 'Capa Ilk...   \n",
       "rubrics                                            [30703, 31663]   \n",
       "work_intervals                                                 []   \n",
       "address         {'region_code': 'TR', 'formatted': {'locale': ...   \n",
       "\n",
       "                                                      1219264540   ...  \\\n",
       "names           [{'value': {'locale': 'en', 'value': 'Turfirma...  ...   \n",
       "rubrics                                     [30793, 30794, 30795]  ...   \n",
       "work_intervals  [{'time_minutes_begin': 600, 'day': 'saturday'...  ...   \n",
       "address         {'region_code': 'RU', 'formatted': {'locale': ...  ...   \n",
       "\n",
       "                                                      1034715132   \\\n",
       "names           [{'value': {'locale': 'en', 'value': 'TeploEle...   \n",
       "rubrics                                                   [30991]   \n",
       "work_intervals  [{'time_minutes_begin': 540, 'day': 'weekdays'...   \n",
       "address         {'region_code': 'RU', 'formatted': {'locale': ...   \n",
       "\n",
       "                                                      1130889194   \\\n",
       "names           [{'value': {'locale': 'en', 'value': 'FGAOU Vy...   \n",
       "rubrics                                            [30777, 31580]   \n",
       "work_intervals  [{'time_minutes_begin': 480, 'day': 'weekdays'...   \n",
       "address         {'region_code': 'RU', 'formatted': {'locale': ...   \n",
       "\n",
       "                                                      1797778087   \\\n",
       "names           [{'value': {'locale': 'en', 'value': 'Mar-An'}...   \n",
       "rubrics                                                   [30774]   \n",
       "work_intervals  [{'time_minutes_begin': 720, 'day': 'everyday'...   \n",
       "address         {'region_code': 'RU', 'formatted': {'locale': ...   \n",
       "\n",
       "                                                      1094418412   \\\n",
       "names           [{'value': {'locale': 'en', 'value': 'MBDOU De...   \n",
       "rubrics                                                   [30903]   \n",
       "work_intervals  [{'time_minutes_begin': 420, 'day': 'weekdays'...   \n",
       "address         {'region_code': 'RU', 'formatted': {'locale': ...   \n",
       "\n",
       "                                                      1078039890   \\\n",
       "names           [{'value': {'locale': 'en', 'value': 'Infoflot...   \n",
       "rubrics                                            [30765, 30794]   \n",
       "work_intervals  [{'time_minutes_begin': 540, 'day': 'weekdays'...   \n",
       "address         {'region_code': 'RU', 'formatted': {'locale': ...   \n",
       "\n",
       "                                                      1731133424   \\\n",
       "names           [{'value': {'locale': 'en', 'value': 'Studiya ...   \n",
       "rubrics                                                   [30211]   \n",
       "work_intervals  [{'time_minutes_begin': 600, 'day': 'everyday'...   \n",
       "address         {'region_code': 'RU', 'formatted': {'locale': ...   \n",
       "\n",
       "                                                      1329304915   \\\n",
       "names           [{'value': {'locale': 'en', 'value': 'MAO FKS ...   \n",
       "rubrics                                                   [31098]   \n",
       "work_intervals  [{'time_minutes_begin': 960, 'day': 'monday', ...   \n",
       "address         {'region_code': 'RU', 'formatted': {'locale': ...   \n",
       "\n",
       "                                                      1095603540   \\\n",
       "names           [{'value': {'locale': 'en', 'value': 'Nedorogo...   \n",
       "rubrics                                        [31278, 144152359]   \n",
       "work_intervals  [{'time_minutes_begin': 0, 'day': 'everyday', ...   \n",
       "address         {'region_code': 'RU', 'formatted': {'locale': ...   \n",
       "\n",
       "                                                      1004601340   \\\n",
       "names           [{'value': {'locale': 'en', 'value': 'RosEvroB...   \n",
       "rubrics                                                   [30336]   \n",
       "work_intervals  [{'time_minutes_begin': 480, 'day': 'everyday'...   \n",
       "address         {'region_code': 'RU', 'formatted': {'locale': ...   \n",
       "\n",
       "                                                      98077635246  \n",
       "names           [{'value': {'locale': 'ru', 'value': 'ММП Мисн...  \n",
       "rubrics                                                   [31564]  \n",
       "work_intervals  [{'time_minutes_begin': 540, 'day': 'weekdays'...  \n",
       "address         {'region_code': 'RU', 'formatted': {'locale': ...  \n",
       "\n",
       "[4 rows x 14219 columns]"
      ]
     },
     "execution_count": 9,
     "metadata": {},
     "output_type": "execute_result"
    }
   ],
   "source": [
    "test_org_info_df = pd.read_json(r'test_org_information.json', orient='index', convert_axes=True)\n",
    "test_org_info_df.reset_index(inplace=True)\n",
    "test_org_info_df[\"index\"] = (test_org_info_df[\"index\"] - pd.Timestamp(\"1970-01-01\")) // pd.Timedelta('1ms')\n",
    "test_org_info_df.set_index('index', inplace=True)\n",
    "test_org_info_df.index.name = None\n",
    "test_org_info_df = test_org_info_df.transpose()\n",
    "test_org_info_df.head()"
   ]
  },
  {
   "cell_type": "code",
   "execution_count": 10,
   "metadata": {
    "colab": {
     "base_uri": "https://localhost:8080/",
     "height": 204
    },
    "id": "Rh1301o0BUDl",
    "outputId": "9074d08b-2982-49c6-95d9-a6f49d3d0b4b"
   },
   "outputs": [
    {
     "data": {
      "text/html": [
       "<div>\n",
       "<style scoped>\n",
       "    .dataframe tbody tr th:only-of-type {\n",
       "        vertical-align: middle;\n",
       "    }\n",
       "\n",
       "    .dataframe tbody tr th {\n",
       "        vertical-align: top;\n",
       "    }\n",
       "\n",
       "    .dataframe thead th {\n",
       "        text-align: right;\n",
       "    }\n",
       "</style>\n",
       "<table border=\"1\" class=\"dataframe\">\n",
       "  <thead>\n",
       "    <tr style=\"text-align: right;\">\n",
       "      <th></th>\n",
       "      <th>1255014404</th>\n",
       "      <th>1111883782</th>\n",
       "      <th>39713767434</th>\n",
       "      <th>1336016908</th>\n",
       "      <th>149331116064</th>\n",
       "      <th>1273080496</th>\n",
       "      <th>1027997732</th>\n",
       "      <th>1010303013</th>\n",
       "      <th>1076887591</th>\n",
       "      <th>1220280361</th>\n",
       "      <th>...</th>\n",
       "      <th>1396812343</th>\n",
       "      <th>51283886027</th>\n",
       "      <th>1707999191</th>\n",
       "      <th>1755185118</th>\n",
       "      <th>122417293989</th>\n",
       "      <th>1010040812</th>\n",
       "      <th>1009516530</th>\n",
       "      <th>1397897875</th>\n",
       "      <th>1061370235</th>\n",
       "      <th>1027473401</th>\n",
       "    </tr>\n",
       "  </thead>\n",
       "  <tbody>\n",
       "    <tr>\n",
       "      <th>names</th>\n",
       "      <td>[{'value': {'locale': 'en', 'value': 'Bely Bok...</td>\n",
       "      <td>[{'value': {'locale': 'en', 'value': 'Vyborgsk...</td>\n",
       "      <td>[{'value': {'locale': 'en', 'value': 'Sberbank...</td>\n",
       "      <td>[{'value': {'locale': 'en', 'value': 'Filial b...</td>\n",
       "      <td>[{'value': {'locale': 'ru', 'value': 'Школа'}}]</td>\n",
       "      <td>[{'value': {'locale': 'en', 'value': 'Nedvizhi...</td>\n",
       "      <td>[{'value': {'locale': 'en', 'value': 'Demir Ho...</td>\n",
       "      <td>[{'value': {'locale': 'en', 'value': 'Zavod so...</td>\n",
       "      <td>[{'value': {'locale': 'en', 'value': 'Redaktsi...</td>\n",
       "      <td>[{'value': {'locale': 'en', 'value': 'Cassetta...</td>\n",
       "      <td>...</td>\n",
       "      <td>[{'value': {'locale': 'en', 'value': 'Rosgosst...</td>\n",
       "      <td>[{'value': {'locale': 'en', 'value': 'Peyntbol...</td>\n",
       "      <td>[{'value': {'locale': 'en', 'value': 'Gorodska...</td>\n",
       "      <td>[{'value': {'locale': 'ru', 'value': 'Магазин ...</td>\n",
       "      <td>[{'value': {'locale': 'ru', 'value': 'Проспект...</td>\n",
       "      <td>[{'value': {'locale': 'en', 'value': 'Restoran...</td>\n",
       "      <td>[{'value': {'locale': 'en', 'value': 'Gtk Suzd...</td>\n",
       "      <td>[{'value': {'locale': 'en', 'value': 'Rukodeln...</td>\n",
       "      <td>[{'value': {'locale': 'en', 'value': 'Turkan D...</td>\n",
       "      <td>[{'value': {'locale': 'en', 'value': 'Kreativ ...</td>\n",
       "    </tr>\n",
       "    <tr>\n",
       "      <th>rubrics</th>\n",
       "      <td>[20277, 20679, 21237]</td>\n",
       "      <td>[30723]</td>\n",
       "      <td>[30348]</td>\n",
       "      <td>[30057, 30111, 30114]</td>\n",
       "      <td>[30723]</td>\n",
       "      <td>[31094]</td>\n",
       "      <td>[30785]</td>\n",
       "      <td>[30478, 30587, 31083]</td>\n",
       "      <td>[30926, 31036]</td>\n",
       "      <td>[30762, 30770, 30776, 31286]</td>\n",
       "      <td>...</td>\n",
       "      <td>[30348]</td>\n",
       "      <td>[30937]</td>\n",
       "      <td>[30142]</td>\n",
       "      <td>[31342, 31628]</td>\n",
       "      <td>[3491649170]</td>\n",
       "      <td>[30776, 30785]</td>\n",
       "      <td>[30066, 30774, 30776, 30785, 30788]</td>\n",
       "      <td>[31404, 31462, 31507, 31524, 31595]</td>\n",
       "      <td>[30723, 31663]</td>\n",
       "      <td>[30209, 30210]</td>\n",
       "    </tr>\n",
       "    <tr>\n",
       "      <th>work_intervals</th>\n",
       "      <td>[{'time_minutes_begin': 540, 'day': 'everyday'...</td>\n",
       "      <td>[{'time_minutes_begin': 510, 'day': 'saturday'...</td>\n",
       "      <td>[{'time_minutes_begin': 570, 'day': 'saturday'...</td>\n",
       "      <td>[{'time_minutes_begin': 480, 'day': 'saturday'...</td>\n",
       "      <td>[]</td>\n",
       "      <td>[{'time_minutes_begin': 540, 'day': 'weekdays'...</td>\n",
       "      <td>[]</td>\n",
       "      <td>[{'time_minutes_begin': 540, 'day': 'weekdays'...</td>\n",
       "      <td>[{'time_minutes_begin': 540, 'day': 'weekdays'...</td>\n",
       "      <td>[]</td>\n",
       "      <td>...</td>\n",
       "      <td>[{'time_minutes_begin': 600, 'day': 'saturday'...</td>\n",
       "      <td>[{'time_minutes_begin': 540, 'day': 'everyday'...</td>\n",
       "      <td>[{'time_minutes_begin': 0, 'day': 'everyday', ...</td>\n",
       "      <td>[{'time_minutes_begin': 600, 'day': 'weekdays'...</td>\n",
       "      <td>[{'time_minutes_begin': 0, 'day': 'everyday', ...</td>\n",
       "      <td>[{'time_minutes_begin': 0, 'day': 'everyday', ...</td>\n",
       "      <td>[{'time_minutes_begin': 0, 'day': 'everyday', ...</td>\n",
       "      <td>[{'time_minutes_begin': 480, 'day': 'tuesday',...</td>\n",
       "      <td>[]</td>\n",
       "      <td>[]</td>\n",
       "    </tr>\n",
       "    <tr>\n",
       "      <th>address</th>\n",
       "      <td>{'region_code': 'RU', 'formatted': {'locale': ...</td>\n",
       "      <td>{'region_code': 'RU', 'formatted': {'locale': ...</td>\n",
       "      <td>{'region_code': 'RU', 'formatted': {'locale': ...</td>\n",
       "      <td>{'region_code': 'RU', 'formatted': {'locale': ...</td>\n",
       "      <td>{'region_code': 'RU', 'formatted': {'locale': ...</td>\n",
       "      <td>{'region_code': 'RU', 'formatted': {'locale': ...</td>\n",
       "      <td>{'region_code': 'TR', 'formatted': {'locale': ...</td>\n",
       "      <td>{'region_code': 'RU', 'formatted': {'locale': ...</td>\n",
       "      <td>{'region_code': 'RU', 'formatted': {'locale': ...</td>\n",
       "      <td>{'region_code': 'TR', 'formatted': {'locale': ...</td>\n",
       "      <td>...</td>\n",
       "      <td>{'region_code': 'RU', 'formatted': {'locale': ...</td>\n",
       "      <td>{'region_code': 'RU', 'formatted': {'locale': ...</td>\n",
       "      <td>{'region_code': 'RU', 'formatted': {'locale': ...</td>\n",
       "      <td>{'region_code': 'RU', 'formatted': {'locale': ...</td>\n",
       "      <td>{'region_code': 'RU', 'formatted': {'locale': ...</td>\n",
       "      <td>{'region_code': 'UA', 'formatted': {'locale': ...</td>\n",
       "      <td>{'region_code': 'RU', 'formatted': {'locale': ...</td>\n",
       "      <td>{'region_code': 'UA', 'formatted': {'locale': ...</td>\n",
       "      <td>{'region_code': 'TR', 'formatted': {'locale': ...</td>\n",
       "      <td>{'region_code': 'RU', 'formatted': {'locale': ...</td>\n",
       "    </tr>\n",
       "  </tbody>\n",
       "</table>\n",
       "<p>4 rows × 27697 columns</p>\n",
       "</div>"
      ],
      "text/plain": [
       "                                                     1255014404    \\\n",
       "names           [{'value': {'locale': 'en', 'value': 'Bely Bok...   \n",
       "rubrics                                     [20277, 20679, 21237]   \n",
       "work_intervals  [{'time_minutes_begin': 540, 'day': 'everyday'...   \n",
       "address         {'region_code': 'RU', 'formatted': {'locale': ...   \n",
       "\n",
       "                                                     1111883782    \\\n",
       "names           [{'value': {'locale': 'en', 'value': 'Vyborgsk...   \n",
       "rubrics                                                   [30723]   \n",
       "work_intervals  [{'time_minutes_begin': 510, 'day': 'saturday'...   \n",
       "address         {'region_code': 'RU', 'formatted': {'locale': ...   \n",
       "\n",
       "                                                     39713767434   \\\n",
       "names           [{'value': {'locale': 'en', 'value': 'Sberbank...   \n",
       "rubrics                                                   [30348]   \n",
       "work_intervals  [{'time_minutes_begin': 570, 'day': 'saturday'...   \n",
       "address         {'region_code': 'RU', 'formatted': {'locale': ...   \n",
       "\n",
       "                                                     1336016908    \\\n",
       "names           [{'value': {'locale': 'en', 'value': 'Filial b...   \n",
       "rubrics                                     [30057, 30111, 30114]   \n",
       "work_intervals  [{'time_minutes_begin': 480, 'day': 'saturday'...   \n",
       "address         {'region_code': 'RU', 'formatted': {'locale': ...   \n",
       "\n",
       "                                                     149331116064  \\\n",
       "names             [{'value': {'locale': 'ru', 'value': 'Школа'}}]   \n",
       "rubrics                                                   [30723]   \n",
       "work_intervals                                                 []   \n",
       "address         {'region_code': 'RU', 'formatted': {'locale': ...   \n",
       "\n",
       "                                                     1273080496    \\\n",
       "names           [{'value': {'locale': 'en', 'value': 'Nedvizhi...   \n",
       "rubrics                                                   [31094]   \n",
       "work_intervals  [{'time_minutes_begin': 540, 'day': 'weekdays'...   \n",
       "address         {'region_code': 'RU', 'formatted': {'locale': ...   \n",
       "\n",
       "                                                     1027997732    \\\n",
       "names           [{'value': {'locale': 'en', 'value': 'Demir Ho...   \n",
       "rubrics                                                   [30785]   \n",
       "work_intervals                                                 []   \n",
       "address         {'region_code': 'TR', 'formatted': {'locale': ...   \n",
       "\n",
       "                                                     1010303013    \\\n",
       "names           [{'value': {'locale': 'en', 'value': 'Zavod so...   \n",
       "rubrics                                     [30478, 30587, 31083]   \n",
       "work_intervals  [{'time_minutes_begin': 540, 'day': 'weekdays'...   \n",
       "address         {'region_code': 'RU', 'formatted': {'locale': ...   \n",
       "\n",
       "                                                     1076887591    \\\n",
       "names           [{'value': {'locale': 'en', 'value': 'Redaktsi...   \n",
       "rubrics                                            [30926, 31036]   \n",
       "work_intervals  [{'time_minutes_begin': 540, 'day': 'weekdays'...   \n",
       "address         {'region_code': 'RU', 'formatted': {'locale': ...   \n",
       "\n",
       "                                                     1220280361    ...  \\\n",
       "names           [{'value': {'locale': 'en', 'value': 'Cassetta...  ...   \n",
       "rubrics                              [30762, 30770, 30776, 31286]  ...   \n",
       "work_intervals                                                 []  ...   \n",
       "address         {'region_code': 'TR', 'formatted': {'locale': ...  ...   \n",
       "\n",
       "                                                     1396812343    \\\n",
       "names           [{'value': {'locale': 'en', 'value': 'Rosgosst...   \n",
       "rubrics                                                   [30348]   \n",
       "work_intervals  [{'time_minutes_begin': 600, 'day': 'saturday'...   \n",
       "address         {'region_code': 'RU', 'formatted': {'locale': ...   \n",
       "\n",
       "                                                     51283886027   \\\n",
       "names           [{'value': {'locale': 'en', 'value': 'Peyntbol...   \n",
       "rubrics                                                   [30937]   \n",
       "work_intervals  [{'time_minutes_begin': 540, 'day': 'everyday'...   \n",
       "address         {'region_code': 'RU', 'formatted': {'locale': ...   \n",
       "\n",
       "                                                     1707999191    \\\n",
       "names           [{'value': {'locale': 'en', 'value': 'Gorodska...   \n",
       "rubrics                                                   [30142]   \n",
       "work_intervals  [{'time_minutes_begin': 0, 'day': 'everyday', ...   \n",
       "address         {'region_code': 'RU', 'formatted': {'locale': ...   \n",
       "\n",
       "                                                     1755185118    \\\n",
       "names           [{'value': {'locale': 'ru', 'value': 'Магазин ...   \n",
       "rubrics                                            [31342, 31628]   \n",
       "work_intervals  [{'time_minutes_begin': 600, 'day': 'weekdays'...   \n",
       "address         {'region_code': 'RU', 'formatted': {'locale': ...   \n",
       "\n",
       "                                                     122417293989  \\\n",
       "names           [{'value': {'locale': 'ru', 'value': 'Проспект...   \n",
       "rubrics                                              [3491649170]   \n",
       "work_intervals  [{'time_minutes_begin': 0, 'day': 'everyday', ...   \n",
       "address         {'region_code': 'RU', 'formatted': {'locale': ...   \n",
       "\n",
       "                                                     1010040812    \\\n",
       "names           [{'value': {'locale': 'en', 'value': 'Restoran...   \n",
       "rubrics                                            [30776, 30785]   \n",
       "work_intervals  [{'time_minutes_begin': 0, 'day': 'everyday', ...   \n",
       "address         {'region_code': 'UA', 'formatted': {'locale': ...   \n",
       "\n",
       "                                                     1009516530    \\\n",
       "names           [{'value': {'locale': 'en', 'value': 'Gtk Suzd...   \n",
       "rubrics                       [30066, 30774, 30776, 30785, 30788]   \n",
       "work_intervals  [{'time_minutes_begin': 0, 'day': 'everyday', ...   \n",
       "address         {'region_code': 'RU', 'formatted': {'locale': ...   \n",
       "\n",
       "                                                     1397897875    \\\n",
       "names           [{'value': {'locale': 'en', 'value': 'Rukodeln...   \n",
       "rubrics                       [31404, 31462, 31507, 31524, 31595]   \n",
       "work_intervals  [{'time_minutes_begin': 480, 'day': 'tuesday',...   \n",
       "address         {'region_code': 'UA', 'formatted': {'locale': ...   \n",
       "\n",
       "                                                     1061370235    \\\n",
       "names           [{'value': {'locale': 'en', 'value': 'Turkan D...   \n",
       "rubrics                                            [30723, 31663]   \n",
       "work_intervals                                                 []   \n",
       "address         {'region_code': 'TR', 'formatted': {'locale': ...   \n",
       "\n",
       "                                                     1027473401    \n",
       "names           [{'value': {'locale': 'en', 'value': 'Kreativ ...  \n",
       "rubrics                                            [30209, 30210]  \n",
       "work_intervals                                                 []  \n",
       "address         {'region_code': 'RU', 'formatted': {'locale': ...  \n",
       "\n",
       "[4 rows x 27697 columns]"
      ]
     },
     "execution_count": 10,
     "metadata": {},
     "output_type": "execute_result"
    }
   ],
   "source": [
    "train_org_info_df = pd.read_json(r'train_org_information.json', orient='index', convert_axes=True)\n",
    "train_org_info_df.reset_index(inplace=True)\n",
    "train_org_info_df[\"index\"] = (train_org_info_df[\"index\"] - pd.Timestamp(\"1970-01-01\")) // pd.Timedelta('1ms')\n",
    "train_org_info_df.set_index('index', inplace=True)\n",
    "train_org_info_df.index.name = None\n",
    "train_org_info_df = train_org_info_df.transpose()\n",
    "train_org_info_df.head()"
   ]
  },
  {
   "cell_type": "code",
   "execution_count": 11,
   "metadata": {},
   "outputs": [],
   "source": [
    "train_org_info_df = train_org_info_df.transpose()"
   ]
  },
  {
   "cell_type": "code",
   "execution_count": 12,
   "metadata": {
    "colab": {
     "base_uri": "https://localhost:8080/",
     "height": 204
    },
    "id": "gnwaAHZtBaKs",
    "outputId": "5a9f8bb8-690b-44db-f874-9c3602b680d8"
   },
   "outputs": [
    {
     "data": {
      "text/html": [
       "<div>\n",
       "<style scoped>\n",
       "    .dataframe tbody tr th:only-of-type {\n",
       "        vertical-align: middle;\n",
       "    }\n",
       "\n",
       "    .dataframe tbody tr th {\n",
       "        vertical-align: top;\n",
       "    }\n",
       "\n",
       "    .dataframe thead th {\n",
       "        text-align: right;\n",
       "    }\n",
       "</style>\n",
       "<table border=\"1\" class=\"dataframe\">\n",
       "  <thead>\n",
       "    <tr style=\"text-align: right;\">\n",
       "      <th></th>\n",
       "      <th>keywords</th>\n",
       "      <th>phrases</th>\n",
       "      <th>descriptions</th>\n",
       "      <th>names</th>\n",
       "    </tr>\n",
       "  </thead>\n",
       "  <tbody>\n",
       "    <tr>\n",
       "      <th>273147906</th>\n",
       "      <td>[{'locale': 'ru', 'value': 'велосипед парковка...</td>\n",
       "      <td>[{'locale': 'de', 'value': 'Parkplatz für Fahr...</td>\n",
       "      <td>[{'value': {'locale': 'tr', 'value': 'Bisiklet...</td>\n",
       "      <td>[{'locale': 'en', 'value': 'Bicycle stand'}, {...</td>\n",
       "    </tr>\n",
       "    <tr>\n",
       "      <th>30723</th>\n",
       "      <td>[{'locale': 'tr', 'value': 'liseler, ortaokul,...</td>\n",
       "      <td>[{'locale': 'de', 'value': 'Bildungseinrichtun...</td>\n",
       "      <td>[{'value': {'locale': 'tr', 'value': 'Çocuklar...</td>\n",
       "      <td>[{'locale': 'de', 'value': 'Allgemeinbildende ...</td>\n",
       "    </tr>\n",
       "    <tr>\n",
       "      <th>30724</th>\n",
       "      <td>[{'locale': 'tr', 'value': 'arastırma, bilim, ...</td>\n",
       "      <td>[{'locale': 'tr', 'value': 'Bilim Arastırma En...</td>\n",
       "      <td>[{'value': {'locale': 'tr', 'value': 'Bilim ar...</td>\n",
       "      <td>[{'locale': 'tr', 'value': 'Bilim Araştırma En...</td>\n",
       "    </tr>\n",
       "    <tr>\n",
       "      <th>30725</th>\n",
       "      <td>[{'locale': 'tr', 'value': 'eğitim kontrol'}]</td>\n",
       "      <td>[{'locale': 'en', 'value': 'Board of Education...</td>\n",
       "      <td>[{'value': {'locale': 'tr', 'value': 'Eğitim k...</td>\n",
       "      <td>[{'locale': 'it', 'value': 'Amministrazione de...</td>\n",
       "    </tr>\n",
       "    <tr>\n",
       "      <th>30731</th>\n",
       "      <td>[{'locale': 'ru', 'value': 'Новые технологии -...</td>\n",
       "      <td>[{'locale': 'en', 'value': 'implementation of ...</td>\n",
       "      <td>[{'value': {'locale': 'tr', 'value': 'Nanotekn...</td>\n",
       "      <td>[{'locale': 'de', 'value': 'Innovative Technol...</td>\n",
       "    </tr>\n",
       "  </tbody>\n",
       "</table>\n",
       "</div>"
      ],
      "text/plain": [
       "                                                    keywords  \\\n",
       "273147906  [{'locale': 'ru', 'value': 'велосипед парковка...   \n",
       "30723      [{'locale': 'tr', 'value': 'liseler, ortaokul,...   \n",
       "30724      [{'locale': 'tr', 'value': 'arastırma, bilim, ...   \n",
       "30725          [{'locale': 'tr', 'value': 'eğitim kontrol'}]   \n",
       "30731      [{'locale': 'ru', 'value': 'Новые технологии -...   \n",
       "\n",
       "                                                     phrases  \\\n",
       "273147906  [{'locale': 'de', 'value': 'Parkplatz für Fahr...   \n",
       "30723      [{'locale': 'de', 'value': 'Bildungseinrichtun...   \n",
       "30724      [{'locale': 'tr', 'value': 'Bilim Arastırma En...   \n",
       "30725      [{'locale': 'en', 'value': 'Board of Education...   \n",
       "30731      [{'locale': 'en', 'value': 'implementation of ...   \n",
       "\n",
       "                                                descriptions  \\\n",
       "273147906  [{'value': {'locale': 'tr', 'value': 'Bisiklet...   \n",
       "30723      [{'value': {'locale': 'tr', 'value': 'Çocuklar...   \n",
       "30724      [{'value': {'locale': 'tr', 'value': 'Bilim ar...   \n",
       "30725      [{'value': {'locale': 'tr', 'value': 'Eğitim k...   \n",
       "30731      [{'value': {'locale': 'tr', 'value': 'Nanotekn...   \n",
       "\n",
       "                                                       names  \n",
       "273147906  [{'locale': 'en', 'value': 'Bicycle stand'}, {...  \n",
       "30723      [{'locale': 'de', 'value': 'Allgemeinbildende ...  \n",
       "30724      [{'locale': 'tr', 'value': 'Bilim Araştırma En...  \n",
       "30725      [{'locale': 'it', 'value': 'Amministrazione de...  \n",
       "30731      [{'locale': 'de', 'value': 'Innovative Technol...  "
      ]
     },
     "execution_count": 12,
     "metadata": {},
     "output_type": "execute_result"
    }
   ],
   "source": [
    "train_rubric_information_df = pd.read_json(r'train_rubric_information.json').transpose()\n",
    "train_rubric_information_df.head()"
   ]
  },
  {
   "cell_type": "code",
   "execution_count": 13,
   "metadata": {
    "colab": {
     "base_uri": "https://localhost:8080/",
     "height": 204
    },
    "id": "tBwU6z-8DXH8",
    "outputId": "14f695a7-3fc6-46da-ac2a-5ea73123540d"
   },
   "outputs": [
    {
     "data": {
      "text/html": [
       "<div>\n",
       "<style scoped>\n",
       "    .dataframe tbody tr th:only-of-type {\n",
       "        vertical-align: middle;\n",
       "    }\n",
       "\n",
       "    .dataframe tbody tr th {\n",
       "        vertical-align: top;\n",
       "    }\n",
       "\n",
       "    .dataframe thead th {\n",
       "        text-align: right;\n",
       "    }\n",
       "</style>\n",
       "<table border=\"1\" class=\"dataframe\">\n",
       "  <thead>\n",
       "    <tr style=\"text-align: right;\">\n",
       "      <th></th>\n",
       "      <th>keywords</th>\n",
       "      <th>phrases</th>\n",
       "      <th>descriptions</th>\n",
       "      <th>names</th>\n",
       "    </tr>\n",
       "  </thead>\n",
       "  <tbody>\n",
       "    <tr>\n",
       "      <th>273147906</th>\n",
       "      <td>[{'locale': 'ru', 'value': 'велосипед парковка...</td>\n",
       "      <td>[{'locale': 'de', 'value': 'Parkplatz für Fahr...</td>\n",
       "      <td>[{'value': {'locale': 'tr', 'value': 'Bisiklet...</td>\n",
       "      <td>[{'locale': 'en', 'value': 'Bicycle stand'}, {...</td>\n",
       "    </tr>\n",
       "    <tr>\n",
       "      <th>30723</th>\n",
       "      <td>[{'locale': 'tr', 'value': 'liseler, ortaokul,...</td>\n",
       "      <td>[{'locale': 'de', 'value': 'Bildungseinrichtun...</td>\n",
       "      <td>[{'value': {'locale': 'tr', 'value': 'Çocuklar...</td>\n",
       "      <td>[{'locale': 'de', 'value': 'Allgemeinbildende ...</td>\n",
       "    </tr>\n",
       "    <tr>\n",
       "      <th>30724</th>\n",
       "      <td>[{'locale': 'tr', 'value': 'arastırma, bilim, ...</td>\n",
       "      <td>[{'locale': 'tr', 'value': 'Bilim Arastırma En...</td>\n",
       "      <td>[{'value': {'locale': 'tr', 'value': 'Bilim ar...</td>\n",
       "      <td>[{'locale': 'tr', 'value': 'Bilim Araştırma En...</td>\n",
       "    </tr>\n",
       "    <tr>\n",
       "      <th>30725</th>\n",
       "      <td>[{'locale': 'tr', 'value': 'eğitim kontrol'}]</td>\n",
       "      <td>[{'locale': 'en', 'value': 'Board of Education...</td>\n",
       "      <td>[{'value': {'locale': 'tr', 'value': 'Eğitim k...</td>\n",
       "      <td>[{'locale': 'it', 'value': 'Amministrazione de...</td>\n",
       "    </tr>\n",
       "    <tr>\n",
       "      <th>30731</th>\n",
       "      <td>[{'locale': 'ru', 'value': 'Новые технологии -...</td>\n",
       "      <td>[{'locale': 'en', 'value': 'implementation of ...</td>\n",
       "      <td>[{'value': {'locale': 'tr', 'value': 'Nanotekn...</td>\n",
       "      <td>[{'locale': 'de', 'value': 'Innovative Technol...</td>\n",
       "    </tr>\n",
       "  </tbody>\n",
       "</table>\n",
       "</div>"
      ],
      "text/plain": [
       "                                                    keywords  \\\n",
       "273147906  [{'locale': 'ru', 'value': 'велосипед парковка...   \n",
       "30723      [{'locale': 'tr', 'value': 'liseler, ortaokul,...   \n",
       "30724      [{'locale': 'tr', 'value': 'arastırma, bilim, ...   \n",
       "30725          [{'locale': 'tr', 'value': 'eğitim kontrol'}]   \n",
       "30731      [{'locale': 'ru', 'value': 'Новые технологии -...   \n",
       "\n",
       "                                                     phrases  \\\n",
       "273147906  [{'locale': 'de', 'value': 'Parkplatz für Fahr...   \n",
       "30723      [{'locale': 'de', 'value': 'Bildungseinrichtun...   \n",
       "30724      [{'locale': 'tr', 'value': 'Bilim Arastırma En...   \n",
       "30725      [{'locale': 'en', 'value': 'Board of Education...   \n",
       "30731      [{'locale': 'en', 'value': 'implementation of ...   \n",
       "\n",
       "                                                descriptions  \\\n",
       "273147906  [{'value': {'locale': 'tr', 'value': 'Bisiklet...   \n",
       "30723      [{'value': {'locale': 'tr', 'value': 'Çocuklar...   \n",
       "30724      [{'value': {'locale': 'tr', 'value': 'Bilim ar...   \n",
       "30725      [{'value': {'locale': 'tr', 'value': 'Eğitim k...   \n",
       "30731      [{'value': {'locale': 'tr', 'value': 'Nanotekn...   \n",
       "\n",
       "                                                       names  \n",
       "273147906  [{'locale': 'en', 'value': 'Bicycle stand'}, {...  \n",
       "30723      [{'locale': 'de', 'value': 'Allgemeinbildende ...  \n",
       "30724      [{'locale': 'tr', 'value': 'Bilim Araştırma En...  \n",
       "30725      [{'locale': 'it', 'value': 'Amministrazione de...  \n",
       "30731      [{'locale': 'de', 'value': 'Innovative Technol...  "
      ]
     },
     "execution_count": 13,
     "metadata": {},
     "output_type": "execute_result"
    }
   ],
   "source": [
    "test_rubric_information_df = pd.read_json(r'test_rubric_information.json').transpose()\n",
    "test_rubric_information_df.head()"
   ]
  },
  {
   "cell_type": "code",
   "execution_count": 14,
   "metadata": {
    "colab": {
     "base_uri": "https://localhost:8080/",
     "height": 1000
    },
    "id": "lnoOwkCH_Dqk",
    "outputId": "dc615b56-b07b-4075-8744-672a579b0a4a"
   },
   "outputs": [
    {
     "data": {
      "text/html": [
       "<div>\n",
       "<style scoped>\n",
       "    .dataframe tbody tr th:only-of-type {\n",
       "        vertical-align: middle;\n",
       "    }\n",
       "\n",
       "    .dataframe tbody tr th {\n",
       "        vertical-align: top;\n",
       "    }\n",
       "\n",
       "    .dataframe thead th {\n",
       "        text-align: right;\n",
       "    }\n",
       "</style>\n",
       "<table border=\"1\" class=\"dataframe\">\n",
       "  <thead>\n",
       "    <tr style=\"text-align: right;\">\n",
       "      <th></th>\n",
       "      <th>query_id</th>\n",
       "      <th>query</th>\n",
       "      <th>region</th>\n",
       "      <th>org_name</th>\n",
       "      <th>org_id</th>\n",
       "      <th>window_center</th>\n",
       "      <th>window_size</th>\n",
       "      <th>word_count</th>\n",
       "    </tr>\n",
       "  </thead>\n",
       "  <tbody>\n",
       "    <tr>\n",
       "      <th>0</th>\n",
       "      <td>20396</td>\n",
       "      <td>\"Агентство «Созвездие недвижимости предлагает ...</td>\n",
       "      <td>225</td>\n",
       "      <td>Железногорское Агентство недвижимости</td>\n",
       "      <td>1249145086</td>\n",
       "      <td>99.505405,61.698653</td>\n",
       "      <td>171.643239,40.700127</td>\n",
       "      <td>9</td>\n",
       "    </tr>\n",
       "    <tr>\n",
       "      <th>1</th>\n",
       "      <td>7344</td>\n",
       "      <td>ATM</td>\n",
       "      <td>108058</td>\n",
       "      <td>QNB Finansbank ATM</td>\n",
       "      <td>1187253652</td>\n",
       "      <td>30.783271,40.397587</td>\n",
       "      <td>0.003431,0.003942</td>\n",
       "      <td>1</td>\n",
       "    </tr>\n",
       "    <tr>\n",
       "      <th>2</th>\n",
       "      <td>17757</td>\n",
       "      <td>oto yıkama</td>\n",
       "      <td>11508</td>\n",
       "      <td>Elit Oto Yıkama &amp; Kuafor</td>\n",
       "      <td>1195278147</td>\n",
       "      <td>29.180056,41.016730</td>\n",
       "      <td>0.054920,0.059811</td>\n",
       "      <td>2</td>\n",
       "    </tr>\n",
       "    <tr>\n",
       "      <th>3</th>\n",
       "      <td>8870</td>\n",
       "      <td>ресторан</td>\n",
       "      <td>213</td>\n",
       "      <td>Кафе Разные люди</td>\n",
       "      <td>1064538352</td>\n",
       "      <td>37.425925,55.887505</td>\n",
       "      <td>0.080681,0.039410</td>\n",
       "      <td>1</td>\n",
       "    </tr>\n",
       "    <tr>\n",
       "      <th>4</th>\n",
       "      <td>13055</td>\n",
       "      <td>банки</td>\n",
       "      <td>213</td>\n",
       "      <td>Совкомбанк, отделение</td>\n",
       "      <td>1130294660</td>\n",
       "      <td>37.633948,55.779017</td>\n",
       "      <td>0.022815,0.014827</td>\n",
       "      <td>1</td>\n",
       "    </tr>\n",
       "    <tr>\n",
       "      <th>...</th>\n",
       "      <td>...</td>\n",
       "      <td>...</td>\n",
       "      <td>...</td>\n",
       "      <td>...</td>\n",
       "      <td>...</td>\n",
       "      <td>...</td>\n",
       "      <td>...</td>\n",
       "      <td>...</td>\n",
       "    </tr>\n",
       "    <tr>\n",
       "      <th>14650</th>\n",
       "      <td>13095</td>\n",
       "      <td>стоматологии</td>\n",
       "      <td>213</td>\n",
       "      <td>Ортодонт-Элит</td>\n",
       "      <td>1103022756</td>\n",
       "      <td>37.564676,55.738628</td>\n",
       "      <td>0.065922,0.048622</td>\n",
       "      <td>1</td>\n",
       "    </tr>\n",
       "    <tr>\n",
       "      <th>14651</th>\n",
       "      <td>3742</td>\n",
       "      <td>банкомат</td>\n",
       "      <td>213</td>\n",
       "      <td>Райффайзенбанк, банкомат</td>\n",
       "      <td>1126439234</td>\n",
       "      <td>37.764100,55.732700</td>\n",
       "      <td>0.659180,0.590452</td>\n",
       "      <td>1</td>\n",
       "    </tr>\n",
       "    <tr>\n",
       "      <th>14652</th>\n",
       "      <td>30154</td>\n",
       "      <td>манн иванов и фербер</td>\n",
       "      <td>172</td>\n",
       "      <td>Book24.ru - официальный книжный интернет магаз...</td>\n",
       "      <td>1724020302</td>\n",
       "      <td>55.958727,54.735147</td>\n",
       "      <td>0.505375,0.454755</td>\n",
       "      <td>4</td>\n",
       "    </tr>\n",
       "    <tr>\n",
       "      <th>14653</th>\n",
       "      <td>23783</td>\n",
       "      <td>Пивзавод Волга 80 лет</td>\n",
       "      <td>40</td>\n",
       "      <td>Жигулевское пиво</td>\n",
       "      <td>1024204627</td>\n",
       "      <td>51.524283,55.485362</td>\n",
       "      <td>19.914168,11.861451</td>\n",
       "      <td>4</td>\n",
       "    </tr>\n",
       "    <tr>\n",
       "      <th>14654</th>\n",
       "      <td>3760</td>\n",
       "      <td>Заправки</td>\n",
       "      <td>213</td>\n",
       "      <td>Нефтьмагистраль</td>\n",
       "      <td>1366554857</td>\n",
       "      <td>37.786000,55.809900</td>\n",
       "      <td>0.084280,0.032386</td>\n",
       "      <td>1</td>\n",
       "    </tr>\n",
       "  </tbody>\n",
       "</table>\n",
       "<p>14655 rows × 8 columns</p>\n",
       "</div>"
      ],
      "text/plain": [
       "       query_id                                              query  region  \\\n",
       "0         20396  \"Агентство «Созвездие недвижимости предлагает ...     225   \n",
       "1          7344                                                ATM  108058   \n",
       "2         17757                                         oto yıkama   11508   \n",
       "3          8870                                           ресторан     213   \n",
       "4         13055                                              банки     213   \n",
       "...         ...                                                ...     ...   \n",
       "14650     13095                                       стоматологии     213   \n",
       "14651      3742                                           банкомат     213   \n",
       "14652     30154                               манн иванов и фербер     172   \n",
       "14653     23783                              Пивзавод Волга 80 лет      40   \n",
       "14654      3760                                           Заправки     213   \n",
       "\n",
       "                                                org_name      org_id  \\\n",
       "0                  Железногорское Агентство недвижимости  1249145086   \n",
       "1                                     QNB Finansbank ATM  1187253652   \n",
       "2                               Elit Oto Yıkama & Kuafor  1195278147   \n",
       "3                                       Кафе Разные люди  1064538352   \n",
       "4                                  Совкомбанк, отделение  1130294660   \n",
       "...                                                  ...         ...   \n",
       "14650                                      Ортодонт-Элит  1103022756   \n",
       "14651                           Райффайзенбанк, банкомат  1126439234   \n",
       "14652  Book24.ru - официальный книжный интернет магаз...  1724020302   \n",
       "14653                                   Жигулевское пиво  1024204627   \n",
       "14654                                    Нефтьмагистраль  1366554857   \n",
       "\n",
       "             window_center           window_size  word_count  \n",
       "0      99.505405,61.698653  171.643239,40.700127           9  \n",
       "1      30.783271,40.397587     0.003431,0.003942           1  \n",
       "2      29.180056,41.016730     0.054920,0.059811           2  \n",
       "3      37.425925,55.887505     0.080681,0.039410           1  \n",
       "4      37.633948,55.779017     0.022815,0.014827           1  \n",
       "...                    ...                   ...         ...  \n",
       "14650  37.564676,55.738628     0.065922,0.048622           1  \n",
       "14651  37.764100,55.732700     0.659180,0.590452           1  \n",
       "14652  55.958727,54.735147     0.505375,0.454755           4  \n",
       "14653  51.524283,55.485362   19.914168,11.861451           4  \n",
       "14654  37.786000,55.809900     0.084280,0.032386           1  \n",
       "\n",
       "[14655 rows x 8 columns]"
      ]
     },
     "execution_count": 14,
     "metadata": {},
     "output_type": "execute_result"
    }
   ],
   "source": [
    "import numpy as np\n",
    "\n",
    "df_test = test_df.copy()\n",
    "\n",
    "def get_word_count(s):\n",
    "    return len(s.split())\n",
    "\n",
    "df_test[\"word_count\"] = np.vectorize(get_word_count)(df_test[\"query\"])\n",
    "df_test"
   ]
  },
  {
   "cell_type": "code",
   "execution_count": 15,
   "metadata": {
    "colab": {
     "base_uri": "https://localhost:8080/",
     "height": 214
    },
    "id": "Vl6R1wk3CY-g",
    "outputId": "052d655e-05c5-421f-abbc-5627164b474e"
   },
   "outputs": [
    {
     "data": {
      "text/html": [
       "<div>\n",
       "<style scoped>\n",
       "    .dataframe tbody tr th:only-of-type {\n",
       "        vertical-align: middle;\n",
       "    }\n",
       "\n",
       "    .dataframe tbody tr th {\n",
       "        vertical-align: top;\n",
       "    }\n",
       "\n",
       "    .dataframe thead th {\n",
       "        text-align: right;\n",
       "    }\n",
       "</style>\n",
       "<table border=\"1\" class=\"dataframe\">\n",
       "  <thead>\n",
       "    <tr style=\"text-align: right;\">\n",
       "      <th></th>\n",
       "      <th>query_id</th>\n",
       "      <th>query</th>\n",
       "      <th>region</th>\n",
       "      <th>org_name</th>\n",
       "      <th>org_id</th>\n",
       "      <th>window_center</th>\n",
       "      <th>window_size</th>\n",
       "      <th>word_count</th>\n",
       "      <th>querry_and_result_similarity</th>\n",
       "    </tr>\n",
       "  </thead>\n",
       "  <tbody>\n",
       "    <tr>\n",
       "      <th>0</th>\n",
       "      <td>20396</td>\n",
       "      <td>\"Агентство «Созвездие недвижимости предлагает ...</td>\n",
       "      <td>225</td>\n",
       "      <td>Железногорское Агентство недвижимости</td>\n",
       "      <td>1249145086</td>\n",
       "      <td>99.505405,61.698653</td>\n",
       "      <td>171.643239,40.700127</td>\n",
       "      <td>9</td>\n",
       "      <td>0.389381</td>\n",
       "    </tr>\n",
       "    <tr>\n",
       "      <th>1</th>\n",
       "      <td>7344</td>\n",
       "      <td>ATM</td>\n",
       "      <td>108058</td>\n",
       "      <td>QNB Finansbank ATM</td>\n",
       "      <td>1187253652</td>\n",
       "      <td>30.783271,40.397587</td>\n",
       "      <td>0.003431,0.003942</td>\n",
       "      <td>1</td>\n",
       "      <td>0.285714</td>\n",
       "    </tr>\n",
       "    <tr>\n",
       "      <th>2</th>\n",
       "      <td>17757</td>\n",
       "      <td>oto yıkama</td>\n",
       "      <td>11508</td>\n",
       "      <td>Elit Oto Yıkama &amp; Kuafor</td>\n",
       "      <td>1195278147</td>\n",
       "      <td>29.180056,41.016730</td>\n",
       "      <td>0.054920,0.059811</td>\n",
       "      <td>2</td>\n",
       "      <td>0.470588</td>\n",
       "    </tr>\n",
       "    <tr>\n",
       "      <th>3</th>\n",
       "      <td>8870</td>\n",
       "      <td>ресторан</td>\n",
       "      <td>213</td>\n",
       "      <td>Кафе Разные люди</td>\n",
       "      <td>1064538352</td>\n",
       "      <td>37.425925,55.887505</td>\n",
       "      <td>0.080681,0.039410</td>\n",
       "      <td>1</td>\n",
       "      <td>0.166667</td>\n",
       "    </tr>\n",
       "    <tr>\n",
       "      <th>4</th>\n",
       "      <td>13055</td>\n",
       "      <td>банки</td>\n",
       "      <td>213</td>\n",
       "      <td>Совкомбанк, отделение</td>\n",
       "      <td>1130294660</td>\n",
       "      <td>37.633948,55.779017</td>\n",
       "      <td>0.022815,0.014827</td>\n",
       "      <td>1</td>\n",
       "      <td>0.384615</td>\n",
       "    </tr>\n",
       "    <tr>\n",
       "      <th>...</th>\n",
       "      <td>...</td>\n",
       "      <td>...</td>\n",
       "      <td>...</td>\n",
       "      <td>...</td>\n",
       "      <td>...</td>\n",
       "      <td>...</td>\n",
       "      <td>...</td>\n",
       "      <td>...</td>\n",
       "      <td>...</td>\n",
       "    </tr>\n",
       "    <tr>\n",
       "      <th>14650</th>\n",
       "      <td>13095</td>\n",
       "      <td>стоматологии</td>\n",
       "      <td>213</td>\n",
       "      <td>Ортодонт-Элит</td>\n",
       "      <td>1103022756</td>\n",
       "      <td>37.564676,55.738628</td>\n",
       "      <td>0.065922,0.048622</td>\n",
       "      <td>1</td>\n",
       "      <td>0.400000</td>\n",
       "    </tr>\n",
       "    <tr>\n",
       "      <th>14651</th>\n",
       "      <td>3742</td>\n",
       "      <td>банкомат</td>\n",
       "      <td>213</td>\n",
       "      <td>Райффайзенбанк, банкомат</td>\n",
       "      <td>1126439234</td>\n",
       "      <td>37.764100,55.732700</td>\n",
       "      <td>0.659180,0.590452</td>\n",
       "      <td>1</td>\n",
       "      <td>0.500000</td>\n",
       "    </tr>\n",
       "    <tr>\n",
       "      <th>14652</th>\n",
       "      <td>30154</td>\n",
       "      <td>манн иванов и фербер</td>\n",
       "      <td>172</td>\n",
       "      <td>Book24.ru - официальный книжный интернет магаз...</td>\n",
       "      <td>1724020302</td>\n",
       "      <td>55.958727,54.735147</td>\n",
       "      <td>0.505375,0.454755</td>\n",
       "      <td>4</td>\n",
       "      <td>0.281250</td>\n",
       "    </tr>\n",
       "    <tr>\n",
       "      <th>14653</th>\n",
       "      <td>23783</td>\n",
       "      <td>Пивзавод Волга 80 лет</td>\n",
       "      <td>40</td>\n",
       "      <td>Жигулевское пиво</td>\n",
       "      <td>1024204627</td>\n",
       "      <td>51.524283,55.485362</td>\n",
       "      <td>19.914168,11.861451</td>\n",
       "      <td>4</td>\n",
       "      <td>0.216216</td>\n",
       "    </tr>\n",
       "    <tr>\n",
       "      <th>14654</th>\n",
       "      <td>3760</td>\n",
       "      <td>Заправки</td>\n",
       "      <td>213</td>\n",
       "      <td>Нефтьмагистраль</td>\n",
       "      <td>1366554857</td>\n",
       "      <td>37.786000,55.809900</td>\n",
       "      <td>0.084280,0.032386</td>\n",
       "      <td>1</td>\n",
       "      <td>0.260870</td>\n",
       "    </tr>\n",
       "  </tbody>\n",
       "</table>\n",
       "<p>14655 rows × 9 columns</p>\n",
       "</div>"
      ],
      "text/plain": [
       "       query_id                                              query  region  \\\n",
       "0         20396  \"Агентство «Созвездие недвижимости предлагает ...     225   \n",
       "1          7344                                                ATM  108058   \n",
       "2         17757                                         oto yıkama   11508   \n",
       "3          8870                                           ресторан     213   \n",
       "4         13055                                              банки     213   \n",
       "...         ...                                                ...     ...   \n",
       "14650     13095                                       стоматологии     213   \n",
       "14651      3742                                           банкомат     213   \n",
       "14652     30154                               манн иванов и фербер     172   \n",
       "14653     23783                              Пивзавод Волга 80 лет      40   \n",
       "14654      3760                                           Заправки     213   \n",
       "\n",
       "                                                org_name      org_id  \\\n",
       "0                  Железногорское Агентство недвижимости  1249145086   \n",
       "1                                     QNB Finansbank ATM  1187253652   \n",
       "2                               Elit Oto Yıkama & Kuafor  1195278147   \n",
       "3                                       Кафе Разные люди  1064538352   \n",
       "4                                  Совкомбанк, отделение  1130294660   \n",
       "...                                                  ...         ...   \n",
       "14650                                      Ортодонт-Элит  1103022756   \n",
       "14651                           Райффайзенбанк, банкомат  1126439234   \n",
       "14652  Book24.ru - официальный книжный интернет магаз...  1724020302   \n",
       "14653                                   Жигулевское пиво  1024204627   \n",
       "14654                                    Нефтьмагистраль  1366554857   \n",
       "\n",
       "             window_center           window_size  word_count  \\\n",
       "0      99.505405,61.698653  171.643239,40.700127           9   \n",
       "1      30.783271,40.397587     0.003431,0.003942           1   \n",
       "2      29.180056,41.016730     0.054920,0.059811           2   \n",
       "3      37.425925,55.887505     0.080681,0.039410           1   \n",
       "4      37.633948,55.779017     0.022815,0.014827           1   \n",
       "...                    ...                   ...         ...   \n",
       "14650  37.564676,55.738628     0.065922,0.048622           1   \n",
       "14651  37.764100,55.732700     0.659180,0.590452           1   \n",
       "14652  55.958727,54.735147     0.505375,0.454755           4   \n",
       "14653  51.524283,55.485362   19.914168,11.861451           4   \n",
       "14654  37.786000,55.809900     0.084280,0.032386           1   \n",
       "\n",
       "       querry_and_result_similarity  \n",
       "0                          0.389381  \n",
       "1                          0.285714  \n",
       "2                          0.470588  \n",
       "3                          0.166667  \n",
       "4                          0.384615  \n",
       "...                             ...  \n",
       "14650                      0.400000  \n",
       "14651                      0.500000  \n",
       "14652                      0.281250  \n",
       "14653                      0.216216  \n",
       "14654                      0.260870  \n",
       "\n",
       "[14655 rows x 9 columns]"
      ]
     },
     "execution_count": 15,
     "metadata": {},
     "output_type": "execute_result"
    }
   ],
   "source": [
    "from difflib import SequenceMatcher\n",
    "\n",
    "def similar(a, b):\n",
    "    return SequenceMatcher(None, a, b).ratio()\n",
    "    \n",
    "df_test[\"querry_and_result_similarity\"] = np.vectorize(similar)(df_test[\"org_name\"], df_test[\"query\"])\n",
    "df_test"
   ]
  },
  {
   "cell_type": "code",
   "execution_count": 16,
   "metadata": {},
   "outputs": [
    {
     "data": {
      "text/plain": [
       "names             [{'value': {'locale': 'en', 'value': 'Zhelezno...\n",
       "rubrics                                [30412, 31094, 31115, 31118]\n",
       "work_intervals    [{'time_minutes_begin': 600, 'day': 'weekdays'...\n",
       "address           {'region_code': 'RU', 'formatted': {'locale': ...\n",
       "Name: 1249145086, dtype: object"
      ]
     },
     "execution_count": 16,
     "metadata": {},
     "output_type": "execute_result"
    }
   ],
   "source": [
    "df_test[\"org_json\"] = np.vectorize(lambda x: test_org_info_df[x])(df_test[\"org_id\"])\n",
    "df_test[\"org_json\"][0]"
   ]
  },
  {
   "cell_type": "code",
   "execution_count": 17,
   "metadata": {},
   "outputs": [
    {
     "data": {
      "text/plain": [
       "['RU', 'TR', 'UA', 'BY', 'KZ']"
      ]
     },
     "execution_count": 17,
     "metadata": {},
     "output_type": "execute_result"
    }
   ],
   "source": [
    "df_test[\"region_code\"] = np.vectorize(lambda x: x[\"address\"][\"region_code\"])(df_test[\"org_json\"])\n",
    "grouped = df_test[[\"org_name\", \"region_code\"]].groupby('region_code').agg(['count'])[\"org_name\"]\n",
    "grouped = grouped.sort_values('count', ascending=False)\n",
    "CATS_QUANTITY = 5\n",
    "top_cats = list(grouped.reset_index()[\"region_code\"][:CATS_QUANTITY])\n",
    "top_cats"
   ]
  },
  {
   "cell_type": "code",
   "execution_count": 18,
   "metadata": {},
   "outputs": [
    {
     "data": {
      "text/plain": [
       "{'RU': 1, 'TR': 2, 'UA': 4, 'BY': 8, 'KZ': 16}"
      ]
     },
     "execution_count": 18,
     "metadata": {},
     "output_type": "execute_result"
    }
   ],
   "source": [
    "top_cats_encoded = {top_cats[i] : 1 << i for i in range(CATS_QUANTITY)}\n",
    "REGION_CODE_ONE_HOT_DEFAULT = 1 << CATS_QUANTITY\n",
    "top_cats_encoded"
   ]
  },
  {
   "cell_type": "code",
   "execution_count": 19,
   "metadata": {},
   "outputs": [
    {
     "data": {
      "text/html": [
       "<div>\n",
       "<style scoped>\n",
       "    .dataframe tbody tr th:only-of-type {\n",
       "        vertical-align: middle;\n",
       "    }\n",
       "\n",
       "    .dataframe tbody tr th {\n",
       "        vertical-align: top;\n",
       "    }\n",
       "\n",
       "    .dataframe thead th {\n",
       "        text-align: right;\n",
       "    }\n",
       "</style>\n",
       "<table border=\"1\" class=\"dataframe\">\n",
       "  <thead>\n",
       "    <tr style=\"text-align: right;\">\n",
       "      <th></th>\n",
       "      <th>query_id</th>\n",
       "      <th>query</th>\n",
       "      <th>region</th>\n",
       "      <th>org_name</th>\n",
       "      <th>org_id</th>\n",
       "      <th>window_center</th>\n",
       "      <th>window_size</th>\n",
       "      <th>word_count</th>\n",
       "      <th>querry_and_result_similarity</th>\n",
       "      <th>org_json</th>\n",
       "      <th>region_code</th>\n",
       "      <th>region_code_encoded</th>\n",
       "    </tr>\n",
       "  </thead>\n",
       "  <tbody>\n",
       "    <tr>\n",
       "      <th>43</th>\n",
       "      <td>12805</td>\n",
       "      <td>oteller</td>\n",
       "      <td>21033</td>\n",
       "      <td>Lazur</td>\n",
       "      <td>1227954891</td>\n",
       "      <td>27.506081,40.935204</td>\n",
       "      <td>7.031239,4.645797</td>\n",
       "      <td>1</td>\n",
       "      <td>0.166667</td>\n",
       "      <td>names               [{'value': {'locale': 'en'...</td>\n",
       "      <td>BG</td>\n",
       "      <td>32</td>\n",
       "    </tr>\n",
       "    <tr>\n",
       "      <th>249</th>\n",
       "      <td>12805</td>\n",
       "      <td>oteller</td>\n",
       "      <td>21033</td>\n",
       "      <td>Royal Paradise Beach Resort &amp; Spa</td>\n",
       "      <td>1222032718</td>\n",
       "      <td>27.506081,40.935204</td>\n",
       "      <td>7.031239,4.645797</td>\n",
       "      <td>1</td>\n",
       "      <td>0.150000</td>\n",
       "      <td>names             [{'value': {'locale': 'en', ...</td>\n",
       "      <td>BO</td>\n",
       "      <td>32</td>\n",
       "    </tr>\n",
       "    <tr>\n",
       "      <th>257</th>\n",
       "      <td>12805</td>\n",
       "      <td>oteller</td>\n",
       "      <td>21033</td>\n",
       "      <td>Rachoni Bay</td>\n",
       "      <td>1135561891</td>\n",
       "      <td>27.506081,40.935204</td>\n",
       "      <td>7.031239,4.645797</td>\n",
       "      <td>1</td>\n",
       "      <td>0.111111</td>\n",
       "      <td>names             [{'value': {'locale': 'en', ...</td>\n",
       "      <td>GR</td>\n",
       "      <td>32</td>\n",
       "    </tr>\n",
       "    <tr>\n",
       "      <th>480</th>\n",
       "      <td>21410</td>\n",
       "      <td>president испания отель</td>\n",
       "      <td>2</td>\n",
       "      <td>Petit Palace President Castellana</td>\n",
       "      <td>1255260370</td>\n",
       "      <td>30.315868,59.939095</td>\n",
       "      <td>0.525488,0.346470</td>\n",
       "      <td>3</td>\n",
       "      <td>0.321429</td>\n",
       "      <td>names             [{'value': {'locale': 'en', ...</td>\n",
       "      <td>ES</td>\n",
       "      <td>32</td>\n",
       "    </tr>\n",
       "    <tr>\n",
       "      <th>494</th>\n",
       "      <td>35739</td>\n",
       "      <td>черновцы новая почта 6-е отделение</td>\n",
       "      <td>143</td>\n",
       "      <td>Почта</td>\n",
       "      <td>170397283112</td>\n",
       "      <td>26.007414,48.340774</td>\n",
       "      <td>0.163422,0.052758</td>\n",
       "      <td>5</td>\n",
       "      <td>0.205128</td>\n",
       "      <td>names               [{'value': {'locale': 'ru'...</td>\n",
       "      <td>MD</td>\n",
       "      <td>32</td>\n",
       "    </tr>\n",
       "    <tr>\n",
       "      <th>...</th>\n",
       "      <td>...</td>\n",
       "      <td>...</td>\n",
       "      <td>...</td>\n",
       "      <td>...</td>\n",
       "      <td>...</td>\n",
       "      <td>...</td>\n",
       "      <td>...</td>\n",
       "      <td>...</td>\n",
       "      <td>...</td>\n",
       "      <td>...</td>\n",
       "      <td>...</td>\n",
       "      <td>...</td>\n",
       "    </tr>\n",
       "    <tr>\n",
       "      <th>14351</th>\n",
       "      <td>12805</td>\n",
       "      <td>oteller</td>\n",
       "      <td>21033</td>\n",
       "      <td>Hotel Europa</td>\n",
       "      <td>1217816877</td>\n",
       "      <td>27.506081,40.935204</td>\n",
       "      <td>7.031239,4.645797</td>\n",
       "      <td>1</td>\n",
       "      <td>0.526316</td>\n",
       "      <td>names             [{'value': {'locale': 'en', ...</td>\n",
       "      <td>US</td>\n",
       "      <td>32</td>\n",
       "    </tr>\n",
       "    <tr>\n",
       "      <th>14365</th>\n",
       "      <td>22588</td>\n",
       "      <td>КБ 2 в 2-ой Боткинский проезд,5,к.4.</td>\n",
       "      <td>10738</td>\n",
       "      <td>Банк Апоалим</td>\n",
       "      <td>1588883042</td>\n",
       "      <td>41.100601,56.540711</td>\n",
       "      <td>4.435730,1.350541</td>\n",
       "      <td>6</td>\n",
       "      <td>0.250000</td>\n",
       "      <td>names             [{'value': {'locale': 'ru', ...</td>\n",
       "      <td>IL</td>\n",
       "      <td>32</td>\n",
       "    </tr>\n",
       "    <tr>\n",
       "      <th>14380</th>\n",
       "      <td>12805</td>\n",
       "      <td>oteller</td>\n",
       "      <td>21033</td>\n",
       "      <td>Primoretz Grand Hotel &amp; SPA</td>\n",
       "      <td>1226147043</td>\n",
       "      <td>27.506081,40.935204</td>\n",
       "      <td>7.031239,4.645797</td>\n",
       "      <td>1</td>\n",
       "      <td>0.235294</td>\n",
       "      <td>names             [{'value': {'locale': 'en', ...</td>\n",
       "      <td>BG</td>\n",
       "      <td>32</td>\n",
       "    </tr>\n",
       "    <tr>\n",
       "      <th>14413</th>\n",
       "      <td>12805</td>\n",
       "      <td>oteller</td>\n",
       "      <td>21033</td>\n",
       "      <td>Club Hotel Miramar All Inclusive</td>\n",
       "      <td>1248821905</td>\n",
       "      <td>27.506081,40.935204</td>\n",
       "      <td>7.031239,4.645797</td>\n",
       "      <td>1</td>\n",
       "      <td>0.256410</td>\n",
       "      <td>names             [{'value': {'locale': 'en', ...</td>\n",
       "      <td>BG</td>\n",
       "      <td>32</td>\n",
       "    </tr>\n",
       "    <tr>\n",
       "      <th>14522</th>\n",
       "      <td>12805</td>\n",
       "      <td>oteller</td>\n",
       "      <td>21033</td>\n",
       "      <td>Hotel Nobel</td>\n",
       "      <td>1191582984</td>\n",
       "      <td>27.506081,40.935204</td>\n",
       "      <td>7.031239,4.645797</td>\n",
       "      <td>1</td>\n",
       "      <td>0.555556</td>\n",
       "      <td>names             [{'value': {'locale': 'en', ...</td>\n",
       "      <td>BG</td>\n",
       "      <td>32</td>\n",
       "    </tr>\n",
       "  </tbody>\n",
       "</table>\n",
       "<p>159 rows × 12 columns</p>\n",
       "</div>"
      ],
      "text/plain": [
       "       query_id                                 query  region  \\\n",
       "43        12805                               oteller   21033   \n",
       "249       12805                               oteller   21033   \n",
       "257       12805                               oteller   21033   \n",
       "480       21410               president испания отель       2   \n",
       "494       35739    черновцы новая почта 6-е отделение     143   \n",
       "...         ...                                   ...     ...   \n",
       "14351     12805                               oteller   21033   \n",
       "14365     22588  КБ 2 в 2-ой Боткинский проезд,5,к.4.   10738   \n",
       "14380     12805                               oteller   21033   \n",
       "14413     12805                               oteller   21033   \n",
       "14522     12805                               oteller   21033   \n",
       "\n",
       "                                org_name        org_id        window_center  \\\n",
       "43                                 Lazur    1227954891  27.506081,40.935204   \n",
       "249    Royal Paradise Beach Resort & Spa    1222032718  27.506081,40.935204   \n",
       "257                          Rachoni Bay    1135561891  27.506081,40.935204   \n",
       "480    Petit Palace President Castellana    1255260370  30.315868,59.939095   \n",
       "494                                Почта  170397283112  26.007414,48.340774   \n",
       "...                                  ...           ...                  ...   \n",
       "14351                       Hotel Europa    1217816877  27.506081,40.935204   \n",
       "14365                       Банк Апоалим    1588883042  41.100601,56.540711   \n",
       "14380        Primoretz Grand Hotel & SPA    1226147043  27.506081,40.935204   \n",
       "14413   Club Hotel Miramar All Inclusive    1248821905  27.506081,40.935204   \n",
       "14522                        Hotel Nobel    1191582984  27.506081,40.935204   \n",
       "\n",
       "             window_size  word_count  querry_and_result_similarity  \\\n",
       "43     7.031239,4.645797           1                      0.166667   \n",
       "249    7.031239,4.645797           1                      0.150000   \n",
       "257    7.031239,4.645797           1                      0.111111   \n",
       "480    0.525488,0.346470           3                      0.321429   \n",
       "494    0.163422,0.052758           5                      0.205128   \n",
       "...                  ...         ...                           ...   \n",
       "14351  7.031239,4.645797           1                      0.526316   \n",
       "14365  4.435730,1.350541           6                      0.250000   \n",
       "14380  7.031239,4.645797           1                      0.235294   \n",
       "14413  7.031239,4.645797           1                      0.256410   \n",
       "14522  7.031239,4.645797           1                      0.555556   \n",
       "\n",
       "                                                org_json region_code  \\\n",
       "43     names               [{'value': {'locale': 'en'...          BG   \n",
       "249    names             [{'value': {'locale': 'en', ...          BO   \n",
       "257    names             [{'value': {'locale': 'en', ...          GR   \n",
       "480    names             [{'value': {'locale': 'en', ...          ES   \n",
       "494    names               [{'value': {'locale': 'ru'...          MD   \n",
       "...                                                  ...         ...   \n",
       "14351  names             [{'value': {'locale': 'en', ...          US   \n",
       "14365  names             [{'value': {'locale': 'ru', ...          IL   \n",
       "14380  names             [{'value': {'locale': 'en', ...          BG   \n",
       "14413  names             [{'value': {'locale': 'en', ...          BG   \n",
       "14522  names             [{'value': {'locale': 'en', ...          BG   \n",
       "\n",
       "       region_code_encoded  \n",
       "43                      32  \n",
       "249                     32  \n",
       "257                     32  \n",
       "480                     32  \n",
       "494                     32  \n",
       "...                    ...  \n",
       "14351                   32  \n",
       "14365                   32  \n",
       "14380                   32  \n",
       "14413                   32  \n",
       "14522                   32  \n",
       "\n",
       "[159 rows x 12 columns]"
      ]
     },
     "execution_count": 19,
     "metadata": {},
     "output_type": "execute_result"
    }
   ],
   "source": [
    "df_test[\"region_code_encoded\"] = np.vectorize(lambda x: top_cats_encoded.setdefault(x, REGION_CODE_ONE_HOT_DEFAULT))(df_test[\"region_code\"])\n",
    "df_test[df_test[\"region_code_encoded\"]==1 << CATS_QUANTITY]"
   ]
  },
  {
   "cell_type": "markdown",
   "metadata": {
    "id": "G4FSw4k55MtT"
   },
   "source": [
    "## Bias-Variance decomposition. Композиции алгоритмов\n",
    "\n",
    "![Bias Variance](http://scott.fortmann-roe.com/docs/docs/BiasVariance/biasvariance.png)\n",
    "\n",
    "Рассмотрим задачу регрессии со среднеквадратичной функцией потерь, а также некоторый алгоритм $a$. Тогда качество алгоритма $a$ может быть записано следующим образом:\n",
    "\n",
    "$$Q(a) = \\mathbb{E}_{X^l} \\mathbb{E}_{x,y}(a(x) - y)^2,$$\n",
    "\n",
    "где первое матожидание вычисляется по всевозможным обучающим выборкам $X^l$ размера $l$. К сожалению, на реальных данных эта формула неприменима из-за невозможности сгенерировать необходимые для оценки данные. Поэтому проведем приближенный численный эксперимент с эмпирическими оценками матожиданий.\n",
    "\n",
    "С помощью бутстраппинга можно просемплировать из обучающей выборки $N$ новых выборок того же размера, тем самым \"имитируя\" пространство всевозможных обучающих выборок, после чего обучить на каждой выбранный алгоритм. Обозначим вектор истинных меток тестовой выборки за $y \\in \\mathbb{R}^{m}$. Векторы прогнозов для объектов из тестовой выборки для каждой модели обозначим за $\\hat{y}_i \\in \\mathbb{R}^{m}, i \\in \\{1, .., N\\}$. Тогда средний квадрат ошибки по всем моделям на тестовой выборке запишется как\n",
    "\n",
    "$$error=\\frac{1}{N}\\sum_{i=1}^{N}MSE(y,\\hat{y}_i).$$\n",
    "\n",
    "Обозначим среднее предсказание за $$\\overline{y} = \\frac{1}{N}\\sum_{i=1}^{N} \\hat{y}_i.$$\n",
    "\n",
    "Тогда квадрат отклонения среднего предсказания и разброс прогнозов относительно среднего предсказания всех моделей на тестовой выборке от истинных меток запишутся следующим образом, соответственно:\n",
    "\n",
    "$$bias^2 = MSE(y, \\overline y),$$\n",
    "\n",
    "$$variance = \\frac{1}{N}\\sum_{i=1}^N MSE(\\hat{y}_i, \\overline y).$$\n"
   ]
  },
  {
   "cell_type": "markdown",
   "metadata": {
    "id": "KQaeUwny5MtV"
   },
   "source": [
    "Для начала рассмотрим в качестве алгоритма решающее дерево. Как известно, при увеличении высоты дерева алгоритм может быть сильно чувствителен к составу обучающей выборки. Чтобы подтвердить эти предположения, проведите следующие эксперименты."
   ]
  },
  {
   "cell_type": "markdown",
   "metadata": {
    "id": "TOmlHAsW5MtW"
   },
   "source": [
    "\n",
    "Разбейте обучающий пул с факторами на обучающую и тестовую выборки в пропорциях 1 к 4 соответственно. Обратите внимание, что обучающая выборка меньше тестовой. Такая большая тестовая выборка позволит сделать измерение качества моделей достаточно достоверным. "
   ]
  },
  {
   "cell_type": "code",
   "execution_count": null,
   "metadata": {
    "id": "4qR7b3e55MtW"
   },
   "outputs": [],
   "source": []
  },
  {
   "cell_type": "markdown",
   "metadata": {
    "id": "nEQWtXyU5MtX"
   },
   "source": [
    "**(1 балл) Задание 2.** Постройте графики зависимости $error$, $bias^2$ и $variance$ от глубины решающего дерева (от 1 до 15 включительно) для $N=200$. "
   ]
  },
  {
   "cell_type": "code",
   "execution_count": null,
   "metadata": {
    "id": "qSl0QKju5MtX"
   },
   "outputs": [],
   "source": []
  },
  {
   "cell_type": "markdown",
   "metadata": {
    "id": "hX1Sifmn5MtY"
   },
   "source": [
    "**(0.5 балла) Задание 3.** Являются ли какие-то из полученных графиков монотонными? А должны ли они быть монотонными, если бы гипотетически эксперименты были проведены на всевозможных выборках? Почему? Убедитесь численно, что верно bias-variance разложение ошибки: $$error = bias^2 + variance$$"
   ]
  },
  {
   "cell_type": "code",
   "execution_count": null,
   "metadata": {
    "id": "KHrFlj3j5MtY"
   },
   "outputs": [],
   "source": []
  },
  {
   "cell_type": "markdown",
   "metadata": {
    "id": "IUOczypm5MtY"
   },
   "source": [
    "## Композиции алгоритмов\n",
    "\n",
    "Несмотря на описанный выше недостаток решающих деревьев, объединение их в композиции позволяет существенно улучшить качество предсказания. Рассмотрим несколько способов построения композиций.\n",
    "\n",
    "### Bagging + RSM\n",
    "\n",
    "![](https://sites.google.com/site/rajhansgondane2506/_/rsrc/1467898300734/publications/rrftrain.jpg?height=215&width=320)\n",
    "\n",
    "Один из способов объединения алгоритмов в композиции — обучение каждого отдельного алгоритма на некоторой подвыборке из исходной выборки ([bagging](https://en.wikipedia.org/wiki/Bootstrap_aggregating)) и подмножестве исходных признаков ([RSM](https://en.wikipedia.org/wiki/Random_subspace_method)). В sklearn этот тип композиции реализован в классе [BaggingRegressor](http://scikit-learn.org/stable/modules/generated/sklearn.ensemble.BaggingRegressor.html) (для случая регресии). Подобный подход также есть в реализации [RandomForest](http://scikit-learn.org/stable/modules/generated/sklearn.ensemble.RandomForestRegressor.html)."
   ]
  },
  {
   "cell_type": "markdown",
   "metadata": {
    "id": "RQHBzD1G5MtZ"
   },
   "source": [
    "### Градиентный бустинг\n",
    "\n",
    "В случае бустинга композиция алгоритмов строится последовательно. Каждый следующий базовый алгоритм акцентируется на тех объектах, на которых обученная ранее композиция допускала ошибку.\n",
    "\n",
    "Туториал по работе с известными реализациями градиентного бустинга XGBoost и CatBoost можно найти на вики-странице курса."
   ]
  },
  {
   "cell_type": "markdown",
   "metadata": {
    "id": "19S0bWD55MtZ"
   },
   "source": [
    "**(1 балл) Задание 4.** Проведите аналогичный эксперимент с bias-variance разложением для *градиентного бустинга*, а также для *случайного леса*, варьируя количество базовых алгоритмов (рассмотрите 1, 5, 10, 25, 50, 100 решающих деревьев).\n",
    "\n",
    "Используйте модели градиентного бустанга XGBoost или CatBoost. Random Forest возьмите из пакета sklearn."
   ]
  },
  {
   "cell_type": "code",
   "execution_count": null,
   "metadata": {
    "id": "OQ8FVSIC5Mta"
   },
   "outputs": [],
   "source": []
  },
  {
   "cell_type": "markdown",
   "metadata": {
    "id": "b3e8Xr-w5Mta"
   },
   "source": [
    "**(0.5 балла) Задание 5.** Отличаются ли графики в рассмотренных моделях (градиентный бустинг, случайный лес)  между собой? На какую компоненту из разложения ошибки влияет объединение алгоритмов в рассмотренный тип композиции? Поясните свой ответ."
   ]
  },
  {
   "cell_type": "code",
   "execution_count": null,
   "metadata": {
    "id": "KgZQbyZ65Mta"
   },
   "outputs": [],
   "source": []
  },
  {
   "cell_type": "markdown",
   "metadata": {
    "id": "22j9w48G5Mtb"
   },
   "source": [
    "### Стекинг\n",
    "![](https://4.bp.blogspot.com/-hCxAb57kzDQ/VuMgHy3hAhI/AAAAAAAAAVk/djmL9IHv5QkLWeudjE50qDoCTbiUrTetA/s1600/Stacking.jpg)\n",
    "\n",
    "[Stacking](https://en.wikipedia.org/wiki/Ensemble_learning#Stacking) — еще один способ объединить несколько алгоритмов в один, который часто используется как в решении реальных задач из промышленной сферы, так и в конкурсах на платформах вроде Kaggle. Подход использует понятие *базовых классификаторов*, каждый из которых независимо обучается на некотором (возможно одном и том же) множестве признаков, а также *мета-классификатора*, использующего предсказания базовых классификаторов как факторы. \n"
   ]
  },
  {
   "cell_type": "markdown",
   "metadata": {
    "id": "1Yq223Rc5Mtb"
   },
   "source": [
    "**(1 балл) Задание 6.** Использование мета-классификатора подразумевает получение предсказаний от базовых классификаторов для тех объектов обучающей выборки, на которых мета-классификатор будет обучаться. В свою очередь базовые классификаторы тоже должны быть обучены на некоторой выборке. Чтобы избежать переобучения, обучающее множество делится на $n$ фолдов, $(n-1)$ из которых используются для обучения базовых классификаторов, а $n$-ый — для предсказания (вычисления значений мета-фактора).\n",
    "\n",
    "Для получения мета-факторов для тестовых данных базовые классификаторы могут быть обучены на всем обучающем множестве, поскольку проблема переобучения здесь не возникает. Другими словами, если мы хотим посчитать факторы для тестового множества, мы можем спокойно использовать обучающее множество для тренировки базовых классификаторов. Если же мы хотим посчитать факторы для обучающего множества, то необходимо следить, чтобы классификатор не предсказывал для тех объектов, на которых обучался.\n",
    "\n",
    "Мета-классификатор может быть обучен как на множестве исходных факторов, дополненным мета-факторами, так и исключительно на множестве мета-факторов. Выбор зависит от решаемой задачи.\n",
    "\n",
    "Напишите функцию, которая получает на вход классификатор, обучающую и тестовые выборки, а также параметры [кросс-валидатора](http://scikit-learn.org/stable/modules/generated/sklearn.model_selection.KFold.html) и возвращающую значения мета-фактора для обучающего и тестового множеств."
   ]
  },
  {
   "cell_type": "code",
   "execution_count": null,
   "metadata": {
    "id": "I8QAdI2q5Mtc"
   },
   "outputs": [],
   "source": [
    "def compute_meta_feature(clf, X_train, X_test, y_train, cv, *args, **kwargs):\n",
    "    # your code here\n",
    "    pass"
   ]
  },
  {
   "cell_type": "markdown",
   "metadata": {
    "id": "aprzDC-l5Mtc"
   },
   "source": [
    "**(1 балл) Задание 7.** Обучите различные известные вам модели машинного обучения и сделайте из них стекинг-композицию. \n",
    "  \n",
    "  Базовые алгоритмы могут отличаться друг от друга:\n",
    "    - моделью машинного обучения,\n",
    "    - гиперпараметрами (например, различные функции потерь или глубины деревьев),\n",
    "    - набором факторов,\n",
    "    - целевой переменной: исходного целевую переменную y можно заменить на функцию от него (sqr(y), sqrt(y), log(y + 1), ...), бинаризовать по порогу ([y>y0]) или произвести другое преобразование.\n",
    "  \n",
    "  Обратите внимание, что бинарные мета-факторы дают меньше полезного сигнала мета-классификатору, чем числовые, поэтому базовым классификаторам лучше возвращать вероятность/числовую функцию, чем метки классов.\n"
   ]
  },
  {
   "cell_type": "code",
   "execution_count": null,
   "metadata": {
    "id": "j2QP14yx5Mtc"
   },
   "outputs": [],
   "source": []
  },
  {
   "cell_type": "markdown",
   "metadata": {
    "id": "ZD5St4jz5Mtd"
   },
   "source": [
    "**(1 балл) Задание 8.** В этом задании мы попробуем обучить стекинг композицию градиентного бустинга и линейной модели на данных различной природы.\n",
    "\n",
    "Загрузите данные по кликам (*train_clicks_information.json, test_clicks_information.json*). Используя текстовые информацию из данных о кликах, организациях, рубриках и запросах, постройте bag-of-words представление с помощью TfidfVectorizer.\n",
    "\n",
    "После этого у вас будет два набора факторов: базовые факторы (*base*), реализованные ранее, и разреженная матрица признаков, полученная применением TfidfVectorizer'а (*tfidf*).\n",
    "\n",
    "Обучите различные модели и замерьте качество на тестовой выборке по метрике MSE:\n",
    "\n",
    " 1. Линейная модель на tfidf факторах;\n",
    " \n",
    " 2. Линейная модель на tfidf + base факторах;\n",
    "\n",
    " 3. Градиентный бустинг на base факторах;\n",
    "\n",
    " 4. Градиентный бустинг на tfidf + base факторах (здесь можно сократить размерность tfidf, если данные не умещаются в памяти)\n",
    " \n",
    " 5. Градиентный бустинг на base факторах + мета-факторе «предсказание модели из п.1»\n",
    " \n",
    "\n",
    "Можете воспользоваться любой из двух реализаций градиентного бустинга: XGBoost или CatBoost.\n",
    "\n",
    "Для тренировки tfidf модели можно использовать и обучающие, и тестовые данные, поскольку она не зависит от целевой переменной.\n"
   ]
  },
  {
   "cell_type": "code",
   "execution_count": null,
   "metadata": {
    "id": "zZwLJCmu5Mtd"
   },
   "outputs": [],
   "source": []
  },
  {
   "cell_type": "markdown",
   "metadata": {
    "id": "xFweHC7h5Mtd"
   },
   "source": [
    "**(1 балл) Задание 9.**\n",
    "Проанализируйте результаты, полученные в предыдущем задании. Сравните модели с точки зрения полученного качества, времени обучения и затрат по памяти."
   ]
  },
  {
   "cell_type": "code",
   "execution_count": null,
   "metadata": {
    "id": "tkvY4ukM5Mtd"
   },
   "outputs": [],
   "source": []
  },
  {
   "cell_type": "markdown",
   "metadata": {
    "id": "00chiNVt5Mte"
   },
   "source": [
    "Удалось ли улучшить качество предсказания с помощью стекинга?"
   ]
  },
  {
   "cell_type": "code",
   "execution_count": null,
   "metadata": {
    "id": "G4zS6cl35Mte"
   },
   "outputs": [],
   "source": []
  },
  {
   "cell_type": "markdown",
   "metadata": {
    "id": "5LZSwKjT5Mte"
   },
   "source": [
    "Почему реализованная в п.5 стекинг композиция может работать лучше, чем градиентный бустинг, обученный на всем множестве факторов (п.4)?"
   ]
  },
  {
   "cell_type": "code",
   "execution_count": null,
   "metadata": {
    "id": "n08L0_v05Mte"
   },
   "outputs": [],
   "source": []
  },
  {
   "cell_type": "markdown",
   "metadata": {
    "id": "dddTmLrb5Mte"
   },
   "source": [
    "Помогло ли добавление базовых факторов в линейную модель (модель из п.2 против модели из п.1)? Почему?"
   ]
  },
  {
   "cell_type": "code",
   "execution_count": null,
   "metadata": {
    "id": "LpvT2YgA5Mtf"
   },
   "outputs": [],
   "source": []
  },
  {
   "cell_type": "markdown",
   "metadata": {
    "id": "oHb_17Z_5Mtf"
   },
   "source": [
    "## Ранжирование\n",
    "\n",
    "![](http://i.imgur.com/2QnD2nF.jpg)\n",
    "\n",
    "Задачу поискового ранжирования можно описать следующим образом: имеется множество документов $d \\in D$ и множество запросов $q \\in Q$. Требуется оценить *степень релевантности* документа по отношению к запросу: $(q, d) \\mapsto r$, относительно которой будет производиться ранжирование. Для восстановления этой зависимости используются методы машинного обучения. Обычно используется три типа:\n",
    " - признаки запроса $q$, например: мешок слов текста запроса, его длина, ...\n",
    " - документа $d$, например: значение PageRank, мешок слов, доменное имя, ...\n",
    " - пары $(q, d)$, например: число вхождений фразы из запроса $q$ в документе $d$, ...\n",
    "\n",
    "Одна из отличительных особенностей задачи ранжирования от классических задач машинного обучения заключается в том, что качество результата зависит не от предсказанных оценок релевантности, а от порядка следования документов в рамках конкретного запроса, т.е. важно не абсолютное значение релевантности (его достаточно трудно формализовать в виде числа), а то, более или менее релевантен документ, относительно других документов.\n",
    "### Подходы к решению задачи ранжирования\n",
    "Существуют 3 основных подхода, различие между которыми в используемой функции потерь:\n",
    "  \n",
    "1. **Pointwise подход**. В этом случае рассматривается *один объект* (в случае поискового ранжирования - конкретный документ) и функция потерь считается только по нему. Любой стандартный классификатор или регрессор может решать pointwise задачу ранжирования, обучившись предсказывать значение таргета. Итоговое ранжирование получается после сортировки документов к одному запросу по предсказанию такой модели.\n",
    "2. **Pairwise подход**. В рамках данной модели функция потерь вычисляется по *паре объектов*. Другими словами, функция потерь штрафует модель, если отражированная этой моделью пара документов оказалась в неправильном порядке.\n",
    "3. **Listwise подход**. Этот подход использует все объекты для вычисления функции потерь, стараясь явно оптимизировать правильный порядок.\n",
    "\n",
    "### Оценка качества\n",
    "\n",
    "Для оценивания качества ранжирования найденных документов в поиске используются асессорские оценки. Само оценивание происходит на скрытых от обучения запросах $Queries$. Для этого традиционно используется метрика *DCG* ([Discounted Cumulative Gain](https://en.wikipedia.org/wiki/Discounted_cumulative_gain)) и ее нормализованный вариант — *nDCG*, всегда принимающий значения от 0 до 1.\n",
    "Для одного запроса DCG считается следующим образом:\n",
    "$$ DCG = \\sum_{i=1}^P\\frac{(2^{rel_i} - 1)}{\\log_2(i+1)}, $$\n",
    "\n",
    "где $P$ — число документов в поисковой выдаче, $rel_i$ — релевантность (асессорская оценка) документа, находящегося на i-той позиции.\n",
    "\n",
    "*IDCG* — идеальное (наибольшее из возможных) значение *DCG*, может быть получено путем ранжирования документов по убыванию асессорских оценок.\n",
    "\n",
    "Итоговая формула для расчета *nDCG*:\n",
    "\n",
    "$$nDCG = \\frac{DCG}{IDCG} \\in [0, 1].$$\n",
    "\n",
    "Чтобы оценить значение *nDCG* на выборке $Queries$ ($nDCG_{Queries}$) размера $N$, необходимо усреднить значение *nDCG* по всем запросам  выборки:\n",
    "$$nDCG_{Queries} = \\frac{1}{N}\\sum_{q \\in Queries}nDCG(q).$$\n",
    "\n",
    "Пример реализации метрик ранжирование на python можно найти [здесь](https://gist.github.com/mblondel/7337391)."
   ]
  },
  {
   "cell_type": "markdown",
   "metadata": {
    "id": "Pv8ao2pY5Mtg"
   },
   "source": [
    "В рамках нашей задачи «документом» будет являться организация.\n",
    "\n",
    "Разбейте обучающую выборку на обучение и контроль в соотношении 70 / 30. Обратите внимание, что разбивать необходимо множество запросов, а не строчки датасета."
   ]
  },
  {
   "cell_type": "code",
   "execution_count": null,
   "metadata": {
    "id": "Evgo_uhD5Mtg"
   },
   "outputs": [],
   "source": []
  },
  {
   "cell_type": "markdown",
   "metadata": {
    "id": "RSdWRPRo5Mtg"
   },
   "source": [
    "Далее рассмотрим несколько подходов предсказания релевантности. Для оценивания качества моделей используйте метрику nDCG на контроле. В случае подбора гиперпараметров используйте кросс-валидацию по 5 блокам, где разбиение должно быть по запросам, а не строчкам датасета."
   ]
  },
  {
   "cell_type": "markdown",
   "metadata": {
    "id": "4mmTlmTy5Mth"
   },
   "source": [
    "###  Ранжируем с XGBoost и CatBoost\n",
    "\n",
    "XGBoost имеет несколько функций потерь для решения задачи ранжирования:\n",
    "1. **reg:linear** — данную функцию потерь можно использовать для решения задачи ранжирование *pointwise* подходом.\n",
    "2. **rank:pairwise** — в качестве *pairwise* модели в XGBoost реализован [RankNet](http://icml.cc/2015/wp-content/uploads/2015/06/icml_ranking.pdf), в котором минимизируется гладкий функционал качества ранжирования: $$ Obj = \\sum_{i \\prec j} \\mathcal{L}\\left(a(x_j) - a(x_i)\\right) \\rightarrow min $$ $$ \\mathcal{L}(M) = log(1 + e^{-M}), $$ где $ a(x) $ - функция ранжирования. Суммирование ведется по всем парам объектов, для которых определено отношение порядка, например, для пар документов, показанных по одному запросу. Таким образом функция потерь штрафует за то, что пара объектов неправильно упорядочена.\n",
    "3. **rank:map, rank:ndcg** — реализация [LambdaRank](https://www.microsoft.com/en-us/research/wp-content/uploads/2016/02/MSR-TR-2010-82.pdf) для двух метрик: [MAP](https://en.wikipedia.org/wiki/Information_retrieval#Mean_average_precision) и **nDCG**. Известно, что для того, чтобы оптимизировать негладкий функционал, такой как **nDCG**,  нужно домножить градиент функционала $ Obj(a) $ на значение $\\Delta NDCG_{ij} $ — изменение значения функционала качества при замене $x_i$ на $ x_j$.  Поскольку для вычисления метрик необходимы все объекты выборки, то эти две ранжирующие функции потерь являются представителями класса *listwise* моделей."
   ]
  },
  {
   "cell_type": "markdown",
   "metadata": {
    "id": "NZ1sVl2l5Mth"
   },
   "source": [
    "Реализованные в CatBoost ранжирующие функции потерь можной найти [здесь](https://catboost.ai/docs/concepts/loss-functions-ranking.html#groupwise-metrics)."
   ]
  },
  {
   "cell_type": "markdown",
   "metadata": {
    "id": "EzIIib395Mti"
   },
   "source": [
    "**(2 балла) Задание 10.** Попробуйте различные функции потерь (регрессионные и ранжирующие) для моделей XGBoost и CatBoost. Настройте основные параметры моделей (глубина, кол-во деревьев, глубина, скорость обучения, регуляризация).  \n",
    "Сравните построенные модели с точки зрения метрики nDCG на контроле и проанализируйте полученные результаты:\n",
    "  - какая модель работает лучше всего для данной задачи? \n",
    "  - в чем достоинства/недостатки каждой? \n",
    "  - сравните модели между собой: \n",
    "   - получается ли сравнимое качество линейного pointwise подхода с остальными моделями? \n",
    "   - заметна ли разница в качестве при использовании бустинга с разными функциями потерь?"
   ]
  },
  {
   "cell_type": "code",
   "execution_count": null,
   "metadata": {
    "id": "i9zsSGV15Mtj"
   },
   "outputs": [],
   "source": []
  },
  {
   "cell_type": "markdown",
   "metadata": {
    "id": "iFi0zwKE5Mtj"
   },
   "source": [
    "**(1 балл) Задание 11.** Одним из основных преимуществ CatBoost'a является обработка категориальных факторов «из коробки». Добавьте в датасет различные категориальные факторы из данных и обучите заново CatBoost модели. Улучшилось ли качество?"
   ]
  },
  {
   "cell_type": "code",
   "execution_count": null,
   "metadata": {
    "id": "hWnNG63r5Mtl"
   },
   "outputs": [],
   "source": []
  },
  {
   "cell_type": "markdown",
   "metadata": {
    "id": "L95PJYhT5Mtl"
   },
   "source": [
    "#### Пользовательская функция потерь\n",
    "\n",
    "Библиотека XGBoost позволяет использовать пользовательские функции потерь. Для этого необходимо реализовать функцию, принимающую на вход вектор предсказанных значений и обучающую выборку, и возвращающую градиент и гессиан, посчитанный по входным данным.\n",
    "\n",
    "Важно отметить, что XGBoost использует диагональную аппроксимацию гессиана, таким образом все недиагональные элементы считаются малозначимыми и приравниваются нулю, поэтому и градиент, и гессиан являются векторами длины размера обучающей выборки.\n",
    "\n",
    "**(3 балла) Задание 12.** Реализуйте экспоненциальную функцию потерь для XGBoost:\n",
    "$$ Obj = \\sum_{i \\prec j} \\mathcal{L}\\left(a(x_j) - a(x_i)\\right) \\rightarrow min $$ $$ \\mathcal{L}(M) = e^{-M} $$\n",
    "\n",
    "Обучите модель с помощью данной функции потерь, настройте параметры."
   ]
  },
  {
   "cell_type": "markdown",
   "metadata": {
    "id": "9voepbHy5Mtl"
   },
   "source": [
    "**Комментарии к реализации**\n",
    "\n",
    "В случае ранжирования XGBoost'у необходимо знать о разбиении всех объектов на группы. В нашем случае в одну группу будут входить документы, соответствующие одному запросу. Функция, считающая градиент и гессиан по данным, должна знать данное разбиение датасета. Однако питоновский интерфейс класса *DMatrix* (в котором хранится датасет) не дает возможности получить это разбиение. В этом случае нужно реализовать функцию потерь в качестве функтора, конструктор которого принимает разбиение на группы в качестве параметра.\n",
    "\n",
    "Пример реализации своей функции потерь можно найти на соответствующем семинаре."
   ]
  },
  {
   "cell_type": "code",
   "execution_count": null,
   "metadata": {
    "id": "haYx5MWz5Mtl"
   },
   "outputs": [],
   "source": [
    "class ExponentialPairwiseLoss(object):\n",
    "    def __init__(self, groups):\n",
    "        self.groups = groups\n",
    "                        \n",
    "    def __call__(self, preds, dtrain):\n",
    "        # your code here\n",
    "        pass"
   ]
  },
  {
   "cell_type": "code",
   "execution_count": null,
   "metadata": {
    "id": "kuG35ZHW5Mtm"
   },
   "outputs": [],
   "source": []
  },
  {
   "cell_type": "markdown",
   "metadata": {
    "id": "YUD7GYQj5Mtm"
   },
   "source": [
    "**Задание 13.** С помощью наилучшей из получившихся в ходе лабораторной работы моделей сделайте предсказания для тестовой части выборки и отправьте их на kaggle. В отдельной ячейке выпишите получившийся результат (NDCG)."
   ]
  },
  {
   "cell_type": "code",
   "execution_count": null,
   "metadata": {
    "id": "MroNwgnd5Mtm"
   },
   "outputs": [],
   "source": []
  },
  {
   "cell_type": "markdown",
   "metadata": {
    "id": "ByIiSQYS5Mtm"
   },
   "source": [
    "**Результат:**"
   ]
  },
  {
   "cell_type": "code",
   "execution_count": null,
   "metadata": {
    "id": "QAp1HPOa5Mtm"
   },
   "outputs": [],
   "source": []
  },
  {
   "cell_type": "markdown",
   "metadata": {
    "id": "SAtLGXBG5Mtm"
   },
   "source": [
    "-----------------------------------------------------------"
   ]
  },
  {
   "cell_type": "markdown",
   "metadata": {
    "id": "E2FvvdEd5Mtn"
   },
   "source": [
    "На этом лабораторная часть задания закончена. Далее - конкурсная часть. Вы можете решать его прямо здесь или в отдельном ноутбуке. Эта часть работы проверяется только у решений, попавших в топ в лидерборде.\n",
    "Если решать конкурс в отдельном ноутбуке удобнее, можете выложить его в энитаск рядом с решением лабораторной.\n",
    "\n",
    "Удачи!"
   ]
  },
  {
   "cell_type": "code",
   "execution_count": null,
   "metadata": {
    "id": "ZueQTTaD5Mtn"
   },
   "outputs": [],
   "source": []
  },
  {
   "cell_type": "markdown",
   "metadata": {
    "id": "Xoox7p6u5Mtn"
   },
   "source": [
    "Кратко опишите, как вы добились такого результата. Расскажите, что успели попробовать и что из этого сработало."
   ]
  },
  {
   "cell_type": "code",
   "execution_count": null,
   "metadata": {
    "id": "m3bLevXU5Mtn"
   },
   "outputs": [],
   "source": []
  },
  {
   "cell_type": "markdown",
   "metadata": {
    "id": "X0A2V3gt5Mtn"
   },
   "source": [
    "Кроме этого, можете оставить отзыв о лабораторно-конкурсном задании :)"
   ]
  }
 ],
 "metadata": {
  "colab": {
   "collapsed_sections": [],
   "include_colab_link": true,
   "name": "lab03.ipynb",
   "provenance": []
  },
  "kernelspec": {
   "display_name": "Python 3",
   "language": "python",
   "name": "python3"
  },
  "language_info": {
   "codemirror_mode": {
    "name": "ipython",
    "version": 3
   },
   "file_extension": ".py",
   "mimetype": "text/x-python",
   "name": "python",
   "nbconvert_exporter": "python",
   "pygments_lexer": "ipython3",
   "version": "3.9.5"
  }
 },
 "nbformat": 4,
 "nbformat_minor": 4
}
