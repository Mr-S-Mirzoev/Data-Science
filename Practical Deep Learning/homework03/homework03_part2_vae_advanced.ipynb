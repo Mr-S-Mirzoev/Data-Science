{
 "cells": [
  {
   "cell_type": "markdown",
   "metadata": {
    "cellId": "mzpwqwo6i6kk9wsgueprij"
   },
   "source": [
    "# Variational Autoencoder (VAE)"
   ]
  },
  {
   "cell_type": "markdown",
   "metadata": {
    "cellId": "bpbiqb80gjwta0qohoq3"
   },
   "source": [
    "Useful links: \n",
    "* Original paper http://arxiv.org/abs/1312.6114\n",
    "* Helpful videos explaining the topic \n",
    "   * https://www.youtube.com/watch?v=P78QYjWh5sM     \n",
    "   * http://videolectures.net/deeplearning2015_courville_autoencoder_extension/?q=aaron%20courville"
   ]
  },
  {
   "cell_type": "markdown",
   "metadata": {
    "cellId": "3aijz0dtfle3t8mzil0piu"
   },
   "source": [
    "### Download data"
   ]
  },
  {
   "cell_type": "code",
   "execution_count": null,
   "metadata": {
    "cellId": "u6da5aydba7y3fduvp0yp"
   },
   "outputs": [],
   "source": [
    "#!L\n",
    "from gfile import download_list\n",
    "\n",
    "download_list(\n",
    "    url='https://drive.google.com/file/d/1F96x4LDbsTZGMMq81fZr7aduJCe8N95O',\n",
    "    filename='celeba.zip',\n",
    "    target_dir='.'\n",
    ")"
   ]
  },
  {
   "cell_type": "code",
   "execution_count": null,
   "metadata": {
    "cellId": "qwyy1a691ck7napqysp60g"
   },
   "outputs": [],
   "source": [
    "#!L:bash\n",
    "!unzip celeba.zip"
   ]
  },
  {
   "cell_type": "markdown",
   "metadata": {
    "cellId": "sf0uo25mzbepja20y6kk3"
   },
   "source": [
    "## Prepare the data"
   ]
  },
  {
   "cell_type": "code",
   "execution_count": null,
   "metadata": {
    "cellId": "kjs7y5ndlipxonpqfh52hs"
   },
   "outputs": [],
   "source": [
    "#!L\n",
    "import numpy as np\n",
    "from matplotlib import pyplot as plt\n",
    "\n",
    "import torch\n",
    "from torch import nn\n",
    "from torch import optim\n",
    "from torch.utils.data import Dataset, DataLoader\n",
    "\n",
    "import torchvision\n",
    "from torchvision.utils import make_grid\n",
    "\n",
    "device = torch.device(\"cuda\")"
   ]
  },
  {
   "cell_type": "code",
   "execution_count": null,
   "metadata": {
    "cellId": "ojnhfad2o7ptpcqf2yitgm"
   },
   "outputs": [],
   "source": [
    "#!L\n",
    "class CropCelebA64:\n",
    "    \n",
    "    def __call__(self, pic):\n",
    "        new_pic = pic.crop((15, 40, 178 - 15, 218 - 30))\n",
    "        return new_pic\n",
    "\n",
    "    def __repr__(self):\n",
    "        return self.__class__.__name__ + '()'"
   ]
  },
  {
   "cell_type": "code",
   "execution_count": null,
   "metadata": {
    "cellId": "6ywlm5hfdjb4ihb1z1nvmo"
   },
   "outputs": [],
   "source": [
    "#!L\n",
    "train_dataset = torchvision.datasets.CelebA(\n",
    "    root='celeba',\n",
    "    split='train',\n",
    "    transform=torchvision.transforms.Compose([\n",
    "        CropCelebA64(),\n",
    "        torchvision.transforms.Resize(64),\n",
    "        torchvision.transforms.RandomHorizontalFlip(),\n",
    "        torchvision.transforms.ToTensor(),\n",
    "        \n",
    "    ]),\n",
    ")\n",
    "\n",
    "validation_dataset = torchvision.datasets.CelebA(\n",
    "    root='celeba',\n",
    "    split='valid',\n",
    "    transform=torchvision.transforms.Compose([\n",
    "        CropCelebA64(),\n",
    "        torchvision.transforms.Resize(64),\n",
    "        torchvision.transforms.ToTensor(),\n",
    "        \n",
    "    ]),\n",
    ")"
   ]
  },
  {
   "cell_type": "code",
   "execution_count": null,
   "metadata": {
    "cellId": "lkaq9qig2ay4afabrgskr"
   },
   "outputs": [],
   "source": [
    "#!L\n",
    "# Save first 10k images for evaluation\n",
    "num_images = 10000\n",
    "real_images_tensor = torch.stack([train_dataset[i][0] for i in range(num_images)], dim=0)\n",
    "real_images = real_images_tensor.data.numpy().transpose([0, 2, 3, 1])\n",
    "np.savez(\"real.npz\", Pictures=real_images.reshape(num_images, 64*64*3))"
   ]
  },
  {
   "cell_type": "code",
   "execution_count": null,
   "metadata": {
    "cellId": "35qs9oo9n1bxau0qniec4"
   },
   "outputs": [],
   "source": [
    "#!L\n",
    "BATCH_SIZE = 64\n",
    "\n",
    "train_loader = DataLoader(train_dataset, batch_size=BATCH_SIZE, shuffle=True)\n",
    "val_loader = DataLoader(validation_dataset, batch_size=BATCH_SIZE)"
   ]
  },
  {
   "cell_type": "markdown",
   "metadata": {
    "cellId": "e30eu4ozq97jrut29y0k4"
   },
   "source": [
    "# Autoencoder\n",
    "\n",
    "Why to use all this complicated formulaes and regularizations, what is the need for variational inference? To analyze the difference, let's first train just an autoencoder on the data:"
   ]
  },
  {
   "cell_type": "code",
   "execution_count": null,
   "metadata": {
    "cellId": "mf32wge0njpwzflyej8cp"
   },
   "outputs": [],
   "source": [
    "#!L\n",
    "dimZ = 100  # Considering face reconstruction task, which size of representation seems reasonable?\n",
    "\n",
    "# Define the decoder and encoder as networks with one hidden fc-layer\n",
    "# (that means you will have 2 fc layers in each net)\n",
    "# Use ReLU for hidden layers' activations\n",
    "# GlorotUniform initialization for W\n",
    "# Zero initialization for biases\n",
    "# It's also convenient to put sigmoid activation on output layer to get nice normalized pics\n",
    "\n",
    "\n",
    "class Autoencoder(nn.Module):\n",
    "    def __init__(self):\n",
    "        super(Autoencoder, self).__init__()\n",
    "\n",
    "        # TODO\n",
    "\n",
    "        # self.encoder =\n",
    "        # self.decoder =\n",
    "\n",
    "    def forward(self, x):\n",
    "\n",
    "        # TODO\n",
    "\n",
    "        # latent_code =\n",
    "        # reconstruction =\n",
    "\n",
    "        return reconstruction, latent_code"
   ]
  },
  {
   "cell_type": "code",
   "execution_count": null,
   "metadata": {
    "cellId": "8f1bf2446ibf053oqqp23"
   },
   "outputs": [],
   "source": [
    "#!L\n",
    "# Create MSE loss function\n",
    "criterion = torch.nn.MSELoss()\n",
    "\n",
    "autoencoder = Autoencoder().to(device)\n",
    "\n",
    "# Use Adam optimizer\n",
    "optimizer = optim.Adam(autoencoder.parameters())"
   ]
  },
  {
   "cell_type": "code",
   "execution_count": null,
   "metadata": {
    "cellId": "e82r5oam64hjerg3sdntqk",
    "scrolled": true
   },
   "outputs": [],
   "source": [
    "#!L\n",
    "# Train your autoencoder\n",
    "# Visualize progress in reconstruction and loss decay"
   ]
  },
  {
   "cell_type": "code",
   "execution_count": null,
   "metadata": {
    "cellId": "wht35bquv9x8pqkn2yoq",
    "scrolled": true
   },
   "outputs": [],
   "source": [
    "#!L\n",
    "# Examine the reconstructions\n",
    "from itertools import islice\n",
    "\n",
    "images, _ = list(islice(val_loader, 1))[0]\n",
    "reconstruction, latent_code = autoencoder(images.to(device))\n",
    "\n",
    "reconstruction = reconstruction[:16].cpu()\n",
    "plt.imshow(make_grid(reconstruction, nrow=4).permute(1, 2, 0))"
   ]
  },
  {
   "cell_type": "markdown",
   "metadata": {
    "cellId": "jggxzyfwm1kqz5vabt2so"
   },
   "source": [
    "Reconstruction is not bad, right? "
   ]
  },
  {
   "cell_type": "markdown",
   "metadata": {
    "cellId": "nu8p958j82d0l1z0wbyf3d"
   },
   "source": [
    "# Sampling"
   ]
  },
  {
   "cell_type": "markdown",
   "metadata": {
    "cellId": "e4mtn4kx7uea9bzhv2we1p"
   },
   "source": [
    "Let's now sample several latent vectors and perform inference from $z$, reconstruct an image given some random $z$ representations."
   ]
  },
  {
   "cell_type": "code",
   "execution_count": null,
   "metadata": {
    "cellId": "m4ggxytiv3dqeg1z9x9rsa"
   },
   "outputs": [],
   "source": [
    "#!L\n",
    "z = torch.randn(25, dimZ) * 0.5\n",
    "reconstruction = autoencoder.decoder(z.to(device)).clamp(0, 1)\n",
    "\n",
    "plt.imshow(make_grid(reconstruction.cpu(), nrow=5).permute(1, 2, 0))"
   ]
  },
  {
   "cell_type": "markdown",
   "metadata": {
    "cellId": "os8zy0mi8mmdof761sw5"
   },
   "source": [
    "So, if we sample $z$ from normal, whould we eventually generate all possible faces? What do you think?"
   ]
  },
  {
   "cell_type": "markdown",
   "metadata": {
    "cellId": "7d7kabfcggvfxack7ebu1"
   },
   "source": [
    "# Variational Autoencoder"
   ]
  },
  {
   "cell_type": "markdown",
   "metadata": {
    "cellId": "ofn5zc6o4nqrlczljwyvm"
   },
   "source": [
    "Bayesian approach in deep learning considers everything in terms of distributions. Now our encoder generates not just a vector $z$ but posterior ditribution $q(z|x)$. In our case distribution $q$ is Gaussian distibution $N(\\mu, \\sigma)$ with parameters $\\mu$, $\\sigma$. Technically, the first difference is that you need to split bottleneck layer in two. One dense layer will generate vector $\\mu$, and another will generate vector $\\sigma$. Reparametrization trick should be implemented using the **gaussian_sampler** layer, that generates random vetor $\\epsilon$ and returns $\\mu+\\sigma\\epsilon \\sim N(\\mu, \\sigma)$ ."
   ]
  },
  {
   "cell_type": "markdown",
   "metadata": {
    "cellId": "5k6pnq02dhawlxe283zfp9"
   },
   "source": [
    "Since our decoder is also a function that generates distribution, we need to do the same splitting for output layer. When testing the model we will look only on mean values, so one of the output will be actual autoencoder output."
   ]
  },
  {
   "cell_type": "markdown",
   "metadata": {
    "cellId": "e7d3lr8qzeb62w3aj4086h"
   },
   "source": [
    "In this homework we only ask for implementation of the simplest version of VAE - one $z$ sample per input. You can consider to sample several outputs from one input and average them."
   ]
  },
  {
   "cell_type": "code",
   "execution_count": null,
   "metadata": {
    "cellId": "dywijk6xrpc0qod96211e5n"
   },
   "outputs": [],
   "source": [
    "#!L\n",
    "# to compare with conventional AE, keep these hyperparameters\n",
    "# or change them for the values that you used before\n",
    "dimZ = 100\n",
    "\n",
    "# define the network\n",
    "# you can start from https://github.com/pytorch/examples/blob/master/vae/main.py\n",
    "# or Theano-based examples here https://github.com/Lasagne/Recipes/blob/master/examples/variational_autoencoder/variational_autoencoder.py\n",
    "# and here https://github.com/y0ast/Variational-Autoencoder/blob/master/VAE.py\n",
    "# but remember that this is not your ground truth since the data is not MNIST\n",
    "\n",
    "\n",
    "class VAE(nn.Module):\n",
    "    def __init__(self):\n",
    "        super(VAE, self).__init__()\n",
    "\n",
    "        # TODO\n",
    "\n",
    "    def gaussian_sampler(self, mu, logsigma):\n",
    "        noise = torch.randn_like(mu)\n",
    "        return noise * logsigma.exp() + mu\n",
    "\n",
    "    def forward(self, x):\n",
    "        # TODO\n",
    "        # return reconstruction_mu, reconstruction_logsigma, latent_mu, latent_logsigma"
   ]
  },
  {
   "cell_type": "markdown",
   "metadata": {
    "cellId": "0o781ve94pxnkcxqgv3sbxp"
   },
   "source": [
    "And the last, but not least! Place in the code where the most of the formulaes goes to - optimization objective. The objective for VAE has it's own name - variational lowerbound. And as for any lowerbound our intention is to maximize it. Here it is (for one sample $z$ per input $x$):\n",
    "\n",
    "$$\\mathcal{L} = -D_{KL}(q_{\\phi}(z|x)||p(z)) + \\log p_{\\theta}(x|z)$$\n",
    "\n",
    "Your next task is to implement two functions that compute KL-divergence and the second term - log-likelihood of an output. Here is some necessary math for your convenience:\n",
    "\n",
    "$$D_{KL} = -\\frac{1}{2}\\sum_{i=1}^{dimZ}(1+log(\\sigma_i^2)-\\mu_i^2-\\sigma_i^2)$$\n",
    "$$\\log p_{\\theta}(x|z) = \\sum_{i=1}^{dimX}\\log p_{\\theta}(x_i|z)=\\sum_{i=1}^{dimX} \\log \\Big( \\frac{1}{\\sigma_i\\sqrt{2\\pi}}e^{-\\frac{(\\mu_i-x)^2}{2\\sigma_i^2}} \\Big)=...$$\n",
    "\n",
    "Don't forget in the code that you are using $\\log\\sigma$ as variable. Explain, why not $\\sigma$?"
   ]
  },
  {
   "cell_type": "code",
   "execution_count": null,
   "metadata": {
    "cellId": "7c49zto5hmsy8bnzowqwmr"
   },
   "outputs": [],
   "source": [
    "#!L\n",
    "def KL_divergence(mu, logsigma):\n",
    "    return 0\n",
    "\n",
    "\n",
    "def log_likelihood(x, mu, logsigma):\n",
    "    return 0\n",
    "\n",
    "\n",
    "def loss_vae(x, mu_gen, logsigma_gen, mu_z, logsigma_z):\n",
    "    return 0"
   ]
  },
  {
   "cell_type": "markdown",
   "metadata": {
    "cellId": "9xo2ps07s61nzdfd22z7m"
   },
   "source": [
    "And train the model:"
   ]
  },
  {
   "cell_type": "code",
   "execution_count": null,
   "metadata": {
    "cellId": "somnxg2n5tzp9trnn145c"
   },
   "outputs": [],
   "source": [
    "#!L\n",
    "# train your autoencoder\n",
    "# visualize progress in reconstruction and loss decay"
   ]
  },
  {
   "cell_type": "code",
   "execution_count": null,
   "metadata": {
    "cellId": "q42v94dxf4loe2yhzq1nf"
   },
   "outputs": [],
   "source": [
    "#!L\n",
    "images, _ = list(islice(val_loader, 1))[0]\n",
    "reconstruction, latent_code = autoencoder(images.to(device))\n",
    "\n",
    "reconstruction = reconstruction[:16].cpu()\n",
    "plt.imshow(make_grid(reconstruction, nrow=4).permute(1, 2, 0))"
   ]
  },
  {
   "cell_type": "markdown",
   "metadata": {
    "cellId": "tr47q60c5rkiindeozszcc"
   },
   "source": [
    "And finally sample from VAE."
   ]
  },
  {
   "cell_type": "code",
   "execution_count": null,
   "metadata": {
    "cellId": "3c13phozvnjd0csd4u1nee"
   },
   "outputs": [],
   "source": [
    "#!L\n",
    "# TODO\n",
    "# Sample some images from the learned distribution\n",
    "# 1) Sample z ~ N(0,1)\n",
    "# 2) Sample from N(decoder_mu(z), decoder_sigma(z))"
   ]
  },
  {
   "cell_type": "markdown",
   "metadata": {
    "cellId": "g6ows4jer0d9404qm16i8b"
   },
   "source": [
    "Even if in practice you do not see the much difference between AE and VAE, or VAE is even worse, the little bayesian inside you should be jumping for joy right now. \n",
    "\n",
    "In VAE you can truly sample from image distribution $p(x)$, while in AE there is no easy and correct way to do it. "
   ]
  },
  {
   "cell_type": "markdown",
   "metadata": {
    "cellId": "7feohdzqo1tyjhijh0siz"
   },
   "source": [
    "## If you are going to do part 4 (presicion-recall score): "
   ]
  },
  {
   "cell_type": "code",
   "execution_count": null,
   "metadata": {
    "cellId": "km0tq6wrgrr06evch0w4xj"
   },
   "outputs": [],
   "source": [
    "#!L\n",
    "# using your model, generate face set with len = 10000\n",
    "answ = <generated dataset>"
   ]
  },
  {
   "cell_type": "markdown",
   "metadata": {
    "cellId": "51kucu92688b7mco3hwgeg"
   },
   "source": [
    "## Save it ot npz"
   ]
  },
  {
   "cell_type": "code",
   "execution_count": null,
   "metadata": {
    "cellId": "p5h0q96dmge4l8qn8y8eo"
   },
   "outputs": [],
   "source": [
    "#!L\n",
    "np.savez(\"vae.npz\", Pictures=answ)"
   ]
  },
  {
   "cell_type": "markdown",
   "metadata": {
    "cellId": "0u13glzi39t31uaukxz51s"
   },
   "source": [
    "# Congrats! and Bonus\n",
    "\n",
    "If you managed to tune your autoencoders to converge and learn something about the world, now it's time to make fun out of it. As you may have noticed, there are face attributes in dataset. We're interesting in \"Smiling\" column (index 31 of the attribute vector), but feel free to try others as well! Here is the first task:\n",
    "\n",
    "1) Extract the \"Smilling\" attribute and create a two sets of images: 10 smiling faces and 10 non-smiling ones.\n",
    "\n",
    "2) Compute latent representations for each image in \"smiling\" set and average those latent vectors. Do the same for \"non-smiling\" set. You have found **\"vector representation\"** of the \"smile\" and \"no smile\" attribute.\n",
    "\n",
    "3) Compute the difference: \"smile\" vector minus \"non-smile\" vector.\n",
    "\n",
    "3) Now check if **\"feature arithmetics\"** works. Sample a face without smile, encode it and add the diff from p. 3. Check if it works with both AE and VAE. "
   ]
  },
  {
   "cell_type": "markdown",
   "metadata": {
    "cellId": "4cgipmmem4hjhtysfoth2b"
   },
   "source": [
    "<img src=\"linear.png\" alt=\"linear\">"
   ]
  }
 ],
 "metadata": {
  "kernelspec": {
   "display_name": "Python 3",
   "language": "python",
   "name": "python3"
  },
  "language_info": {
   "codemirror_mode": {
    "name": "ipython",
    "version": 3
   },
   "file_extension": ".py",
   "mimetype": "text/x-python",
   "name": "python",
   "nbconvert_exporter": "python",
   "pygments_lexer": "ipython3",
   "version": "3.8.5"
  },
  "notebookId": "22477e77-25ff-4fa8-a12b-be8e5e90907d"
 },
 "nbformat": 4,
 "nbformat_minor": 4
}
