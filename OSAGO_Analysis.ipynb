{
  "nbformat": 4,
  "nbformat_minor": 0,
  "metadata": {
    "kernelspec": {
      "display_name": "Python 3",
      "language": "python",
      "name": "python3"
    },
    "language_info": {
      "codemirror_mode": {
        "name": "ipython",
        "version": 3
      },
      "file_extension": ".py",
      "mimetype": "text/x-python",
      "name": "python",
      "nbconvert_exporter": "python",
      "pygments_lexer": "ipython3",
      "version": "3.7.0"
    },
    "colab": {
      "name": "Model_s.ipynb",
      "provenance": [],
      "collapsed_sections": []
    }
  },
  "cells": [
    {
      "cell_type": "code",
      "metadata": {
        "id": "cfPXk_OZ1yKP"
      },
      "source": [
        "import pandas as pd\n",
        "import numpy as np\n",
        "import sklearn\n",
        "import seaborn as sns\n",
        "import matplotlib.pyplot as plt\n",
        "%matplotlib inline"
      ],
      "execution_count": 1,
      "outputs": []
    },
    {
      "cell_type": "markdown",
      "metadata": {
        "id": "9ByfH-zq1yKS"
      },
      "source": [
        "## Гипотеза/вопрос исследования:\n",
        "Объясняется ли показатель (количество судов)/(количество полисов ОСАГО) в разрезе Страховых компаний и Регионов от\n",
        "\n",
        "1) Размера средней выплаты\n",
        "\n",
        "2) Размера страховой премии\n",
        "\n",
        "3) Региона\n",
        "\n",
        "## Задача\n",
        "Обучить линейную регрессию на параметрах 1) - 3) для предсказания целевого значения. По оценке на тесте потвердить или опровергнуть гипотезу.\n",
        "\n",
        "## Используемые данные:\n",
        "- Данные по судебным делам по ОСАГО за 2019 г. в 8 регионах\n",
        "- Статистика ЦБ РФ по ключевым показателям деятельности страховых компаний по ОСАГО за 2019 г."
      ]
    },
    {
      "cell_type": "markdown",
      "metadata": {
        "id": "Avv7gVRt1yKT"
      },
      "source": [
        "## Считываем данные \n",
        "* списки страховых\n",
        "* списки регионов"
      ]
    },
    {
      "cell_type": "code",
      "metadata": {
        "colab": {
          "resources": {
            "http://localhost:8080/nbextensions/google.colab/files.js": {
              "data": "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",
              "ok": true,
              "headers": [
                [
                  "content-type",
                  "application/javascript"
                ]
              ],
              "status": 200,
              "status_text": ""
            }
          },
          "base_uri": "https://localhost:8080/",
          "height": 72
        },
        "id": "iLvDXcKE18lS",
        "outputId": "a79ab70b-f502-4b62-e25b-38409ab3af0c"
      },
      "source": [
        "from google.colab import files\n",
        "file = files.upload()"
      ],
      "execution_count": 5,
      "outputs": [
        {
          "output_type": "display_data",
          "data": {
            "text/html": [
              "\n",
              "     <input type=\"file\" id=\"files-c7c0c113-929d-4d81-a1e5-5f8c408cc08b\" name=\"files[]\" multiple disabled\n",
              "        style=\"border:none\" />\n",
              "     <output id=\"result-c7c0c113-929d-4d81-a1e5-5f8c408cc08b\">\n",
              "      Upload widget is only available when the cell has been executed in the\n",
              "      current browser session. Please rerun this cell to enable.\n",
              "      </output>\n",
              "      <script src=\"/nbextensions/google.colab/files.js\"></script> "
            ],
            "text/plain": [
              "<IPython.core.display.HTML object>"
            ]
          },
          "metadata": {
            "tags": []
          }
        },
        {
          "output_type": "stream",
          "text": [
            "Saving Model.zip to Model.zip\n"
          ],
          "name": "stdout"
        }
      ]
    },
    {
      "cell_type": "code",
      "metadata": {
        "colab": {
          "base_uri": "https://localhost:8080/",
          "height": 0
        },
        "id": "4XKYMLjs22Tc",
        "outputId": "38123eae-d16e-41f7-f4f6-662fbe125bab"
      },
      "source": [
        "!unzip Model.zip"
      ],
      "execution_count": 6,
      "outputs": [
        {
          "output_type": "stream",
          "text": [
            "Archive:  Model.zip\n",
            "  inflating: all_data.xlsx           \n",
            "  inflating: inner.jpg               \n",
            "  inflating: Model_s.ipynb           \n",
            "  inflating: Страховые_по_регионам_2019.xlsx  \n"
          ],
          "name": "stdout"
        }
      ]
    },
    {
      "cell_type": "code",
      "metadata": {
        "colab": {
          "base_uri": "https://localhost:8080/",
          "height": 0
        },
        "id": "cmoKmbbi1yKT",
        "outputId": "8962d9a4-78cf-47f3-b85d-e98e9b869d5f"
      },
      "source": [
        "df1 = pd.read_excel('all_data.xlsx')\n",
        "df2 = pd.read_excel('Страховые_по_регионам_2019.xlsx') \n",
        "df2[df2['Страховые премии 2019'] > 0].shape[0]"
      ],
      "execution_count": 7,
      "outputs": [
        {
          "output_type": "execute_result",
          "data": {
            "text/plain": [
              "2685"
            ]
          },
          "metadata": {
            "tags": []
          },
          "execution_count": 7
        }
      ]
    },
    {
      "cell_type": "code",
      "metadata": {
        "id": "vEQPaW8P1yKU"
      },
      "source": [
        "Insurance_company = ['АК БАРС Страхование', 'ВТБ Страхование', 'Ингосстрах',\n",
        "                    'МетЛайф', 'Райффайзен Лайф', 'Сбербанк страхование', 'СОГАЗ',\n",
        "                    'СОГАЗ-ЖИЗНЬ', 'АИГ', 'АльфаСтрахование', 'РЕСО-Гарантия', 'ВСК',\n",
        "                    'Ингосстрах-Жизнь', 'ППФ Страхование жизни', 'РСХБ-Страхование',\n",
        "                    'СиВ Лайф', 'МАКС', 'Ренессанс Страхование', 'Росгосстрах',\n",
        "                     'Мегарусс-Д', 'Геополис', 'Страховая бизнес группа', \n",
        "                    'Адонис', 'Пари', 'Полис-Гарант', 'Медэкспресс', 'Allianz', 'Либерти',\n",
        "                    'Зетта', 'ЭРГО', 'ВСК', 'Альянс', 'Альфа', 'Ренессанс', 'Тинькофф', 'Аско','РЕСО',\n",
        "                    \"\\\"Согласие\\\"\", 'Абсолют', 'Ренесанс']\n",
        "\n",
        "\n",
        "regions_df1 = ['Санкт-Петербург', \n",
        "               'Краснодар', \n",
        "               'Московская область', \n",
        "               'Нижний Новгород', \n",
        "               'Ростов', \n",
        "               'Владивосток',\n",
        "               'Москва', \n",
        "               'Екатеринбург']\n",
        "\n",
        "\n",
        "regions_df2 = ['Ленинградская область', \n",
        "               'Город Москва столица Российской Федерации город федерального значения',\n",
        "               'Город Санкт-Петербург город федерального значения',\n",
        "               'Московская область',\n",
        "               'Ростовская область',\n",
        "               'Свердловская область',\n",
        "               'Нижегородская область',\n",
        "               'Приморский край',\n",
        "               'Краснодарский край']"
      ],
      "execution_count": 8,
      "outputs": []
    },
    {
      "cell_type": "code",
      "metadata": {
        "colab": {
          "base_uri": "https://localhost:8080/",
          "height": 0
        },
        "id": "rVzDgEZX1yKV",
        "outputId": "7765efcf-1d22-4164-e3eb-bccf216c6ff9"
      },
      "source": [
        "print(Insurance_company)"
      ],
      "execution_count": 9,
      "outputs": [
        {
          "output_type": "stream",
          "text": [
            "['АК БАРС Страхование', 'ВТБ Страхование', 'Ингосстрах', 'МетЛайф', 'Райффайзен Лайф', 'Сбербанк страхование', 'СОГАЗ', 'СОГАЗ-ЖИЗНЬ', 'АИГ', 'АльфаСтрахование', 'РЕСО-Гарантия', 'ВСК', 'Ингосстрах-Жизнь', 'ППФ Страхование жизни', 'РСХБ-Страхование', 'СиВ Лайф', 'МАКС', 'Ренессанс Страхование', 'Росгосстрах', 'Мегарусс-Д', 'Геополис', 'Страховая бизнес группа', 'Адонис', 'Пари', 'Полис-Гарант', 'Медэкспресс', 'Allianz', 'Либерти', 'Зетта', 'ЭРГО', 'ВСК', 'Альянс', 'Альфа', 'Ренессанс', 'Тинькофф', 'Аско', 'РЕСО', '\"Согласие\"', 'Абсолют', 'Ренесанс']\n"
          ],
          "name": "stdout"
        }
      ]
    },
    {
      "cell_type": "code",
      "metadata": {
        "colab": {
          "base_uri": "https://localhost:8080/",
          "height": 289
        },
        "id": "gBmmAzgj1yKV",
        "outputId": "223269a6-737d-4c3a-ffe8-68dcaa1df81d"
      },
      "source": [
        "df1.head()"
      ],
      "execution_count": 10,
      "outputs": [
        {
          "output_type": "execute_result",
          "data": {
            "text/html": [
              "<div>\n",
              "<style scoped>\n",
              "    .dataframe tbody tr th:only-of-type {\n",
              "        vertical-align: middle;\n",
              "    }\n",
              "\n",
              "    .dataframe tbody tr th {\n",
              "        vertical-align: top;\n",
              "    }\n",
              "\n",
              "    .dataframe thead th {\n",
              "        text-align: right;\n",
              "    }\n",
              "</style>\n",
              "<table border=\"1\" class=\"dataframe\">\n",
              "  <thead>\n",
              "    <tr style=\"text-align: right;\">\n",
              "      <th></th>\n",
              "      <th>category</th>\n",
              "      <th>clainmant</th>\n",
              "      <th>court</th>\n",
              "      <th>date</th>\n",
              "      <th>defendant</th>\n",
              "      <th>id</th>\n",
              "      <th>name_judge</th>\n",
              "      <th>result</th>\n",
              "      <th>Регион</th>\n",
              "    </tr>\n",
              "  </thead>\n",
              "  <tbody>\n",
              "    <tr>\n",
              "      <th>0</th>\n",
              "      <td>Иски, связанные с возмещением ущерба → О взыск...</td>\n",
              "      <td>Лонский Андрей Александрович</td>\n",
              "      <td>Санкт-Петербургский городской суд</td>\n",
              "      <td>2019-01-04</td>\n",
              "      <td>АО СОГАЗСуд (мировой судья) первой инстанции: ...</td>\n",
              "      <td>33-7747/2019</td>\n",
              "      <td>Медведкина Виктория Александровна</td>\n",
              "      <td>решение (осн. требов.) отменено в части с выне...</td>\n",
              "      <td>Санкт-Петербург</td>\n",
              "    </tr>\n",
              "    <tr>\n",
              "      <th>1</th>\n",
              "      <td>Иски, связанные с возмещением ущерба → О взыск...</td>\n",
              "      <td>Гаркавенко Михаил иванович</td>\n",
              "      <td>Приморский районный суд города Санкт-Петербурга</td>\n",
              "      <td>2019-01-04</td>\n",
              "      <td>ПАО СК \"Росгосстрах\"</td>\n",
              "      <td>11-179/2019</td>\n",
              "      <td>Масленникова Любовь Олеговна</td>\n",
              "      <td>Дело окончено</td>\n",
              "      <td>Санкт-Петербург</td>\n",
              "    </tr>\n",
              "    <tr>\n",
              "      <th>2</th>\n",
              "      <td>Иски, связанные с возмещением ущерба → О взыск...</td>\n",
              "      <td>Хлыстов Никита Борисович</td>\n",
              "      <td>Петродворцовый районный суд города Санкт-Петер...</td>\n",
              "      <td>2019-01-04</td>\n",
              "      <td>ООО \"Агро-авто\", СПАО \"Ингосстрах\"</td>\n",
              "      <td>2-251/2019 (2-2227/2018;) ~ М-1812/2018</td>\n",
              "      <td>Петрова Ирина Владимировна</td>\n",
              "      <td>Вынесено решение по делу</td>\n",
              "      <td>Санкт-Петербург</td>\n",
              "    </tr>\n",
              "    <tr>\n",
              "      <th>3</th>\n",
              "      <td>Иски, связанные с возмещением ущерба → О взыск...</td>\n",
              "      <td>Смирнов Александр Михайлович</td>\n",
              "      <td>Санкт-Петербургский городской суд</td>\n",
              "      <td>2019-01-04</td>\n",
              "      <td>ООО Группа Ренессанс СтрахованиеСуд (мировой с...</td>\n",
              "      <td>33-8800/2019</td>\n",
              "      <td>Медведкина Виктория Александровна</td>\n",
              "      <td>ОПРЕДЕЛЕНИЕ оставлено БЕЗ ИЗМЕНЕНИЯ</td>\n",
              "      <td>Санкт-Петербург</td>\n",
              "    </tr>\n",
              "    <tr>\n",
              "      <th>4</th>\n",
              "      <td>Иски, связанные с возмещением ущерба → О взыск...</td>\n",
              "      <td>Григорьева Римма Николаевна</td>\n",
              "      <td>Приморский районный суд города Санкт-Петербурга</td>\n",
              "      <td>2019-01-07</td>\n",
              "      <td>СПАО «РЕСО-Гарантия»</td>\n",
              "      <td>2-7822/2019</td>\n",
              "      <td>Тумасян Каринэ Левоновна</td>\n",
              "      <td>Переход к рассмотрению дела в порядке упрощенн...</td>\n",
              "      <td>Санкт-Петербург</td>\n",
              "    </tr>\n",
              "  </tbody>\n",
              "</table>\n",
              "</div>"
            ],
            "text/plain": [
              "                                            category  ...           Регион\n",
              "0  Иски, связанные с возмещением ущерба → О взыск...  ...  Санкт-Петербург\n",
              "1  Иски, связанные с возмещением ущерба → О взыск...  ...  Санкт-Петербург\n",
              "2  Иски, связанные с возмещением ущерба → О взыск...  ...  Санкт-Петербург\n",
              "3  Иски, связанные с возмещением ущерба → О взыск...  ...  Санкт-Петербург\n",
              "4  Иски, связанные с возмещением ущерба → О взыск...  ...  Санкт-Петербург\n",
              "\n",
              "[5 rows x 9 columns]"
            ]
          },
          "metadata": {
            "tags": []
          },
          "execution_count": 10
        }
      ]
    },
    {
      "cell_type": "code",
      "metadata": {
        "colab": {
          "base_uri": "https://localhost:8080/",
          "height": 204
        },
        "id": "jEpPTP2p1yKW",
        "outputId": "d0884a9d-38c5-4a96-ab1b-0a6171bb7652"
      },
      "source": [
        "df2.head()"
      ],
      "execution_count": 11,
      "outputs": [
        {
          "output_type": "execute_result",
          "data": {
            "text/html": [
              "<div>\n",
              "<style scoped>\n",
              "    .dataframe tbody tr th:only-of-type {\n",
              "        vertical-align: middle;\n",
              "    }\n",
              "\n",
              "    .dataframe tbody tr th {\n",
              "        vertical-align: top;\n",
              "    }\n",
              "\n",
              "    .dataframe thead th {\n",
              "        text-align: right;\n",
              "    }\n",
              "</style>\n",
              "<table border=\"1\" class=\"dataframe\">\n",
              "  <thead>\n",
              "    <tr style=\"text-align: right;\">\n",
              "      <th></th>\n",
              "      <th>Unnamed: 0</th>\n",
              "      <th>Страховая_Регион</th>\n",
              "      <th>Регион</th>\n",
              "      <th>Выплаты 2019</th>\n",
              "      <th>Заключенные договора 2019</th>\n",
              "      <th>Страховые премии 2019</th>\n",
              "    </tr>\n",
              "  </thead>\n",
              "  <tbody>\n",
              "    <tr>\n",
              "      <th>0</th>\n",
              "      <td>0</td>\n",
              "      <td>АО  \"Тинькофф  Страхование\"</td>\n",
              "      <td>Алтайский край</td>\n",
              "      <td>9449.69055</td>\n",
              "      <td>4840</td>\n",
              "      <td>24529.51090</td>\n",
              "    </tr>\n",
              "    <tr>\n",
              "      <th>1</th>\n",
              "      <td>1</td>\n",
              "      <td>АО \"АльфаСтрахование\"</td>\n",
              "      <td>Алтайский край</td>\n",
              "      <td>117108.18647</td>\n",
              "      <td>29681</td>\n",
              "      <td>147624.16527</td>\n",
              "    </tr>\n",
              "    <tr>\n",
              "      <th>2</th>\n",
              "      <td>2</td>\n",
              "      <td>АО \"Боровицкое страховое общество\"</td>\n",
              "      <td>Алтайский край</td>\n",
              "      <td>537.17700</td>\n",
              "      <td>25</td>\n",
              "      <td>159.66863</td>\n",
              "    </tr>\n",
              "    <tr>\n",
              "      <th>3</th>\n",
              "      <td>3</td>\n",
              "      <td>АО \"ГСК \"Югория\"</td>\n",
              "      <td>Алтайский край</td>\n",
              "      <td>61409.69384</td>\n",
              "      <td>32109</td>\n",
              "      <td>132742.13345</td>\n",
              "    </tr>\n",
              "    <tr>\n",
              "      <th>4</th>\n",
              "      <td>4</td>\n",
              "      <td>АО \"ЕРВ Туристическое Страхование\"</td>\n",
              "      <td>Алтайский край</td>\n",
              "      <td>0.00000</td>\n",
              "      <td>0</td>\n",
              "      <td>0.00000</td>\n",
              "    </tr>\n",
              "  </tbody>\n",
              "</table>\n",
              "</div>"
            ],
            "text/plain": [
              "   Unnamed: 0  ... Страховые премии 2019\n",
              "0           0  ...           24529.51090\n",
              "1           1  ...          147624.16527\n",
              "2           2  ...             159.66863\n",
              "3           3  ...          132742.13345\n",
              "4           4  ...               0.00000\n",
              "\n",
              "[5 rows x 6 columns]"
            ]
          },
          "metadata": {
            "tags": []
          },
          "execution_count": 11
        }
      ]
    },
    {
      "cell_type": "code",
      "metadata": {
        "colab": {
          "base_uri": "https://localhost:8080/",
          "height": 0
        },
        "id": "f9TNTHqT1yKW",
        "outputId": "8c5ead09-7624-4d84-db51-4d4907398b41"
      },
      "source": [
        "df2[df2['Страховые премии 2019'] != 0].shape[0]"
      ],
      "execution_count": 12,
      "outputs": [
        {
          "output_type": "execute_result",
          "data": {
            "text/plain": [
              "2688"
            ]
          },
          "metadata": {
            "tags": []
          },
          "execution_count": 12
        }
      ]
    },
    {
      "cell_type": "markdown",
      "metadata": {
        "id": "LzDX2z5V1yKW"
      },
      "source": [
        "### Оставляем у таблицы судов только Страховые-ответчики и регионы"
      ]
    },
    {
      "cell_type": "code",
      "metadata": {
        "colab": {
          "base_uri": "https://localhost:8080/",
          "height": 359
        },
        "id": "UY-IFIyq1yKX",
        "outputId": "c7141f9f-8661-48d1-d537-4fc81840c9fa"
      },
      "source": [
        "df1 = df1[['defendant', 'Регион']]\n",
        "df1.to_excel('Params_2019.xlsx')\n",
        "df1.head(10)"
      ],
      "execution_count": 13,
      "outputs": [
        {
          "output_type": "execute_result",
          "data": {
            "text/html": [
              "<div>\n",
              "<style scoped>\n",
              "    .dataframe tbody tr th:only-of-type {\n",
              "        vertical-align: middle;\n",
              "    }\n",
              "\n",
              "    .dataframe tbody tr th {\n",
              "        vertical-align: top;\n",
              "    }\n",
              "\n",
              "    .dataframe thead th {\n",
              "        text-align: right;\n",
              "    }\n",
              "</style>\n",
              "<table border=\"1\" class=\"dataframe\">\n",
              "  <thead>\n",
              "    <tr style=\"text-align: right;\">\n",
              "      <th></th>\n",
              "      <th>defendant</th>\n",
              "      <th>Регион</th>\n",
              "    </tr>\n",
              "  </thead>\n",
              "  <tbody>\n",
              "    <tr>\n",
              "      <th>0</th>\n",
              "      <td>АО СОГАЗСуд (мировой судья) первой инстанции: ...</td>\n",
              "      <td>Санкт-Петербург</td>\n",
              "    </tr>\n",
              "    <tr>\n",
              "      <th>1</th>\n",
              "      <td>ПАО СК \"Росгосстрах\"</td>\n",
              "      <td>Санкт-Петербург</td>\n",
              "    </tr>\n",
              "    <tr>\n",
              "      <th>2</th>\n",
              "      <td>ООО \"Агро-авто\", СПАО \"Ингосстрах\"</td>\n",
              "      <td>Санкт-Петербург</td>\n",
              "    </tr>\n",
              "    <tr>\n",
              "      <th>3</th>\n",
              "      <td>ООО Группа Ренессанс СтрахованиеСуд (мировой с...</td>\n",
              "      <td>Санкт-Петербург</td>\n",
              "    </tr>\n",
              "    <tr>\n",
              "      <th>4</th>\n",
              "      <td>СПАО «РЕСО-Гарантия»</td>\n",
              "      <td>Санкт-Петербург</td>\n",
              "    </tr>\n",
              "    <tr>\n",
              "      <th>5</th>\n",
              "      <td>СПАО «РЕСО-Гарантия»</td>\n",
              "      <td>Санкт-Петербург</td>\n",
              "    </tr>\n",
              "    <tr>\n",
              "      <th>6</th>\n",
              "      <td>СПАО «РЕСО-Гарантия»</td>\n",
              "      <td>Санкт-Петербург</td>\n",
              "    </tr>\n",
              "    <tr>\n",
              "      <th>7</th>\n",
              "      <td>АО  Альфа СтрахованиеСуд (мировой судья) перво...</td>\n",
              "      <td>Санкт-Петербург</td>\n",
              "    </tr>\n",
              "    <tr>\n",
              "      <th>8</th>\n",
              "      <td>СПАО \"РЕСО-Гарантия\"</td>\n",
              "      <td>Санкт-Петербург</td>\n",
              "    </tr>\n",
              "    <tr>\n",
              "      <th>9</th>\n",
              "      <td>ООО \"Группа Ренессанс Страхование\", ПАО СК \"Ро...</td>\n",
              "      <td>Санкт-Петербург</td>\n",
              "    </tr>\n",
              "  </tbody>\n",
              "</table>\n",
              "</div>"
            ],
            "text/plain": [
              "                                           defendant           Регион\n",
              "0  АО СОГАЗСуд (мировой судья) первой инстанции: ...  Санкт-Петербург\n",
              "1                               ПАО СК \"Росгосстрах\"  Санкт-Петербург\n",
              "2                 ООО \"Агро-авто\", СПАО \"Ингосстрах\"  Санкт-Петербург\n",
              "3  ООО Группа Ренессанс СтрахованиеСуд (мировой с...  Санкт-Петербург\n",
              "4                               СПАО «РЕСО-Гарантия»  Санкт-Петербург\n",
              "5                               СПАО «РЕСО-Гарантия»  Санкт-Петербург\n",
              "6                               СПАО «РЕСО-Гарантия»  Санкт-Петербург\n",
              "7  АО  Альфа СтрахованиеСуд (мировой судья) перво...  Санкт-Петербург\n",
              "8                               СПАО \"РЕСО-Гарантия\"  Санкт-Петербург\n",
              "9  ООО \"Группа Ренессанс Страхование\", ПАО СК \"Ро...  Санкт-Петербург"
            ]
          },
          "metadata": {
            "tags": []
          },
          "execution_count": 13
        }
      ]
    },
    {
      "cell_type": "markdown",
      "metadata": {
        "id": "KqLBAkX01yKX"
      },
      "source": [
        "### Унифицируем регионы для таблицы данных ЦБ РФ"
      ]
    },
    {
      "cell_type": "code",
      "metadata": {
        "colab": {
          "base_uri": "https://localhost:8080/",
          "height": 359
        },
        "id": "sI6RJiGr1yKX",
        "outputId": "f02301ea-658d-4ffc-b6ff-523ecadc46e0"
      },
      "source": [
        "df2 = df2[df2['Регион'].isin(regions_df2) == True].reset_index(drop=True)\n",
        "\n",
        "df2 = df2.replace({'Регион' : {'Краснодарский край' : 'Краснодар', \n",
        "                               'Свердловская область' : 'Екатеринбург', \n",
        "                               'Город Москва столица Российской Федерации город федерального значения' : 'Москва',\n",
        "                               'Ростовская область' : 'Ростов',\n",
        "                               'Приморский край' : 'Владивосток',\n",
        "                               'Нижегородская область' : 'Нижний Новгород',\n",
        "                               'Город Санкт-Петербург город федерального значения' : 'Санкт-Петербург',\n",
        "                               'Ленинградская область' : 'Санкт-Петербург'}\n",
        "                  })\n",
        "\n",
        "\n",
        "df2.head(10)"
      ],
      "execution_count": 14,
      "outputs": [
        {
          "output_type": "execute_result",
          "data": {
            "text/html": [
              "<div>\n",
              "<style scoped>\n",
              "    .dataframe tbody tr th:only-of-type {\n",
              "        vertical-align: middle;\n",
              "    }\n",
              "\n",
              "    .dataframe tbody tr th {\n",
              "        vertical-align: top;\n",
              "    }\n",
              "\n",
              "    .dataframe thead th {\n",
              "        text-align: right;\n",
              "    }\n",
              "</style>\n",
              "<table border=\"1\" class=\"dataframe\">\n",
              "  <thead>\n",
              "    <tr style=\"text-align: right;\">\n",
              "      <th></th>\n",
              "      <th>Unnamed: 0</th>\n",
              "      <th>Страховая_Регион</th>\n",
              "      <th>Регион</th>\n",
              "      <th>Выплаты 2019</th>\n",
              "      <th>Заключенные договора 2019</th>\n",
              "      <th>Страховые премии 2019</th>\n",
              "    </tr>\n",
              "  </thead>\n",
              "  <tbody>\n",
              "    <tr>\n",
              "      <th>0</th>\n",
              "      <td>56</td>\n",
              "      <td>ООО \"СК\" Райффайзен Лайф\"</td>\n",
              "      <td>Краснодар</td>\n",
              "      <td>0.000000e+00</td>\n",
              "      <td>0</td>\n",
              "      <td>0.000000e+00</td>\n",
              "    </tr>\n",
              "    <tr>\n",
              "      <th>1</th>\n",
              "      <td>57</td>\n",
              "      <td>АО  \"Тинькофф  Страхование\"</td>\n",
              "      <td>Краснодар</td>\n",
              "      <td>3.919003e+04</td>\n",
              "      <td>19872</td>\n",
              "      <td>1.198536e+05</td>\n",
              "    </tr>\n",
              "    <tr>\n",
              "      <th>2</th>\n",
              "      <td>58</td>\n",
              "      <td>АО \"АльфаСтрахование\"</td>\n",
              "      <td>Краснодар</td>\n",
              "      <td>1.433961e+06</td>\n",
              "      <td>293572</td>\n",
              "      <td>1.567389e+06</td>\n",
              "    </tr>\n",
              "    <tr>\n",
              "      <th>3</th>\n",
              "      <td>59</td>\n",
              "      <td>АО \"Боровицкое страховое общество\"</td>\n",
              "      <td>Краснодар</td>\n",
              "      <td>1.453985e+03</td>\n",
              "      <td>182</td>\n",
              "      <td>1.275443e+03</td>\n",
              "    </tr>\n",
              "    <tr>\n",
              "      <th>4</th>\n",
              "      <td>60</td>\n",
              "      <td>АО \"Группа Ренессанс Страхование\"</td>\n",
              "      <td>Краснодар</td>\n",
              "      <td>1.791461e+04</td>\n",
              "      <td>1260</td>\n",
              "      <td>8.502255e+03</td>\n",
              "    </tr>\n",
              "    <tr>\n",
              "      <th>5</th>\n",
              "      <td>61</td>\n",
              "      <td>АО \"ГСК \"Югория\"</td>\n",
              "      <td>Краснодар</td>\n",
              "      <td>2.127516e+05</td>\n",
              "      <td>61125</td>\n",
              "      <td>3.316553e+05</td>\n",
              "    </tr>\n",
              "    <tr>\n",
              "      <th>6</th>\n",
              "      <td>62</td>\n",
              "      <td>АО \"Д2  Страхование\"</td>\n",
              "      <td>Краснодар</td>\n",
              "      <td>0.000000e+00</td>\n",
              "      <td>0</td>\n",
              "      <td>0.000000e+00</td>\n",
              "    </tr>\n",
              "    <tr>\n",
              "      <th>7</th>\n",
              "      <td>63</td>\n",
              "      <td>АО \"ЕРВ Туристическое Страхование\"</td>\n",
              "      <td>Краснодар</td>\n",
              "      <td>0.000000e+00</td>\n",
              "      <td>0</td>\n",
              "      <td>0.000000e+00</td>\n",
              "    </tr>\n",
              "    <tr>\n",
              "      <th>8</th>\n",
              "      <td>64</td>\n",
              "      <td>АО \"МАКС\"</td>\n",
              "      <td>Краснодар</td>\n",
              "      <td>2.486343e+05</td>\n",
              "      <td>2474</td>\n",
              "      <td>1.755921e+04</td>\n",
              "    </tr>\n",
              "    <tr>\n",
              "      <th>9</th>\n",
              "      <td>65</td>\n",
              "      <td>АО \"МетЛайф\"</td>\n",
              "      <td>Краснодар</td>\n",
              "      <td>0.000000e+00</td>\n",
              "      <td>0</td>\n",
              "      <td>0.000000e+00</td>\n",
              "    </tr>\n",
              "  </tbody>\n",
              "</table>\n",
              "</div>"
            ],
            "text/plain": [
              "   Unnamed: 0  ... Страховые премии 2019\n",
              "0          56  ...          0.000000e+00\n",
              "1          57  ...          1.198536e+05\n",
              "2          58  ...          1.567389e+06\n",
              "3          59  ...          1.275443e+03\n",
              "4          60  ...          8.502255e+03\n",
              "5          61  ...          3.316553e+05\n",
              "6          62  ...          0.000000e+00\n",
              "7          63  ...          0.000000e+00\n",
              "8          64  ...          1.755921e+04\n",
              "9          65  ...          0.000000e+00\n",
              "\n",
              "[10 rows x 6 columns]"
            ]
          },
          "metadata": {
            "tags": []
          },
          "execution_count": 14
        }
      ]
    },
    {
      "cell_type": "markdown",
      "metadata": {
        "id": "mJHOf3gI1yKY"
      },
      "source": [
        "### Унифицируем страховые для 2-х таблиц"
      ]
    },
    {
      "cell_type": "code",
      "metadata": {
        "id": "vs6ddMKj1yKY"
      },
      "source": [
        "list_str = list(df2['Страховая_Регион'].unique())\n",
        "df1_tmp = df1\n",
        "df1 = df1_tmp"
      ],
      "execution_count": 15,
      "outputs": []
    },
    {
      "cell_type": "code",
      "metadata": {
        "colab": {
          "base_uri": "https://localhost:8080/",
          "height": 0
        },
        "id": "L4p-9D0p1yKZ",
        "outputId": "8c9a935c-5c61-4e08-fcfc-dc081d890fa5"
      },
      "source": [
        "(list_str)"
      ],
      "execution_count": 16,
      "outputs": [
        {
          "output_type": "execute_result",
          "data": {
            "text/plain": [
              "[' ООО \"СК\" Райффайзен Лайф\"',\n",
              " 'АО  \"Тинькофф  Страхование\"',\n",
              " 'АО \"АльфаСтрахование\"',\n",
              " 'АО \"Боровицкое страховое общество\"',\n",
              " 'АО \"Группа Ренессанс Страхование\"',\n",
              " 'АО \"ГСК \"Югория\"',\n",
              " 'АО \"Д2  Страхование\"',\n",
              " 'АО \"ЕРВ Туристическое Страхование\"',\n",
              " 'АО \"МАКС\"',\n",
              " 'АО \"МетЛайф\"',\n",
              " 'АО \"Русский Стандарт Страхование\"',\n",
              " 'АО \"СК \"Астро-Волга\"',\n",
              " 'АО \"СК \"Колымская\"',\n",
              " 'АО \"СК \"ПАРИ\"',\n",
              " 'АО \"СК ГАЙДЕ\"',\n",
              " 'АО \"СО \"Талисман\"',\n",
              " 'АО \"СОГАЗ\"',\n",
              " 'АО \"Страховая бизнес группа\"',\n",
              " 'АО \"УРАЛСИБ Жизнь\"',\n",
              " 'АО ВТБ Страхование жизни',\n",
              " 'АО СК \" Армеец\"',\n",
              " 'АО СК \"Альянс\"',\n",
              " 'АО СК \"БАСК\"',\n",
              " 'АО СК \"Двадцать первый век\"',\n",
              " 'АО СК \"РСХБ-Страхование\"',\n",
              " 'АО СК \"Чулпан\"',\n",
              " 'ОАО \"ЧСК\"',\n",
              " 'ООО  \"Зетта Страхование\"',\n",
              " 'ООО  \"СК \"Мегарусс-Д\"',\n",
              " 'ООО  СК \"Сбербанк страхование жизни\"',\n",
              " 'ООО \"Абсолют Страхование\"     ',\n",
              " 'ООО \"АльфаСтрахование-Жизнь\"',\n",
              " 'ООО \"ВСК-Линия жизни\"',\n",
              " 'ООО \"Капитал Лайф Страхование Жизни\"',\n",
              " 'ООО \"МАКС-Жизнь\"',\n",
              " 'ООО \"НСГ-\"Росэнерго\"',\n",
              " 'ООО \"ОСЖ РЕСО-Гарантия\"',\n",
              " 'ООО \"ППФ Страхование жизни\"',\n",
              " 'ООО \"ПРОМИНСТРАХ\"',\n",
              " 'ООО \"СК \"Ингосстрах-Жизнь\"',\n",
              " 'ООО \"СК \"СЕРВИСРЕЗЕРВ\"',\n",
              " 'ООО \"СК \"Согласие\"',\n",
              " 'ООО \"СК \"ТИТ\"',\n",
              " 'ООО \"СК КАРДИФ\"',\n",
              " 'ООО \"СК СОГАЗ-ЖИЗНЬ\"',\n",
              " 'ООО \"СОСЬЕТЕ ЖЕНЕРАЛЬ Страхование Жизни\"',\n",
              " 'ООО \"СОСЬЕТЕ ЖЕНЕРАЛЬ Страхование\"',\n",
              " 'ООО \"СТРАХОВАЯ КОМПАНИЯ \"АРСЕНАЛЪ\"',\n",
              " 'ООО \"Страховая компания \"Кредит Европа Лайф\"',\n",
              " 'ООО \"Страховая компания \"СДС\" ',\n",
              " 'ООО \"Страховое общество \"Помощь\"',\n",
              " 'ООО \"Страховое общество \"Сургутнефтегаз\"',\n",
              " 'ООО \"СФ \"Адонис\"',\n",
              " 'ООО \"Хоум Кредит Страхование\"',\n",
              " 'ООО РСО  \"ЕВРОИНС\"',\n",
              " 'ООО СК \"ВТБ Страхование\"',\n",
              " 'ООО СК \"ДЕЛО ЖИЗНИ\"',\n",
              " 'ООО СК \"Паритет-СК\"',\n",
              " 'ООО СК \"Росгосстрах Жизнь\"',\n",
              " 'ООО СК \"Сбербанк страхование\"',\n",
              " 'ООО СК \"Согласие-Вита\"',\n",
              " 'ООО СО \"ВЕРНА\"',\n",
              " 'ООО СО \"Геополис\"',\n",
              " 'ООО Страховая Компания  \"Гелиос\"',\n",
              " 'ПАО \"АСКО-СТРАХОВАНИЕ\"',\n",
              " 'ПАО \"САК \"ЭНЕРГОГАРАНТ\"',\n",
              " 'ПАО СК \"Росгосстрах\"',\n",
              " 'САО \"ВСК\"',\n",
              " 'САО \"Медэкспресс\"',\n",
              " 'САО \"Надежда\"',\n",
              " 'САО ЭРГО',\n",
              " 'СПАО \"Ингосстрах\"',\n",
              " 'СПАО \"РЕСО-Гарантия\"',\n",
              " 'АО \"ДальЖАСО\"',\n",
              " 'АО \"СК \"Резерв\"',\n",
              " 'АО \"СК \"Югория-Жизнь\"',\n",
              " 'ООО \"АМТ Страхование\"',\n",
              " 'ООО \"СК \"Ренессанс Жизнь\"',\n",
              " 'ООО СМК \"УГМК-Медицина\"',\n",
              " 'АО \"ОСК\"',\n",
              " 'АО СГ \"Спасские ворота\"',\n",
              " 'АО СК \"ЖСФ\"',\n",
              " 'Либерти Страхование (АО)',\n",
              " 'ООО  СК \"Альянс Жизнь\"',\n",
              " 'ООО \"СК \"Гранта\"',\n",
              " 'ООО \"СК Екатеринбург\"',\n",
              " 'ООО «РСХБ-Страхование жизни»',\n",
              " 'АО \"ГСМК\"',\n",
              " 'НКО ПОВС \"Страховой дом \"Платинум\"',\n",
              " 'ООО \"БСД\"',\n",
              " 'ООО \"ИНКОР Страхование\"',\n",
              " 'ООО \"МСГ\"',\n",
              " 'ООО \"МСК \"АйАйСи\"',\n",
              " 'ООО \"СК \"Капитал-полис\"',\n",
              " 'ООО \"СК \"Экспресс-страхование\"',\n",
              " 'ООО \"СМП-Страхование\"',\n",
              " 'ООО \"ТСК\"',\n",
              " 'АО \"Страховая группа  АВАНГАРД - ГАРАНТ\"',\n",
              " ' ГСАО \"Плато\"',\n",
              " 'АО  \"Цюрих надежное страхование\"',\n",
              " 'АО  СК  \"Ренессанс здоровье\"',\n",
              " 'АО \"АИГ\"',\n",
              " 'АО \"ГУТА-Страхование\"',\n",
              " 'АО \"СГ \"ПРЕСТИЖ-ПОЛИС\"',\n",
              " 'АО \"СК УСПЕХ\"',\n",
              " 'АО \"Страховая группа \"Спасские ворота-М\"',\n",
              " 'АО \"Страховая группа \"УралСиб\"',\n",
              " 'АО \"Страховая Компания  \"ПОЛИС-ГАРАНТ\"',\n",
              " 'АО \"Страховая компания  \"СОГАЗ-Мед\"',\n",
              " 'АО СК \"Ингвар\"',\n",
              " 'НКО \"ПОВС застройщиков\"',\n",
              " 'НКО ПОВС «Народные кассы»',\n",
              " 'ООО \"Атрадиус Рус Кредитное Страхование\"',\n",
              " 'ООО \"БИН Страхование\"',\n",
              " 'ООО \"ВСК-Милосердие\"',\n",
              " 'ООО \"Компания Банковского Страхования\"',\n",
              " 'ООО \"Кофас Рус Страховая Компания\"',\n",
              " 'ООО \"Кредендо – Ингосстрах  Кредитное Страхование\"',\n",
              " 'ООО \"РИКС\"',\n",
              " 'ООО \"СК \"Ингосстрах-М\"',\n",
              " 'ООО \"СК \"Ойлер Гермес Ру\"',\n",
              " 'ООО \"СК ИНТЕРИ\"',\n",
              " 'ООО \"СК Чабб\"',\n",
              " 'ООО \"Страховая компания \"ВИТАЛ-Полис\"',\n",
              " 'ООО \"Страховая компания \"СиВ Лайф\"',\n",
              " 'ООО «Страховая компания «Манго»',\n",
              " 'ООО ВТБ МС',\n",
              " 'ООО СК \"АСКОР\"',\n",
              " 'ООО СК \"Независимая страховая группа\"',\n",
              " 'ООО СК \"УРАЛСИБ СТРАХОВАНИЕ\"',\n",
              " 'ООО СК «БКС Страхование жизни»',\n",
              " 'ООО СК ЭчДиАй Глобал',\n",
              " 'ООО СПК \"Юнити Ре\"',\n",
              " 'САО \"ГЕОПОЛИС\"',\n",
              " 'САО \"ЛЕКСГАРАНТ\"',\n",
              " 'ООО \"СК Доминанта\"',\n",
              " 'ООО СМК \"АСТРА-МЕТАЛЛ\"',\n",
              " 'ООО СМК \"Урал-Рецепт М\"',\n",
              " 'СМК \"АСТРАМЕД-МС\" (АО)']"
            ]
          },
          "metadata": {
            "tags": []
          },
          "execution_count": 16
        }
      ]
    },
    {
      "cell_type": "code",
      "metadata": {
        "colab": {
          "base_uri": "https://localhost:8080/",
          "height": 0
        },
        "id": "cIDZT92j1yKZ",
        "outputId": "66bc6ef6-b23e-4321-a88b-b6fc5384dacd"
      },
      "source": [
        "df1['defendant'].unique().shape[0]"
      ],
      "execution_count": 17,
      "outputs": [
        {
          "output_type": "execute_result",
          "data": {
            "text/plain": [
              "3862"
            ]
          },
          "metadata": {
            "tags": []
          },
          "execution_count": 17
        }
      ]
    },
    {
      "cell_type": "code",
      "metadata": {
        "id": "cTLQysRS1yKZ"
      },
      "source": [
        "for i in range(0, df1_tmp.shape[0]):\n",
        "    flag = False    \n",
        "    for name in Insurance_company:\n",
        "        if not (df1_tmp['defendant'][i].lower().find(name.lower()) == -1):\n",
        "            for str_name in list_str:\n",
        "                if not (name.lower().find('Ренесанс') == -1):\n",
        "                    df1_tmp['defendant'][i] = 'АО \"Группа Ренессанс Страхование\"'\n",
        "                    flag = True\n",
        "                    break\n",
        "                if not (str_name.lower().find(name.lower()) == -1):\n",
        "                    df1_tmp['defendant'][i] = str_name\n",
        "                    flag = True\n",
        "                    break\n",
        "                else:\n",
        "                    continue\n",
        "        else:\n",
        "            continue\n",
        "        break\n",
        "    if not (flag):\n",
        "        df1_tmp['defendant'][i] = '###' + df1_tmp['defendant'][i]"
      ],
      "execution_count": 18,
      "outputs": []
    },
    {
      "cell_type": "code",
      "metadata": {
        "id": "ZbdpNkQj1yKa"
      },
      "source": [
        "data = {'defendant': [], 'Регион': []}\n"
      ],
      "execution_count": 19,
      "outputs": []
    },
    {
      "cell_type": "code",
      "metadata": {
        "id": "Q_x_NOEr1yKa"
      },
      "source": [
        "new_df = pd.DataFrame(data)\n",
        "j = 0\n",
        "for i in range(0, df1_tmp.shape[0]):\n",
        "    flag = False\n",
        "    name = df1_tmp['defendant'][i].lower()\n",
        "    for str_name in list_str:\n",
        "        if not (str_name.lower().find(name.lower()) == -1):\n",
        "            flag = True\n",
        "            break\n",
        "        else:\n",
        "            continue\n",
        "    if not (flag):\n",
        "        new_df.loc[j] = df1_tmp.loc[i]\n",
        "        df1_tmp['defendant'][i] = 'delete'\n",
        "        j += 1\n",
        "    else:\n",
        "        continue"
      ],
      "execution_count": 20,
      "outputs": []
    },
    {
      "cell_type": "code",
      "metadata": {
        "colab": {
          "base_uri": "https://localhost:8080/",
          "height": 0
        },
        "id": "WFTimQF81yKa",
        "outputId": "3346e36e-9e99-49c4-cc7c-b970fbac3f50"
      },
      "source": [
        "df1 = df1_tmp\n",
        "df1 = df1[df1['defendant'] != 'delete']\n",
        "print(df1[df1['defendant'] != 'delete'].reset_index(drop=True).shape[0])\n",
        "print(new_df.shape[0])"
      ],
      "execution_count": 21,
      "outputs": [
        {
          "output_type": "stream",
          "text": [
            "30908\n",
            "431\n"
          ],
          "name": "stdout"
        }
      ]
    },
    {
      "cell_type": "markdown",
      "metadata": {
        "id": "nKH71-_g1yKb"
      },
      "source": [
        "Несоответствия - есть, но пожертвуем ими, ввиду их малого объёма"
      ]
    },
    {
      "cell_type": "code",
      "metadata": {
        "colab": {
          "base_uri": "https://localhost:8080/",
          "height": 0
        },
        "id": "O5NmOl7_1yKb",
        "outputId": "01fe55ea-5791-4681-d732-210e3013cf68"
      },
      "source": [
        "new_df['defendant'].value_counts()"
      ],
      "execution_count": 22,
      "outputs": [
        {
          "output_type": "execute_result",
          "data": {
            "text/plain": [
              "###РСА                                                                                                                           105\n",
              "###Российский Союз Автостраховщиков                                                                                              102\n",
              "###АО \"Группа Ренесанс Страхование\"                                                                                               13\n",
              "###ПАО \"САК\"Энергогарант\"                                                                                                         11\n",
              "###Российский Союз Автостраховщиков (РСА)                                                                                         11\n",
              "                                                                                                                                ... \n",
              "###ООО СК \"ВТБ-Страхование\"                                                                                                        1\n",
              "###ООО КРК-СтрахованиеСуд (мировой судья) первой инстанции: Фрунзенский районный судНомер дела в первой инстанции: 2-763/2019      1\n",
              "###АО \"Группа Ренесанс Страхование\", Сатырь Егор Юрьевич                                                                           1\n",
              "###СК УралСиб Страхование                                                                                                          1\n",
              "###АО \"Группа Ренесанс Страхование\", Болквадзе Бадри Иосифович                                                                     1\n",
              "Name: defendant, Length: 140, dtype: int64"
            ]
          },
          "metadata": {
            "tags": []
          },
          "execution_count": 22
        }
      ]
    },
    {
      "cell_type": "code",
      "metadata": {
        "colab": {
          "base_uri": "https://localhost:8080/",
          "height": 0
        },
        "id": "0mfzCjW81yKb",
        "outputId": "2e629002-8336-4c69-ce40-129f42656a81"
      },
      "source": [
        "df1['defendant'].value_counts()"
      ],
      "execution_count": 23,
      "outputs": [
        {
          "output_type": "execute_result",
          "data": {
            "text/plain": [
              "ООО СК \"Росгосстрах Жизнь\"                9772\n",
              "АО \"АльфаСтрахование\"                     3916\n",
              "ООО \"ОСЖ РЕСО-Гарантия\"                   3794\n",
              "ООО \"СК \"Ингосстрах-Жизнь\"                3613\n",
              "АО \"СОГАЗ\"                                2507\n",
              "ООО \"ВСК-Линия жизни\"                     2363\n",
              "АО \"Группа Ренессанс Страхование\"         1758\n",
              "АО \"МАКС\"                                 1196\n",
              "Либерти Страхование (АО)                   346\n",
              "САО ЭРГО                                   341\n",
              "ПАО \"АСКО-СТРАХОВАНИЕ\"                     338\n",
              "АО  \"Тинькофф  Страхование\"                277\n",
              "ООО  \"Зетта Страхование\"                   125\n",
              "ООО \"СК \"Согласие\"                         111\n",
              "ООО \"СФ \"Адонис\"                            99\n",
              "АО СК \"Альянс\"                              79\n",
              "АО ВТБ Страхование жизни                    77\n",
              "АО \"СК \"ПАРИ\"                               67\n",
              "ООО \"Абсолют Страхование\"                   40\n",
              "ООО  \"СК \"Мегарусс-Д\"                       23\n",
              "АО \"Страховая бизнес группа\"                17\n",
              "ООО  СК \"Сбербанк страхование жизни\"        16\n",
              "САО \"Медэкспресс\"                           10\n",
              "ООО СО \"Геополис\"                            8\n",
              "АО \"МетЛайф\"                                 7\n",
              "АО \"Страховая Компания  \"ПОЛИС-ГАРАНТ\"       6\n",
              "АО \"АИГ\"                                     1\n",
              "АО СК \"РСХБ-Страхование\"                     1\n",
              "Name: defendant, dtype: int64"
            ]
          },
          "metadata": {
            "tags": []
          },
          "execution_count": 23
        }
      ]
    },
    {
      "cell_type": "code",
      "metadata": {
        "colab": {
          "base_uri": "https://localhost:8080/",
          "height": 0
        },
        "id": "CPhcYmqk1yKc",
        "outputId": "589ed9c9-b959-44d5-dd7a-e89707672067"
      },
      "source": [
        "df1_tmp = df1_tmp[df1_tmp['defendant'] != 'delete'].reset_index(drop=True)\n",
        "print('Кол-во уникальных Страховых = ',df1_tmp['defendant'].unique().shape[0])\n",
        "df1_tmp.to_excel('tmp.xlsx')\n",
        "df1 = df1_tmp"
      ],
      "execution_count": 24,
      "outputs": [
        {
          "output_type": "stream",
          "text": [
            "Кол-во уникальных Страховых =  28\n"
          ],
          "name": "stdout"
        }
      ]
    },
    {
      "cell_type": "markdown",
      "metadata": {
        "id": "3W1r6smz1yKc"
      },
      "source": [
        "## Объединим данные 1) по судам и 2) Статистика ЦБ РФ"
      ]
    },
    {
      "cell_type": "code",
      "metadata": {
        "colab": {
          "base_uri": "https://localhost:8080/",
          "height": 0
        },
        "id": "sG5rEacA1yKc",
        "outputId": "df1bda52-995a-415b-8749-47f0b76fd1b8"
      },
      "source": [
        "print('Размер df1 = ', df1.shape[0])\n",
        "print('Размер df2 = ', df2.shape[0])"
      ],
      "execution_count": 25,
      "outputs": [
        {
          "output_type": "stream",
          "text": [
            "Размер df1 =  30908\n",
            "Размер df2 =  689\n"
          ],
          "name": "stdout"
        }
      ]
    },
    {
      "cell_type": "code",
      "metadata": {
        "colab": {
          "base_uri": "https://localhost:8080/",
          "height": 0
        },
        "id": "BHAw-GWN1yKd",
        "outputId": "44d83904-61eb-4b7d-f018-c45f95de2d29"
      },
      "source": [
        "print(df1.head(10), '\\n\\n\\n\\n')\n",
        "print(df2.head(10))\n",
        "\n",
        "df1= df1.groupby(['defendant', 'Регион']).size().reset_index()"
      ],
      "execution_count": 26,
      "outputs": [
        {
          "output_type": "stream",
          "text": [
            "                           defendant           Регион\n",
            "0                         АО \"СОГАЗ\"  Санкт-Петербург\n",
            "1         ООО СК \"Росгосстрах Жизнь\"  Санкт-Петербург\n",
            "2         ООО \"СК \"Ингосстрах-Жизнь\"  Санкт-Петербург\n",
            "3              ООО \"ВСК-Линия жизни\"  Санкт-Петербург\n",
            "4            ООО \"ОСЖ РЕСО-Гарантия\"  Санкт-Петербург\n",
            "5            ООО \"ОСЖ РЕСО-Гарантия\"  Санкт-Петербург\n",
            "6            ООО \"ОСЖ РЕСО-Гарантия\"  Санкт-Петербург\n",
            "7              АО \"АльфаСтрахование\"  Санкт-Петербург\n",
            "8            ООО \"ОСЖ РЕСО-Гарантия\"  Санкт-Петербург\n",
            "9  АО \"Группа Ренессанс Страхование\"  Санкт-Петербург \n",
            "\n",
            "\n",
            "\n",
            "\n",
            "   Unnamed: 0  ... Страховые премии 2019\n",
            "0          56  ...          0.000000e+00\n",
            "1          57  ...          1.198536e+05\n",
            "2          58  ...          1.567389e+06\n",
            "3          59  ...          1.275443e+03\n",
            "4          60  ...          8.502255e+03\n",
            "5          61  ...          3.316553e+05\n",
            "6          62  ...          0.000000e+00\n",
            "7          63  ...          0.000000e+00\n",
            "8          64  ...          1.755921e+04\n",
            "9          65  ...          0.000000e+00\n",
            "\n",
            "[10 rows x 6 columns]\n"
          ],
          "name": "stdout"
        }
      ]
    },
    {
      "cell_type": "markdown",
      "metadata": {
        "id": "EDbGm9ox1yKd"
      },
      "source": [
        "### Агрегируем данные по судам и получаем кол-во судов по страховым в разрезе регионов"
      ]
    },
    {
      "cell_type": "code",
      "metadata": {
        "colab": {
          "base_uri": "https://localhost:8080/",
          "height": 436
        },
        "id": "aj5XCKWI1yKd",
        "outputId": "4a0fd7dc-bd48-4717-f59e-89fb84b95644"
      },
      "source": [
        "print(df1.columns)\n",
        "df1.rename(columns = {0:'Кол-во судов', 'defendant' : 'Страховая_Регион'}, inplace = True)\n",
        "df1"
      ],
      "execution_count": 27,
      "outputs": [
        {
          "output_type": "stream",
          "text": [
            "Index(['defendant', 'Регион', 0], dtype='object')\n"
          ],
          "name": "stdout"
        },
        {
          "output_type": "execute_result",
          "data": {
            "text/html": [
              "<div>\n",
              "<style scoped>\n",
              "    .dataframe tbody tr th:only-of-type {\n",
              "        vertical-align: middle;\n",
              "    }\n",
              "\n",
              "    .dataframe tbody tr th {\n",
              "        vertical-align: top;\n",
              "    }\n",
              "\n",
              "    .dataframe thead th {\n",
              "        text-align: right;\n",
              "    }\n",
              "</style>\n",
              "<table border=\"1\" class=\"dataframe\">\n",
              "  <thead>\n",
              "    <tr style=\"text-align: right;\">\n",
              "      <th></th>\n",
              "      <th>Страховая_Регион</th>\n",
              "      <th>Регион</th>\n",
              "      <th>Кол-во судов</th>\n",
              "    </tr>\n",
              "  </thead>\n",
              "  <tbody>\n",
              "    <tr>\n",
              "      <th>0</th>\n",
              "      <td>АО  \"Тинькофф  Страхование\"</td>\n",
              "      <td>Владивосток</td>\n",
              "      <td>4</td>\n",
              "    </tr>\n",
              "    <tr>\n",
              "      <th>1</th>\n",
              "      <td>АО  \"Тинькофф  Страхование\"</td>\n",
              "      <td>Екатеринбург</td>\n",
              "      <td>5</td>\n",
              "    </tr>\n",
              "    <tr>\n",
              "      <th>2</th>\n",
              "      <td>АО  \"Тинькофф  Страхование\"</td>\n",
              "      <td>Краснодар</td>\n",
              "      <td>178</td>\n",
              "    </tr>\n",
              "    <tr>\n",
              "      <th>3</th>\n",
              "      <td>АО  \"Тинькофф  Страхование\"</td>\n",
              "      <td>Москва</td>\n",
              "      <td>3</td>\n",
              "    </tr>\n",
              "    <tr>\n",
              "      <th>4</th>\n",
              "      <td>АО  \"Тинькофф  Страхование\"</td>\n",
              "      <td>Московская область</td>\n",
              "      <td>11</td>\n",
              "    </tr>\n",
              "    <tr>\n",
              "      <th>...</th>\n",
              "      <td>...</td>\n",
              "      <td>...</td>\n",
              "      <td>...</td>\n",
              "    </tr>\n",
              "    <tr>\n",
              "      <th>150</th>\n",
              "      <td>САО ЭРГО</td>\n",
              "      <td>Москва</td>\n",
              "      <td>1</td>\n",
              "    </tr>\n",
              "    <tr>\n",
              "      <th>151</th>\n",
              "      <td>САО ЭРГО</td>\n",
              "      <td>Московская область</td>\n",
              "      <td>11</td>\n",
              "    </tr>\n",
              "    <tr>\n",
              "      <th>152</th>\n",
              "      <td>САО ЭРГО</td>\n",
              "      <td>Нижний Новгород</td>\n",
              "      <td>23</td>\n",
              "    </tr>\n",
              "    <tr>\n",
              "      <th>153</th>\n",
              "      <td>САО ЭРГО</td>\n",
              "      <td>Ростов</td>\n",
              "      <td>18</td>\n",
              "    </tr>\n",
              "    <tr>\n",
              "      <th>154</th>\n",
              "      <td>САО ЭРГО</td>\n",
              "      <td>Санкт-Петербург</td>\n",
              "      <td>34</td>\n",
              "    </tr>\n",
              "  </tbody>\n",
              "</table>\n",
              "<p>155 rows × 3 columns</p>\n",
              "</div>"
            ],
            "text/plain": [
              "                Страховая_Регион              Регион  Кол-во судов\n",
              "0    АО  \"Тинькофф  Страхование\"         Владивосток             4\n",
              "1    АО  \"Тинькофф  Страхование\"        Екатеринбург             5\n",
              "2    АО  \"Тинькофф  Страхование\"           Краснодар           178\n",
              "3    АО  \"Тинькофф  Страхование\"              Москва             3\n",
              "4    АО  \"Тинькофф  Страхование\"  Московская область            11\n",
              "..                           ...                 ...           ...\n",
              "150                     САО ЭРГО              Москва             1\n",
              "151                     САО ЭРГО  Московская область            11\n",
              "152                     САО ЭРГО     Нижний Новгород            23\n",
              "153                     САО ЭРГО              Ростов            18\n",
              "154                     САО ЭРГО     Санкт-Петербург            34\n",
              "\n",
              "[155 rows x 3 columns]"
            ]
          },
          "metadata": {
            "tags": []
          },
          "execution_count": 27
        }
      ]
    },
    {
      "cell_type": "markdown",
      "metadata": {
        "id": "kV5ixtWo1yKe"
      },
      "source": [
        "![inner.jpg](data:image/jpeg;base64,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)"
      ]
    },
    {
      "cell_type": "code",
      "metadata": {
        "colab": {
          "base_uri": "https://localhost:8080/",
          "height": 419
        },
        "id": "VvU6Yfv41yKe",
        "outputId": "26cf5638-169b-4ec9-97ce-84b404203bbd"
      },
      "source": [
        "df = pd.merge(df1,df2,  on = ['Страховая_Регион', 'Регион'], how = 'inner').reset_index(drop=True)\n",
        "df = df[df['Заключенные договора 2019'] != 0]\n",
        "df['target'] = (df['Кол-во судов']) / (df['Заключенные договора 2019'])\n",
        "df = df.reset_index(drop=True)\n",
        "df"
      ],
      "execution_count": 41,
      "outputs": [
        {
          "output_type": "execute_result",
          "data": {
            "text/html": [
              "<div>\n",
              "<style scoped>\n",
              "    .dataframe tbody tr th:only-of-type {\n",
              "        vertical-align: middle;\n",
              "    }\n",
              "\n",
              "    .dataframe tbody tr th {\n",
              "        vertical-align: top;\n",
              "    }\n",
              "\n",
              "    .dataframe thead th {\n",
              "        text-align: right;\n",
              "    }\n",
              "</style>\n",
              "<table border=\"1\" class=\"dataframe\">\n",
              "  <thead>\n",
              "    <tr style=\"text-align: right;\">\n",
              "      <th></th>\n",
              "      <th>Страховая_Регион</th>\n",
              "      <th>Регион</th>\n",
              "      <th>Кол-во судов</th>\n",
              "      <th>Unnamed: 0</th>\n",
              "      <th>Выплаты 2019</th>\n",
              "      <th>Заключенные договора 2019</th>\n",
              "      <th>Страховые премии 2019</th>\n",
              "      <th>target</th>\n",
              "    </tr>\n",
              "  </thead>\n",
              "  <tbody>\n",
              "    <tr>\n",
              "      <th>0</th>\n",
              "      <td>АО  \"Тинькофф  Страхование\"</td>\n",
              "      <td>Владивосток</td>\n",
              "      <td>4</td>\n",
              "      <td>195</td>\n",
              "      <td>9490.85633</td>\n",
              "      <td>4359</td>\n",
              "      <td>25091.95518</td>\n",
              "      <td>0.000918</td>\n",
              "    </tr>\n",
              "    <tr>\n",
              "      <th>1</th>\n",
              "      <td>АО  \"Тинькофф  Страхование\"</td>\n",
              "      <td>Екатеринбург</td>\n",
              "      <td>5</td>\n",
              "      <td>2878</td>\n",
              "      <td>22402.62651</td>\n",
              "      <td>19402</td>\n",
              "      <td>125634.06797</td>\n",
              "      <td>0.000258</td>\n",
              "    </tr>\n",
              "    <tr>\n",
              "      <th>2</th>\n",
              "      <td>АО  \"Тинькофф  Страхование\"</td>\n",
              "      <td>Краснодар</td>\n",
              "      <td>178</td>\n",
              "      <td>57</td>\n",
              "      <td>39190.03329</td>\n",
              "      <td>19872</td>\n",
              "      <td>119853.62230</td>\n",
              "      <td>0.008957</td>\n",
              "    </tr>\n",
              "    <tr>\n",
              "      <th>3</th>\n",
              "      <td>АО  \"Тинькофф  Страхование\"</td>\n",
              "      <td>Москва</td>\n",
              "      <td>3</td>\n",
              "      <td>1945</td>\n",
              "      <td>460338.30854</td>\n",
              "      <td>68224</td>\n",
              "      <td>559408.35086</td>\n",
              "      <td>0.000044</td>\n",
              "    </tr>\n",
              "    <tr>\n",
              "      <th>4</th>\n",
              "      <td>АО  \"Тинькофф  Страхование\"</td>\n",
              "      <td>Московская область</td>\n",
              "      <td>11</td>\n",
              "      <td>2068</td>\n",
              "      <td>39933.56676</td>\n",
              "      <td>28002</td>\n",
              "      <td>222268.30879</td>\n",
              "      <td>0.000393</td>\n",
              "    </tr>\n",
              "    <tr>\n",
              "      <th>...</th>\n",
              "      <td>...</td>\n",
              "      <td>...</td>\n",
              "      <td>...</td>\n",
              "      <td>...</td>\n",
              "      <td>...</td>\n",
              "      <td>...</td>\n",
              "      <td>...</td>\n",
              "      <td>...</td>\n",
              "    </tr>\n",
              "    <tr>\n",
              "      <th>96</th>\n",
              "      <td>САО ЭРГО</td>\n",
              "      <td>Московская область</td>\n",
              "      <td>11</td>\n",
              "      <td>2129</td>\n",
              "      <td>15665.05804</td>\n",
              "      <td>742</td>\n",
              "      <td>8112.28552</td>\n",
              "      <td>0.014825</td>\n",
              "    </tr>\n",
              "    <tr>\n",
              "      <th>97</th>\n",
              "      <td>САО ЭРГО</td>\n",
              "      <td>Нижний Новгород</td>\n",
              "      <td>23</td>\n",
              "      <td>953</td>\n",
              "      <td>30114.02977</td>\n",
              "      <td>9312</td>\n",
              "      <td>66050.85506</td>\n",
              "      <td>0.002470</td>\n",
              "    </tr>\n",
              "    <tr>\n",
              "      <th>98</th>\n",
              "      <td>САО ЭРГО</td>\n",
              "      <td>Ростов</td>\n",
              "      <td>18</td>\n",
              "      <td>2719</td>\n",
              "      <td>61249.75237</td>\n",
              "      <td>7686</td>\n",
              "      <td>52415.60310</td>\n",
              "      <td>0.002342</td>\n",
              "    </tr>\n",
              "    <tr>\n",
              "      <th>99</th>\n",
              "      <td>САО ЭРГО</td>\n",
              "      <td>Санкт-Петербург</td>\n",
              "      <td>34</td>\n",
              "      <td>1802</td>\n",
              "      <td>66158.11895</td>\n",
              "      <td>4839</td>\n",
              "      <td>46509.62459</td>\n",
              "      <td>0.007026</td>\n",
              "    </tr>\n",
              "    <tr>\n",
              "      <th>100</th>\n",
              "      <td>САО ЭРГО</td>\n",
              "      <td>Санкт-Петербург</td>\n",
              "      <td>34</td>\n",
              "      <td>1854</td>\n",
              "      <td>32921.32912</td>\n",
              "      <td>4002</td>\n",
              "      <td>23112.65643</td>\n",
              "      <td>0.008496</td>\n",
              "    </tr>\n",
              "  </tbody>\n",
              "</table>\n",
              "<p>101 rows × 8 columns</p>\n",
              "</div>"
            ],
            "text/plain": [
              "                Страховая_Регион  ...    target\n",
              "0    АО  \"Тинькофф  Страхование\"  ...  0.000918\n",
              "1    АО  \"Тинькофф  Страхование\"  ...  0.000258\n",
              "2    АО  \"Тинькофф  Страхование\"  ...  0.008957\n",
              "3    АО  \"Тинькофф  Страхование\"  ...  0.000044\n",
              "4    АО  \"Тинькофф  Страхование\"  ...  0.000393\n",
              "..                           ...  ...       ...\n",
              "96                      САО ЭРГО  ...  0.014825\n",
              "97                      САО ЭРГО  ...  0.002470\n",
              "98                      САО ЭРГО  ...  0.002342\n",
              "99                      САО ЭРГО  ...  0.007026\n",
              "100                     САО ЭРГО  ...  0.008496\n",
              "\n",
              "[101 rows x 8 columns]"
            ]
          },
          "metadata": {
            "tags": []
          },
          "execution_count": 41
        }
      ]
    },
    {
      "cell_type": "code",
      "metadata": {
        "colab": {
          "base_uri": "https://localhost:8080/",
          "height": 0
        },
        "id": "paVvJjdk1yKe",
        "outputId": "49232525-ee5d-459b-a536-c992ac6cc8bb"
      },
      "source": [
        "df.shape[0]"
      ],
      "execution_count": 29,
      "outputs": [
        {
          "output_type": "execute_result",
          "data": {
            "text/plain": [
              "101"
            ]
          },
          "metadata": {
            "tags": []
          },
          "execution_count": 29
        }
      ]
    },
    {
      "cell_type": "markdown",
      "metadata": {
        "id": "STB05rQ61yKf"
      },
      "source": [
        "# Данные для обучения модели готовы!\n",
        "\n",
        "\n",
        "\n",
        "## Введение\n",
        "Линейная регрессия - один из наиболее хорошо изученных методов машинного обучения, позволяющий прогнозировать значения количественного признака в виде линейной комбинации прочих признаков с параметрами - весами модели. Оптимальные (в смысле минимальности некоторого функционала ошибки) параметры линейной регрессии можно найти аналитически с помощью нормального уравнения или численно с помощью методов оптимизации.  \n",
        "\n",
        "\n",
        "Линейная регрессия использует простой функционал качества - среднеквадратичную ошибку. Мы будем работать с выборкой, содержащей 3 признака. Для настройки параметров (весов) модели решается следующая задача:\n",
        "$$\\Large \\frac{1}{\\ell}\\sum_{i=1}^\\ell{{((w_0 + w_1x_{i1} + w_2x_{i2} +  w_3x_{i3}) - y_i)}^2} \\rightarrow \\min_{w_0, w_1, w_2, w_3},$$\n",
        "где $x_{i1}, x_{i2}, x_{i3}$ - значения признаков $i$-го объекта, $y_i$ - значение целевого признака $i$-го объекта, $\\ell$ - число объектов в обучающей выборке.\n",
        "\n",
        "\n",
        "# Использование линейной регрессии из библиотеки Scikit-learn из Python\n",
        "\n",
        "### Регрессионые параметры:\n",
        "- Средняя страховая выплата для страховой в выбранном регионе\n",
        "- Средняя страховая премия для страховой в выбранном регионе\n",
        "- Регион судебного дела\n",
        "\n",
        "### Целевой показатель:\n",
        "- кол-во судебных дел / кол-во полисов "
      ]
    },
    {
      "cell_type": "code",
      "metadata": {
        "colab": {
          "base_uri": "https://localhost:8080/",
          "height": 298
        },
        "id": "U3anYX6x1yKf",
        "outputId": "78f777e1-294f-41fc-9656-69504a2d99bb"
      },
      "source": [
        "df.plot(y='target', kind='hist', \n",
        "           color='blue',  title='Целевой показатель')"
      ],
      "execution_count": 30,
      "outputs": [
        {
          "output_type": "execute_result",
          "data": {
            "text/plain": [
              "<matplotlib.axes._subplots.AxesSubplot at 0x7fe1a98f42d0>"
            ]
          },
          "metadata": {
            "tags": []
          },
          "execution_count": 30
        },
        {
          "output_type": "display_data",
          "data": {
            "image/png": "[encoded data removed]",
            "text/plain": [
              "<Figure size 432x288 with 1 Axes>"
            ]
          },
          "metadata": {
            "tags": [],
            "needs_background": "light"
          }
        }
      ]
    },
    {
      "cell_type": "markdown",
      "metadata": {
        "id": "0LBD5QCg1yKg"
      },
      "source": [
        "## Зависимость target от выплат"
      ]
    },
    {
      "cell_type": "code",
      "metadata": {
        "colab": {
          "base_uri": "https://localhost:8080/",
          "height": 312
        },
        "id": "1SCEEw5c1yKg",
        "outputId": "8269416b-3026-4ca0-ef04-651815d7039d"
      },
      "source": [
        "def scatter_h_w():\n",
        "    ax = df.plot(x=\"Выплаты 2019\", y=\"target\",color = 'b', kind='scatter')\n",
        "    ax.set_ylabel(u\"target, у.е.\")\n",
        "    ax.set_xlabel(u\"Выплаты 2019, тыс. руб.\")\n",
        "    ax.set_title(u\"Зависимость target от выплат\")\n",
        "    ax.grid(True)\n",
        "    return ax\n",
        "scatter_h_w()"
      ],
      "execution_count": 31,
      "outputs": [
        {
          "output_type": "execute_result",
          "data": {
            "text/plain": [
              "<matplotlib.axes._subplots.AxesSubplot at 0x7fe1a9a02fd0>"
            ]
          },
          "metadata": {
            "tags": []
          },
          "execution_count": 31
        },
        {
          "output_type": "display_data",
          "data": {
            "image/png": "[encoded data removed]",
            "text/plain": [
              "<Figure size 432x288 with 1 Axes>"
            ]
          },
          "metadata": {
            "tags": [],
            "needs_background": "light"
          }
        }
      ]
    },
    {
      "cell_type": "code",
      "metadata": {
        "colab": {
          "base_uri": "https://localhost:8080/",
          "height": 312
        },
        "id": "MLiyBTV_1yKg",
        "outputId": "90d83d00-cc0f-44c4-b480-06f872170607"
      },
      "source": [
        "def scatter_h_w_1():\n",
        "    ax = df.plot(x=\"Страховые премии 2019\", y=\"target\",color = 'b', kind='scatter')\n",
        "    ax.set_ylabel(u\"target, у.е.\")\n",
        "    ax.set_xlabel(u\"Страховые премии 2019, тыс. руб.\")\n",
        "    ax.set_title(u\"Зависимость target от премий\")\n",
        "    ax.grid(True)\n",
        "    return ax\n",
        "scatter_h_w_1()"
      ],
      "execution_count": 32,
      "outputs": [
        {
          "output_type": "execute_result",
          "data": {
            "text/plain": [
              "<matplotlib.axes._subplots.AxesSubplot at 0x7fe1a9878f90>"
            ]
          },
          "metadata": {
            "tags": []
          },
          "execution_count": 32
        },
        {
          "output_type": "display_data",
          "data": {
            "image/png": "[encoded data removed]",
            "text/plain": [
              "<Figure size 432x288 with 1 Axes>"
            ]
          },
          "metadata": {
            "tags": [],
            "needs_background": "light"
          }
        }
      ]
    },
    {
      "cell_type": "code",
      "metadata": {
        "colab": {
          "base_uri": "https://localhost:8080/",
          "height": 312
        },
        "id": "EEAvc5Ne1yKh",
        "outputId": "4c1563c8-5b89-452c-f681-3cc7af95491d"
      },
      "source": [
        "def scatter_h_w_3():\n",
        "    ax = df.plot(x=\"Страховые премии 2019\", y=\"Выплаты 2019\",color = 'b', kind='scatter')\n",
        "    ax.set_ylabel(u\"Выплаты 2019, тыс. руб.\")\n",
        "    ax.set_xlabel(u\"Страховые премии 2019, тыс. руб.\")\n",
        "    ax.set_title(u\"Зависимость target от премий\")\n",
        "    ax.grid(True)\n",
        "    return ax\n",
        "scatter_h_w_3()"
      ],
      "execution_count": 33,
      "outputs": [
        {
          "output_type": "execute_result",
          "data": {
            "text/plain": [
              "<matplotlib.axes._subplots.AxesSubplot at 0x7fe1a9acbf50>"
            ]
          },
          "metadata": {
            "tags": []
          },
          "execution_count": 33
        },
        {
          "output_type": "display_data",
          "data": {
            "image/png": "[encoded data removed]",
            "text/plain": [
              "<Figure size 432x288 with 1 Axes>"
            ]
          },
          "metadata": {
            "tags": [],
            "needs_background": "light"
          }
        }
      ]
    },
    {
      "cell_type": "markdown",
      "metadata": {
        "id": "u7xZ1j2_1yKh"
      },
      "source": [
        "## Перевод региона из категориального признака в численный"
      ]
    },
    {
      "cell_type": "code",
      "metadata": {
        "colab": {
          "base_uri": "https://localhost:8080/",
          "height": 359
        },
        "id": "E9H2HH_U1yKh",
        "outputId": "62525f14-aa57-4987-c1f0-7bbb7f665d55"
      },
      "source": [
        "df_tmp = df\n",
        "df_tmp.head(10)"
      ],
      "execution_count": 37,
      "outputs": [
        {
          "output_type": "execute_result",
          "data": {
            "text/html": [
              "<div>\n",
              "<style scoped>\n",
              "    .dataframe tbody tr th:only-of-type {\n",
              "        vertical-align: middle;\n",
              "    }\n",
              "\n",
              "    .dataframe tbody tr th {\n",
              "        vertical-align: top;\n",
              "    }\n",
              "\n",
              "    .dataframe thead th {\n",
              "        text-align: right;\n",
              "    }\n",
              "</style>\n",
              "<table border=\"1\" class=\"dataframe\">\n",
              "  <thead>\n",
              "    <tr style=\"text-align: right;\">\n",
              "      <th></th>\n",
              "      <th>Регион</th>\n",
              "      <th>Unnamed: 0</th>\n",
              "      <th>Выплаты 2019</th>\n",
              "      <th>Страховые премии 2019</th>\n",
              "      <th>target</th>\n",
              "    </tr>\n",
              "  </thead>\n",
              "  <tbody>\n",
              "    <tr>\n",
              "      <th>0</th>\n",
              "      <td>Владивосток</td>\n",
              "      <td>195</td>\n",
              "      <td>9490.85633</td>\n",
              "      <td>25091.95518</td>\n",
              "      <td>0.000918</td>\n",
              "    </tr>\n",
              "    <tr>\n",
              "      <th>1</th>\n",
              "      <td>Екатеринбург</td>\n",
              "      <td>2878</td>\n",
              "      <td>22402.62651</td>\n",
              "      <td>125634.06797</td>\n",
              "      <td>0.000258</td>\n",
              "    </tr>\n",
              "    <tr>\n",
              "      <th>2</th>\n",
              "      <td>Краснодар</td>\n",
              "      <td>57</td>\n",
              "      <td>39190.03329</td>\n",
              "      <td>119853.62230</td>\n",
              "      <td>0.008957</td>\n",
              "    </tr>\n",
              "    <tr>\n",
              "      <th>3</th>\n",
              "      <td>Москва</td>\n",
              "      <td>1945</td>\n",
              "      <td>460338.30854</td>\n",
              "      <td>559408.35086</td>\n",
              "      <td>0.000044</td>\n",
              "    </tr>\n",
              "    <tr>\n",
              "      <th>4</th>\n",
              "      <td>Московская область</td>\n",
              "      <td>2068</td>\n",
              "      <td>39933.56676</td>\n",
              "      <td>222268.30879</td>\n",
              "      <td>0.000393</td>\n",
              "    </tr>\n",
              "    <tr>\n",
              "      <th>5</th>\n",
              "      <td>Нижний Новгород</td>\n",
              "      <td>880</td>\n",
              "      <td>22829.10317</td>\n",
              "      <td>65368.06277</td>\n",
              "      <td>0.000868</td>\n",
              "    </tr>\n",
              "    <tr>\n",
              "      <th>6</th>\n",
              "      <td>Ростов</td>\n",
              "      <td>2652</td>\n",
              "      <td>28658.62803</td>\n",
              "      <td>79817.91627</td>\n",
              "      <td>0.004030</td>\n",
              "    </tr>\n",
              "    <tr>\n",
              "      <th>7</th>\n",
              "      <td>Санкт-Петербург</td>\n",
              "      <td>1720</td>\n",
              "      <td>48712.50497</td>\n",
              "      <td>233608.27440</td>\n",
              "      <td>0.000383</td>\n",
              "    </tr>\n",
              "    <tr>\n",
              "      <th>8</th>\n",
              "      <td>Санкт-Петербург</td>\n",
              "      <td>1805</td>\n",
              "      <td>9470.78154</td>\n",
              "      <td>37413.68001</td>\n",
              "      <td>0.001997</td>\n",
              "    </tr>\n",
              "    <tr>\n",
              "      <th>9</th>\n",
              "      <td>Владивосток</td>\n",
              "      <td>196</td>\n",
              "      <td>568642.04478</td>\n",
              "      <td>349168.49960</td>\n",
              "      <td>0.002869</td>\n",
              "    </tr>\n",
              "  </tbody>\n",
              "</table>\n",
              "</div>"
            ],
            "text/plain": [
              "               Регион  Unnamed: 0  ...  Страховые премии 2019    target\n",
              "0         Владивосток         195  ...            25091.95518  0.000918\n",
              "1        Екатеринбург        2878  ...           125634.06797  0.000258\n",
              "2           Краснодар          57  ...           119853.62230  0.008957\n",
              "3              Москва        1945  ...           559408.35086  0.000044\n",
              "4  Московская область        2068  ...           222268.30879  0.000393\n",
              "5     Нижний Новгород         880  ...            65368.06277  0.000868\n",
              "6              Ростов        2652  ...            79817.91627  0.004030\n",
              "7     Санкт-Петербург        1720  ...           233608.27440  0.000383\n",
              "8     Санкт-Петербург        1805  ...            37413.68001  0.001997\n",
              "9         Владивосток         196  ...           349168.49960  0.002869\n",
              "\n",
              "[10 rows x 5 columns]"
            ]
          },
          "metadata": {
            "tags": []
          },
          "execution_count": 37
        }
      ]
    },
    {
      "cell_type": "code",
      "metadata": {
        "colab": {
          "base_uri": "https://localhost:8080/",
          "height": 0
        },
        "id": "ZwAWWmBP1yKh",
        "outputId": "58e31c80-252f-4467-b316-be4807d84d23"
      },
      "source": [
        "from sklearn.preprocessing import LabelEncoder\n",
        "from sklearn.preprocessing import OneHotEncoder\n",
        "from sklearn.preprocessing import LabelBinarizer\n",
        "from sklearn.feature_extraction import DictVectorizer as DV\n",
        "df = df.drop(['Страховая_Регион'], axis = 1)\n",
        "df = df.drop(['Кол-во судов'], axis = 1)\n",
        "df = df.drop(['Заключенные договора 2019'], axis = 1)\n",
        "\n",
        "labelencoder = LabelEncoder()\n",
        "regions = df_tmp['Регион'].unique()\n",
        "print(regions)\n",
        "\n",
        "encoder = DV(sparse = False)\n",
        "onehotencoder = OneHotEncoder([regions], handle_unknown='error', sparse=True)\n",
        "\n",
        "\n",
        "encoded_data = encoder.fit_transform(df.T.to_dict().values())"
      ],
      "execution_count": 42,
      "outputs": [
        {
          "output_type": "stream",
          "text": [
            "['Владивосток' 'Екатеринбург' 'Краснодар' 'Москва' 'Московская область'\n",
            " 'Нижний Новгород' 'Ростов' 'Санкт-Петербург']\n"
          ],
          "name": "stdout"
        }
      ]
    },
    {
      "cell_type": "code",
      "metadata": {
        "colab": {
          "base_uri": "https://localhost:8080/",
          "height": 204
        },
        "id": "EvFc8EBa1yKi",
        "outputId": "b1596764-0d01-42ff-83ab-07c84ca19693"
      },
      "source": [
        "df = pd.DataFrame(encoded_data)\n",
        "df.head()"
      ],
      "execution_count": 43,
      "outputs": [
        {
          "output_type": "execute_result",
          "data": {
            "text/html": [
              "<div>\n",
              "<style scoped>\n",
              "    .dataframe tbody tr th:only-of-type {\n",
              "        vertical-align: middle;\n",
              "    }\n",
              "\n",
              "    .dataframe tbody tr th {\n",
              "        vertical-align: top;\n",
              "    }\n",
              "\n",
              "    .dataframe thead th {\n",
              "        text-align: right;\n",
              "    }\n",
              "</style>\n",
              "<table border=\"1\" class=\"dataframe\">\n",
              "  <thead>\n",
              "    <tr style=\"text-align: right;\">\n",
              "      <th></th>\n",
              "      <th>0</th>\n",
              "      <th>1</th>\n",
              "      <th>2</th>\n",
              "      <th>3</th>\n",
              "      <th>4</th>\n",
              "      <th>5</th>\n",
              "      <th>6</th>\n",
              "      <th>7</th>\n",
              "      <th>8</th>\n",
              "      <th>9</th>\n",
              "      <th>10</th>\n",
              "      <th>11</th>\n",
              "    </tr>\n",
              "  </thead>\n",
              "  <tbody>\n",
              "    <tr>\n",
              "      <th>0</th>\n",
              "      <td>195.0</td>\n",
              "      <td>0.000918</td>\n",
              "      <td>9490.85633</td>\n",
              "      <td>1.0</td>\n",
              "      <td>0.0</td>\n",
              "      <td>0.0</td>\n",
              "      <td>0.0</td>\n",
              "      <td>0.0</td>\n",
              "      <td>0.0</td>\n",
              "      <td>0.0</td>\n",
              "      <td>0.0</td>\n",
              "      <td>25091.95518</td>\n",
              "    </tr>\n",
              "    <tr>\n",
              "      <th>1</th>\n",
              "      <td>2878.0</td>\n",
              "      <td>0.000258</td>\n",
              "      <td>22402.62651</td>\n",
              "      <td>0.0</td>\n",
              "      <td>1.0</td>\n",
              "      <td>0.0</td>\n",
              "      <td>0.0</td>\n",
              "      <td>0.0</td>\n",
              "      <td>0.0</td>\n",
              "      <td>0.0</td>\n",
              "      <td>0.0</td>\n",
              "      <td>125634.06797</td>\n",
              "    </tr>\n",
              "    <tr>\n",
              "      <th>2</th>\n",
              "      <td>57.0</td>\n",
              "      <td>0.008957</td>\n",
              "      <td>39190.03329</td>\n",
              "      <td>0.0</td>\n",
              "      <td>0.0</td>\n",
              "      <td>1.0</td>\n",
              "      <td>0.0</td>\n",
              "      <td>0.0</td>\n",
              "      <td>0.0</td>\n",
              "      <td>0.0</td>\n",
              "      <td>0.0</td>\n",
              "      <td>119853.62230</td>\n",
              "    </tr>\n",
              "    <tr>\n",
              "      <th>3</th>\n",
              "      <td>1945.0</td>\n",
              "      <td>0.000044</td>\n",
              "      <td>460338.30854</td>\n",
              "      <td>0.0</td>\n",
              "      <td>0.0</td>\n",
              "      <td>0.0</td>\n",
              "      <td>1.0</td>\n",
              "      <td>0.0</td>\n",
              "      <td>0.0</td>\n",
              "      <td>0.0</td>\n",
              "      <td>0.0</td>\n",
              "      <td>559408.35086</td>\n",
              "    </tr>\n",
              "    <tr>\n",
              "      <th>4</th>\n",
              "      <td>2068.0</td>\n",
              "      <td>0.000393</td>\n",
              "      <td>39933.56676</td>\n",
              "      <td>0.0</td>\n",
              "      <td>0.0</td>\n",
              "      <td>0.0</td>\n",
              "      <td>0.0</td>\n",
              "      <td>1.0</td>\n",
              "      <td>0.0</td>\n",
              "      <td>0.0</td>\n",
              "      <td>0.0</td>\n",
              "      <td>222268.30879</td>\n",
              "    </tr>\n",
              "  </tbody>\n",
              "</table>\n",
              "</div>"
            ],
            "text/plain": [
              "       0         1             2    3    4   ...   7    8    9    10            11\n",
              "0   195.0  0.000918    9490.85633  1.0  0.0  ...  0.0  0.0  0.0  0.0   25091.95518\n",
              "1  2878.0  0.000258   22402.62651  0.0  1.0  ...  0.0  0.0  0.0  0.0  125634.06797\n",
              "2    57.0  0.008957   39190.03329  0.0  0.0  ...  0.0  0.0  0.0  0.0  119853.62230\n",
              "3  1945.0  0.000044  460338.30854  0.0  0.0  ...  0.0  0.0  0.0  0.0  559408.35086\n",
              "4  2068.0  0.000393   39933.56676  0.0  0.0  ...  1.0  0.0  0.0  0.0  222268.30879\n",
              "\n",
              "[5 rows x 12 columns]"
            ]
          },
          "metadata": {
            "tags": []
          },
          "execution_count": 43
        }
      ]
    },
    {
      "cell_type": "markdown",
      "metadata": {
        "id": "0fvp0G5J1yKi"
      },
      "source": [
        "В простейшей постановке задача прогноза значения вещественного признака по прочим признакам (задача восстановления регрессии) решается минимизацией квадратичной функции ошибки. \n",
        "\n",
        "**[6].** Напишем функцию, которая по трём параметрам $w_0$, $w_1$,  $w_2$ и $w_3$ вычисляет квадратичную ошибку приближения зависимости target $y$ от 3-х параметров $x$ гиперплоскостью $y = w_0 + w_1 * x1 + w2 * x2 + w3 * x3$:\n",
        "$$error(w_0, w_1, w_2, w_3) = \\sum_{i=1}^n {(y_i - (w_0 + w_1 * x_{i1} + w_2 * x_{i2} + w_3 * x_{i3}))}^2 $$\n",
        "Здесь $n$ – число наблюдений в наборе данных, $y_i$ и $x_i$ – target и вектор признаков $i$-ой страховой в регионе. "
      ]
    },
    {
      "cell_type": "markdown",
      "metadata": {
        "id": "DBr_PbJn1yKj"
      },
      "source": [
        "## Разбивка выборки на обучение и тест"
      ]
    },
    {
      "cell_type": "code",
      "metadata": {
        "colab": {
          "base_uri": "https://localhost:8080/",
          "height": 0
        },
        "id": "uolbPmtH1yKj",
        "outputId": "7ec63c3a-7fdf-4a60-e021-5a683e0bf78f"
      },
      "source": [
        "#from sklearn.preprocessing import StandardScaler\n",
        "#scaler = StandardScaler()\n",
        "#scaler.fit(df) \n",
        "#df = scaler.transform(df)\n",
        "\n",
        "X = np.array(df[list(range(1, 11))])\n",
        "y = np.array(df[0])\n",
        "\n",
        "from sklearn.model_selection import train_test_split\n",
        "X_train, X_test, y_train, y_test = train_test_split(X, y, test_size=0.2, random_state=1)\n",
        "X,y"
      ],
      "execution_count": 48,
      "outputs": [
        {
          "output_type": "execute_result",
          "data": {
            "text/plain": [
              "(array([[9.17641661e-04, 9.49085633e+03, 1.00000000e+00, ...,\n",
              "         0.00000000e+00, 0.00000000e+00, 0.00000000e+00],\n",
              "        [2.57705391e-04, 2.24026265e+04, 0.00000000e+00, ...,\n",
              "         0.00000000e+00, 0.00000000e+00, 0.00000000e+00],\n",
              "        [8.95732689e-03, 3.91900333e+04, 0.00000000e+00, ...,\n",
              "         0.00000000e+00, 0.00000000e+00, 0.00000000e+00],\n",
              "        ...,\n",
              "        [2.34192037e-03, 6.12497524e+04, 0.00000000e+00, ...,\n",
              "         0.00000000e+00, 1.00000000e+00, 0.00000000e+00],\n",
              "        [7.02624509e-03, 6.61581190e+04, 0.00000000e+00, ...,\n",
              "         0.00000000e+00, 0.00000000e+00, 1.00000000e+00],\n",
              "        [8.49575212e-03, 3.29213291e+04, 0.00000000e+00, ...,\n",
              "         0.00000000e+00, 0.00000000e+00, 1.00000000e+00]]),\n",
              " array([ 195., 2878.,   57., 1945., 2068.,  880., 2652., 1720., 1805.,\n",
              "         196., 2879.,   58., 1949., 2069.,  881., 2653., 1721., 1806.,\n",
              "        2881.,   60., 1951., 2071.,  883., 2655., 1723., 1808.,  202.,\n",
              "        2885.,   64., 1956., 2075.,  887., 2658., 1728.,  206.,   69.,\n",
              "        1962.,  892., 2662.,  210., 2895.,   72., 1967., 2081.,  895.,\n",
              "        2666., 1737., 1817.,  211.,   73., 2082.,  896., 2667., 1738.,\n",
              "        1818.,  907., 1748., 2907.,   83., 1988., 2091.,  908., 2677.,\n",
              "        1751., 1825.,   84., 1989., 2678.,  221., 2910.,   86., 1992.,\n",
              "        2094., 2680., 2019., 2931.,  108.,  934., 2701.,  248.,  118.,\n",
              "        2054., 2122.,  945., 2711., 2946.,  120.,  947., 2713.,  124.,\n",
              "        2063., 2717.,  254., 2952.,  126., 2065., 2129.,  953., 2719.,\n",
              "        1802., 1854.]))"
            ]
          },
          "metadata": {
            "tags": []
          },
          "execution_count": 48
        }
      ]
    },
    {
      "cell_type": "markdown",
      "metadata": {
        "id": "R2pibh541yKj"
      },
      "source": [
        "## Обучение"
      ]
    },
    {
      "cell_type": "code",
      "metadata": {
        "id": "BMn43gxV1yKj"
      },
      "source": [
        "from sklearn.linear_model import LinearRegression\n",
        "from sklearn.linear_model import SGDRegressor\n",
        "from sklearn.metrics import mean_squared_error\n",
        "from sklearn.preprocessing import StandardScaler\n",
        "\n",
        "\n",
        "linear_regression_model = LinearRegression(normalize = True, n_jobs = -1)\n",
        "linear_regression_model.fit(X_train, y_train)\n",
        "y_pred = linear_regression_model.predict(X_test)\n",
        "mse = mean_squared_error(y_pred, y_test) \n",
        "\n",
        "\n",
        "#model = LinearRegression(normalize = True, n_jobs = -1)\n",
        "#model.fit(X_train, y_train)"
      ],
      "execution_count": 49,
      "outputs": []
    },
    {
      "cell_type": "markdown",
      "metadata": {
        "id": "9x4sX6vC1yKk"
      },
      "source": [
        "## Оценка качества модели"
      ]
    },
    {
      "cell_type": "code",
      "metadata": {
        "id": "enzsW46l1yKk"
      },
      "source": [
        "from sklearn import metrics \n",
        "#y_pred = model.predict(X_test)"
      ],
      "execution_count": 50,
      "outputs": []
    },
    {
      "cell_type": "code",
      "metadata": {
        "colab": {
          "base_uri": "https://localhost:8080/",
          "height": 0
        },
        "id": "E1g7M8SV1yKk",
        "outputId": "45de486f-74dc-4f73-edfa-9733f1c5409f"
      },
      "source": [
        "print(y_pred)\n",
        "print(y_test)"
      ],
      "execution_count": 51,
      "outputs": [
        {
          "output_type": "stream",
          "text": [
            "[  86. 2688. 1770. 1777. 2002. 2879.  910.  911. 2090. 2688. 2005.  903.\n",
            "  908. 2899.   90.   88. 2006.   88. 2005.   88. 1774.]\n",
            "[ 126. 2701. 1806. 1854. 1962. 2946.  907.  945. 2122. 2667. 2065.  895.\n",
            "  887. 2952.   84.   69. 1989.   86. 2054.  118. 1728.]\n"
          ],
          "name": "stdout"
        }
      ]
    },
    {
      "cell_type": "code",
      "metadata": {
        "colab": {
          "base_uri": "https://localhost:8080/",
          "height": 0
        },
        "id": "reP8GqGW1yKk",
        "outputId": "7edb69c9-587c-4eb6-a888-5b59be645c3e"
      },
      "source": [
        "mse = ((y_pred-y_test)**2).mean()\n",
        "mae = abs(y_pred-y_test).mean()\n",
        "print(\"MSE = \", mse)\n",
        "print(\"MSE / mean_y = \", mse / y_test.mean())\n",
        "print(\"MAE = \", mae)"
      ],
      "execution_count": 52,
      "outputs": [
        {
          "output_type": "stream",
          "text": [
            "MSE =  1463.5238095238096\n",
            "MSE / mean_y =  0.9926040758324454\n",
            "MAE =  32.095238095238095\n"
          ],
          "name": "stdout"
        }
      ]
    },
    {
      "cell_type": "code",
      "metadata": {
        "colab": {
          "base_uri": "https://localhost:8080/",
          "height": 268
        },
        "id": "Jj0bfhBp1yKl",
        "outputId": "57f3d0a8-8863-4b72-901a-63dc0f7f212f"
      },
      "source": [
        "data = {'test': y_test,\n",
        "        'predict': y_pred}\n",
        "res = pd.DataFrame(data)\n",
        "res.plot(kind='bar')\n",
        "plt.show()"
      ],
      "execution_count": 53,
      "outputs": [
        {
          "output_type": "display_data",
          "data": {
            "image/png": "[encoded data removed]",
            "text/plain": [
              "<Figure size 432x288 with 1 Axes>"
            ]
          },
          "metadata": {
            "tags": [],
            "needs_background": "light"
          }
        }
      ]
    },
    {
      "cell_type": "markdown",
      "metadata": {
        "id": "5RY7_7fJ1yKl"
      },
      "source": [
        "## Вывод:\n",
        "Гипотеза не верна, поскольку слишком большая неточность на тестовой выборке. \n",
        "## Причины\n",
        "1) Неверное предположение о взаимосвязи параметров\n",
        "\n",
        "2) Маленький объём выборки\n",
        "\n",
        "3) Почти отсутствующие данные о страховых премиях(для многих страховых указаны 0)"
      ]
    },
    {
      "cell_type": "code",
      "metadata": {
        "id": "dUdKyKx454IC"
      },
      "source": [
        ""
      ],
      "execution_count": 53,
      "outputs": []
    }
  ]
}